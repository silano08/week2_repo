{
  "nbformat": 4,
  "nbformat_minor": 0,
  "metadata": {
    "colab": {
      "name": "알고리즘_풀이_16조_개인!!!!원가연.ipynb의 사본",
      "provenance": [],
      "collapsed_sections": []
    },
    "kernelspec": {
      "name": "python3",
      "display_name": "Python 3"
    }
  },
  "cells": [
    {
      "cell_type": "markdown",
      "metadata": {
        "id": "6c0GmHAgo9FP"
      },
      "source": [
        "# 1번째 문제"
      ]
    },
    {
      "cell_type": "markdown",
      "metadata": {
        "id": "S3Ha8z13xVKU"
      },
      "source": [
        "## 1번방식"
      ]
    },
    {
      "cell_type": "code",
      "metadata": {
        "colab": {
          "base_uri": "https://localhost:8080/"
        },
        "id": "gzwGuwC2lJLr",
        "outputId": "9952a2aa-ab09-4ba1-92d2-de4cdfdc1e90"
      },
      "source": [
        "a,b = input().split()\r\n",
        "a = int(a)\r\n",
        "b = int(b)\r\n",
        "\r\n",
        "print(a+b)\r\n",
        "print(a-b)\r\n",
        "print(a*b)\r\n",
        "print(int(a/b))\r\n",
        "#print(a//b)\r\n",
        "print(a%b)\r\n",
        "#print(\"%d\\n%d\\n%d\\n%d\\n%d\"%(a+b, a-b, a*b, a/b, a%b))"
      ],
      "execution_count": null,
      "outputs": [
        {
          "output_type": "stream",
          "text": [
            "7 3\n",
            "10\n",
            "4\n",
            "21\n",
            "2\n",
            "1\n"
          ],
          "name": "stdout"
        }
      ]
    },
    {
      "cell_type": "markdown",
      "metadata": {
        "id": "y44Bm0ZVxaPI"
      },
      "source": [
        "## 2번방식"
      ]
    },
    {
      "cell_type": "code",
      "metadata": {
        "id": "V9w9C09husqo"
      },
      "source": [
        "a,b = input().split()\r\n",
        "a,b = int(a),int(b)\r\n",
        "\r\n",
        "def num(w,z):\r\n",
        "  print(w+z)\r\n",
        "  print(w-z)\r\n",
        "  print(w*z)\r\n",
        "  print(int(w/z))\r\n",
        "  print(w%z)\r\n",
        "\r\n",
        "num(a,b)"
      ],
      "execution_count": null,
      "outputs": []
    },
    {
      "cell_type": "markdown",
      "metadata": {
        "id": "YzZTZ3Who_nW"
      },
      "source": [
        "#2번째 문제"
      ]
    },
    {
      "cell_type": "code",
      "metadata": {
        "id": "8DkcSO68qkq5",
        "colab": {
          "base_uri": "https://localhost:8080/"
        },
        "outputId": "4aa9a750-cca3-488e-e519-15af51918634"
      },
      "source": [
        "##### 이건 제가 풀었습니다\r\n",
        "# str타입일때 분해해서\r\n",
        "\r\n",
        "a = int(input())\r\n",
        "b = input()\r\n",
        "\r\n",
        "# 첫번째는 a와 b의 일의자리수\r\n",
        "print(a*int(b[2]))\r\n",
        "# 두번째는 a와 b의 십의자리수\r\n",
        "print(a*int(b[1]))\r\n",
        "# 세번째는 a와 b의 백의자리수\r\n",
        "print(a*int(b[0]))\r\n",
        "\r\n",
        "# a와 b\r\n",
        "print(a*int(b))"
      ],
      "execution_count": null,
      "outputs": [
        {
          "output_type": "stream",
          "text": [
            "472 385\n",
            "2360\n",
            "3776\n",
            "1416\n",
            "181720\n"
          ],
          "name": "stdout"
        }
      ]
    },
    {
      "cell_type": "code",
      "metadata": {
        "colab": {
          "base_uri": "https://localhost:8080/"
        },
        "id": "GB2g0c8ao-Vr",
        "outputId": "370ff6a1-1bfe-422a-b989-02710aaa4329"
      },
      "source": [
        "#### 이건 input값 어떻게 처리해야하지하고 가져온 다른사람코드\r\n",
        "\r\n",
        "num1 = int(input())\r\n",
        "num2 = input()\r\n",
        " \r\n",
        "for i in range(0, 3):\r\n",
        "    result = num1*int(num2[2-i])\r\n",
        "    print(result)\r\n",
        " \r\n",
        "print(num1*int(num2))"
      ],
      "execution_count": null,
      "outputs": [
        {
          "output_type": "stream",
          "text": [
            "472\n",
            "385\n",
            "2360\n",
            "3776\n",
            "1416\n",
            "181720\n"
          ],
          "name": "stdout"
        }
      ]
    },
    {
      "cell_type": "markdown",
      "metadata": {
        "id": "7W6s2OKJ2nFr"
      },
      "source": [
        "# 3번"
      ]
    },
    {
      "cell_type": "code",
      "metadata": {
        "id": "e_M3eg0PwapF",
        "colab": {
          "base_uri": "https://localhost:8080/"
        },
        "outputId": "87d00464-032a-485e-8889-32104e21f12a"
      },
      "source": [
        "hour,min= map(int,input().split())\r\n",
        "\r\n",
        "# 이렇게짜면 예외상황이 자주 발생하니까\r\n",
        "# if hour==0 and min<44:\r\n",
        "#   print(23-hour,60-45+min)\r\n",
        "# elif hour==0 and min>=45:\r\n",
        "#   print(hour,min-45)\r\n",
        "# elif hour!=0 and min<44:\r\n",
        "#   print(hour-1,60-45+min)\r\n",
        "# else:\r\n",
        "#   print(hour-1,min-45)\r\n",
        "\r\n",
        "# 현재시간이 45분이 넘었는지를 기준으로 판단\r\n",
        "if min <45:\r\n",
        "  # 특이케이스인 00시에만 분을 줄이면 23시라고 선언\r\n",
        "  if hour ==0:\r\n",
        "    hour = 23\r\n",
        "  else:\r\n",
        "    hour = hour-1\r\n",
        "  min = min + 15\r\n",
        "else:\r\n",
        "  min = min - 45\r\n",
        "\r\n",
        "print(hour,min)\r\n",
        "\r\n"
      ],
      "execution_count": null,
      "outputs": [
        {
          "output_type": "stream",
          "text": [
            "0 15\n",
            "23 30\n"
          ],
          "name": "stdout"
        }
      ]
    },
    {
      "cell_type": "code",
      "metadata": {
        "id": "wyjHtcPF2qMR",
        "colab": {
          "base_uri": "https://localhost:8080/"
        },
        "outputId": "9a13fb3a-c802-4473-e60d-57e2105cd44d"
      },
      "source": [
        "## 채진욱님 풀이방법 ###\r\n",
        "#변수를 입력받는 방법\r\n",
        "h,m = map(int, input().split())\r\n",
        "\r\n",
        "\r\n",
        "#문제풀이\r\n",
        "if m < 45:\r\n",
        "    if h == 0:\r\n",
        "        h= 23\r\n",
        "    else:\r\n",
        "        h=h-1\r\n",
        "    m = m+15\r\n",
        "else :\r\n",
        "    m=m-45\r\n",
        "\r\n",
        "print(h,m)"
      ],
      "execution_count": null,
      "outputs": [
        {
          "output_type": "stream",
          "text": [
            "0 50\n",
            "0 5\n"
          ],
          "name": "stdout"
        }
      ]
    },
    {
      "cell_type": "code",
      "metadata": {
        "id": "nuiBbfZH2m43",
        "colab": {
          "base_uri": "https://localhost:8080/"
        },
        "outputId": "3cedc0f9-0732-42c0-94a8-50a989cfafca"
      },
      "source": [
        "hour = 0 , min>45\r\n",
        " print(24-hour,min-45)\r\n",
        "hour = 0 , min < 45\r\n",
        "print(24-hour,M-45+min)\r\n",
        "hour != 0 , min>45\r\n",
        "print(hour-1,min-45)\r\n",
        "hout !=0 , ming<45\r\n",
        "print(hour-1,M-45+min)"
      ],
      "execution_count": null,
      "outputs": [
        {
          "output_type": "execute_result",
          "data": {
            "text/plain": [
              "0"
            ]
          },
          "metadata": {
            "tags": []
          },
          "execution_count": 77
        }
      ]
    },
    {
      "cell_type": "markdown",
      "metadata": {
        "id": "LAASGna97DHj"
      },
      "source": [
        "# 4번"
      ]
    },
    {
      "cell_type": "markdown",
      "metadata": {
        "id": "92TxKnJGR6Ql"
      },
      "source": [
        "0보다 크거나 같고, 99보다 작거나 같은 정수가 주어질 때 다음과 같은 연산을 할 수 있다. 먼저 주어진 수가 10보다 작다면 앞에 0을 붙여 두 자리 수로 만들고, 각 자리의 숫자를 더한다. 그 다음, 주어진 수의 가장 오른쪽 자리 수와 앞에서 구한 합의 가장 오른쪽 자리 수를 이어 붙이면 새로운 수를 만들 수 있다. 다음 예를 보자.\r\n",
        "\r\n",
        "26부터 시작한다. 2+6 = 8이다. 새로운 수는 68이다. 6+8 = 14이다. 새로운 수는 84이다. 8+4 = 12이다. 새로운 수는 42이다. 4+2 = 6이다. 새로운 수는 26이다.\r\n",
        "\r\n",
        "위의 예는 4번만에 원래 수로 돌아올 수 있다. 따라서 26의 사이클의 길이는 4이다.\r\n",
        "\r\n",
        "N이 주어졌을 때, N의 사이클의 길이를 구하는 프로그램을 작성하시오."
      ]
    },
    {
      "cell_type": "code",
      "metadata": {
        "id": "APfu8FafR74L",
        "colab": {
          "base_uri": "https://localhost:8080/",
          "height": 136
        },
        "outputId": "8475ab2a-eae0-4978-ccdc-047a2efce5dd"
      },
      "source": [
        "# 실패해서 버리는코드\r\n",
        "init = int(input())\r\n",
        "count = 0\r\n",
        "if init>=10:\r\n",
        "  a = str(init)\r\n",
        "  b = int(a[1]) + int(a[0])\r\n",
        "  while init = b:\r\n",
        "    count +=1\r\n",
        "\r\n",
        "  elif:\r\n",
        "    a = str(init)+ \"0\"\r\n",
        "    b = int(a[1]) + int(a[0])\r\n",
        "    while \r\n",
        "\r\n",
        "print(count)"
      ],
      "execution_count": null,
      "outputs": [
        {
          "output_type": "error",
          "ename": "SyntaxError",
          "evalue": "ignored",
          "traceback": [
            "\u001b[0;36m  File \u001b[0;32m\"<ipython-input-179-9be6ea57c4ff>\"\u001b[0;36m, line \u001b[0;32m7\u001b[0m\n\u001b[0;31m    while init = b:\u001b[0m\n\u001b[0m               ^\u001b[0m\n\u001b[0;31mSyntaxError\u001b[0m\u001b[0;31m:\u001b[0m invalid syntax\n"
          ]
        }
      ]
    },
    {
      "cell_type": "code",
      "metadata": {
        "id": "1hSMdZmIVYU7",
        "colab": {
          "base_uri": "https://localhost:8080/"
        },
        "outputId": "ccb2c733-7623-4222-9855-9d05ad7226e6"
      },
      "source": [
        "n = num = int(input())\r\n",
        "count = 0\r\n",
        "while True:\r\n",
        "    십의자리수 = n // 10\r\n",
        "    일의자리수 = n % 10\r\n",
        "    total = 십의자리수 + 일의자리수\r\n",
        "    count += 1\r\n",
        "    n = int(str(n % 10) + str(total % 10))\r\n",
        "    if(num == n):\r\n",
        "        break\r\n",
        "print(count)"
      ],
      "execution_count": null,
      "outputs": [
        {
          "output_type": "stream",
          "text": [
            "3\n",
            "60\n"
          ],
          "name": "stdout"
        }
      ]
    },
    {
      "cell_type": "code",
      "metadata": {
        "id": "lAX1Cng_wz93",
        "colab": {
          "base_uri": "https://localhost:8080/"
        },
        "outputId": "b0bacc06-de95-499a-e289-c5d748bef9e2"
      },
      "source": [
        ""
      ],
      "execution_count": null,
      "outputs": [
        {
          "output_type": "stream",
          "text": [
            "2\n"
          ],
          "name": "stdout"
        }
      ]
    },
    {
      "cell_type": "code",
      "metadata": {
        "id": "zMQM3uOXIZp9",
        "colab": {
          "base_uri": "https://localhost:8080/"
        },
        "outputId": "2ad70182-abd7-45e7-d16a-3b46d987dae0"
      },
      "source": [
        "5/2\r\n",
        "5//2\r\n",
        "5%2"
      ],
      "execution_count": null,
      "outputs": [
        {
          "output_type": "execute_result",
          "data": {
            "text/plain": [
              "1"
            ]
          },
          "metadata": {
            "tags": []
          },
          "execution_count": 115
        }
      ]
    },
    {
      "cell_type": "code",
      "metadata": {
        "id": "Avvhhza3bqsr"
      },
      "source": [
        ""
      ],
      "execution_count": null,
      "outputs": []
    },
    {
      "cell_type": "markdown",
      "metadata": {
        "id": "b02iHFVzkiS1"
      },
      "source": [
        "# 토요일 1번문제(해결함. 당연함.)"
      ]
    },
    {
      "cell_type": "code",
      "metadata": {
        "id": "kSpoBrN1kkN8",
        "colab": {
          "base_uri": "https://localhost:8080/"
        },
        "outputId": "eb062f10-5198-4698-fa12-70a93acd896b"
      },
      "source": [
        "all_case = int(input())\r\n",
        "for i in range(all_case):\r\n",
        "  case = map(int,input().split())\r\n",
        "  a = list(case)\r\n",
        "  a_mean = sum(a[1:])/len(a[1:])\r\n",
        "  high_late = (len([i for i in a[1:] if i >a_mean])/len(a[1:]))*100\r\n",
        "  print(f'{high_late:.3f}%') \r\n",
        "  #처음엔 round함수를 사용했는데 40.000%가 40.0%로 나오기에 3번째자리에서 올려주는 프린트를 사용"
      ],
      "execution_count": null,
      "outputs": [
        {
          "output_type": "stream",
          "text": [
            "5\n",
            "5 50 50 70 80 100\n",
            "40.000%\n",
            "7 100 95 90 80 70 60 50\n",
            "57.143%\n",
            "3 70 90 80\n",
            "33.333%\n",
            "3 70 90 81\n",
            "66.667%\n",
            "9 100 99 98 97 96 95 94 93 91\n",
            "55.556%\n"
          ],
          "name": "stdout"
        }
      ]
    },
    {
      "cell_type": "code",
      "metadata": {
        "id": "DUj2m96Zw3Qf"
      },
      "source": [
        "5\r\n",
        "5 50 50 70 80 100\r\n",
        "7 100 95 90 80 70 60 50\r\n",
        "3 70 90 80\r\n",
        "3 70 90 81\r\n",
        "9 100 99 98 97 96 95 94 93 91"
      ],
      "execution_count": null,
      "outputs": []
    },
    {
      "cell_type": "code",
      "metadata": {
        "id": "X7302TjVmZ2k",
        "colab": {
          "base_uri": "https://localhost:8080/"
        },
        "outputId": "90a07425-a425-4ba1-b443-9b50591832a7"
      },
      "source": [
        "a = [5 ,50 ,50 ,70, 80 ,100]\r\n",
        "a_mean = sum(a[1:])/len(a[1:])\r\n",
        "high_late = (len([i for i in a[1:] if i >=a_mean])/len(a[1:]))*100\r\n",
        "print(round(high_late,3),\"%\")"
      ],
      "execution_count": null,
      "outputs": [
        {
          "output_type": "stream",
          "text": [
            "60.0 %\n"
          ],
          "name": "stdout"
        }
      ]
    },
    {
      "cell_type": "code",
      "metadata": {
        "id": "9eFjPss5lTeS",
        "colab": {
          "base_uri": "https://localhost:8080/"
        },
        "outputId": "4caeef8a-cb00-4bc4-a516-5d887953a3b2"
      },
      "source": [
        "a = [5 ,50 ,50 ,70, 80 ,100]\r\n",
        "a_mean = sum(a[1:])/len(a)\r\n",
        "print(a[0]/len([i for i in a if i >=a_mean]))\r\n"
      ],
      "execution_count": null,
      "outputs": [
        {
          "output_type": "stream",
          "text": [
            "1.4\n"
          ],
          "name": "stdout"
        }
      ]
    },
    {
      "cell_type": "code",
      "metadata": {
        "id": "l2mgA8X_mcu0"
      },
      "source": [
        "a = [5 ,50 ,50 ,70, 80 ,100]\r\n",
        "sum(a[1:])/a[0]"
      ],
      "execution_count": null,
      "outputs": []
    },
    {
      "cell_type": "code",
      "metadata": {
        "id": "dHzalP2ta4g-",
        "colab": {
          "base_uri": "https://localhost:8080/"
        },
        "outputId": "e95f6570-4862-47a7-9aa0-e399e1b85a7f"
      },
      "source": [
        "(3242%100)%10"
      ],
      "execution_count": null,
      "outputs": [
        {
          "output_type": "execute_result",
          "data": {
            "text/plain": [
              "2"
            ]
          },
          "metadata": {
            "tags": []
          },
          "execution_count": 33
        }
      ]
    },
    {
      "cell_type": "markdown",
      "metadata": {
        "id": "gDOHpoWy1lDl"
      },
      "source": [
        "# 토요일 2번문제(해결했음)"
      ]
    },
    {
      "cell_type": "code",
      "metadata": {
        "id": "MO9winTiy5HO"
      },
      "source": [
        "####### 내풀이\r\n",
        "def self_num():\r\n",
        "  ns = list() #셀프넘버가 아닌애들을 담아주기\r\n",
        "  res=0\r\n",
        "  for i in range(1,10001):\r\n",
        "    if i < 10:\r\n",
        "      res = i+i\r\n",
        "      ns.append(res)\r\n",
        "    elif i < 100:\r\n",
        "      res = i + (i//10) + (i%10)\r\n",
        "      ns.append(res)\r\n",
        "    elif i <1000:\r\n",
        "      res = i + (i//100) + ((i%100)//10) + ((i%100)%10)\r\n",
        "      ns.append(res)\r\n",
        "    elif i < 10000:\r\n",
        "      res = i+(i//1000)+((i%1000)//100)+(((i%1000)%100)//10)+(((i%1000)%100)%10)\r\n",
        "      if res <10000:\r\n",
        "        ns.append(res)\r\n",
        "\r\n",
        "  ns.sort()\r\n",
        "  for i in range(1,10001):\r\n",
        "    if i not in ns:\r\n",
        "      print(i)\r\n",
        "\r\n",
        "self_num()"
      ],
      "execution_count": null,
      "outputs": []
    },
    {
      "cell_type": "code",
      "metadata": {
        "id": "6UcQ-d-ayuXe"
      },
      "source": [
        "# 채진욱님 풀이\r\n",
        "def d(n):\r\n",
        "  result = 0\r\n",
        "  if n < 10:\r\n",
        "    result = n+n\r\n",
        "  elif n<100:\r\n",
        "    result = n+ n//10 + n%10\r\n",
        "  elif n<1000:\r\n",
        "    result = n + n//100 + ((n//10)- (n//100)*10) + n%10\r\n",
        "  elif n<10000:\r\n",
        "    result = n + n//1000 + ((n//100)-(n//1000)*10) +((n//10)-(n//100)*10) + n%10\r\n",
        "  return result\r\n",
        "\r\n",
        "n=1\r\n",
        "num=0\r\n",
        "array = []\r\n",
        "\r\n",
        "for i in range(1,10001):\r\n",
        "  array.append(0)\r\n",
        "\r\n",
        "while(n <= 10000):\r\n",
        "  if d(n) <= 10000:\r\n",
        "    array[d(n)-1]=1\r\n",
        "  n +=1\r\n",
        "\r\n",
        "while(num<=9999):\r\n",
        "  if(array[num]==0):\r\n",
        "    print(num+1)\r\n",
        "  num+=1\r\n"
      ],
      "execution_count": null,
      "outputs": []
    },
    {
      "cell_type": "code",
      "metadata": {
        "id": "MGYAMAht5ITs",
        "colab": {
          "base_uri": "https://localhost:8080/"
        },
        "outputId": "b3056abc-54b7-4e95-84f7-8042c02d127d"
      },
      "source": [
        "for i in range(1:100):\r\n",
        "  a = str(i)\r\n",
        "  b = int(a[0:int(len(a)/2)]) + int(a[int(len(a)/2):])\r\n",
        "  print(b)\r\n",
        "  while True:\r\n",
        "    \r\n",
        "# int(a[0:len(a)/2])"
      ],
      "execution_count": null,
      "outputs": [
        {
          "output_type": "stream",
          "text": [
            "57\n",
            "58\n",
            "59\n",
            "60\n"
          ],
          "name": "stdout"
        }
      ]
    },
    {
      "cell_type": "code",
      "metadata": {
        "id": "HH--M5fM5Jvk"
      },
      "source": [
        "def d(n):\r\n",
        "    a = 0\r\n",
        "    for x in list(str(n)):\r\n",
        "        a = a + int(x) \r\n",
        "    return int(n) + a\r\n",
        "a= []\r\n",
        "for i in range(1,10001):\r\n",
        "    k = d(i)\r\n",
        "    a.append(k)\r\n",
        "\r\n",
        "for b in range(1, 10001):\r\n",
        "    if b in a:\r\n",
        "        pass\r\n",
        "    else:\r\n",
        "        print(b)"
      ],
      "execution_count": null,
      "outputs": []
    },
    {
      "cell_type": "code",
      "metadata": {
        "id": "T0H8bmeE2_jK",
        "colab": {
          "base_uri": "https://localhost:8080/"
        },
        "outputId": "03488ff8-7cf6-45b2-ff27-03ce3faa9e98"
      },
      "source": [
        "def self_num():\r\n",
        "  "
      ],
      "execution_count": null,
      "outputs": [
        {
          "output_type": "stream",
          "text": [
            "2\n"
          ],
          "name": "stdout"
        }
      ]
    },
    {
      "cell_type": "markdown",
      "metadata": {
        "id": "RfHd1s9EGguQ"
      },
      "source": [
        "# 3번"
      ]
    },
    {
      "cell_type": "code",
      "metadata": {
        "id": "qdxfiFniCN2R",
        "colab": {
          "base_uri": "https://localhost:8080/"
        },
        "outputId": "c780f563-7675-4b88-e502-d78f15256918"
      },
      "source": [
        "a = input().upper()"
      ],
      "execution_count": null,
      "outputs": [
        {
          "output_type": "stream",
          "text": [
            "Mississipi\n"
          ],
          "name": "stdout"
        }
      ]
    },
    {
      "cell_type": "code",
      "metadata": {
        "id": "OoprP_NSGmju",
        "colab": {
          "base_uri": "https://localhost:8080/"
        },
        "outputId": "04df8ec6-b694-47a5-ffe8-6a43f5d43628"
      },
      "source": [
        "print(a)\r\n",
        "b = list(set(a))\r\n",
        "for i in range(0,len(a)):\r\n",
        "  "
      ],
      "execution_count": null,
      "outputs": [
        {
          "output_type": "stream",
          "text": [
            "MISSISSIPI\n"
          ],
          "name": "stdout"
        }
      ]
    },
    {
      "cell_type": "code",
      "metadata": {
        "id": "hbvMbkI-HqzR",
        "colab": {
          "base_uri": "https://localhost:8080/"
        },
        "outputId": "af704348-fa87-44ba-bcf0-9c0800d65786"
      },
      "source": [
        "txt.count('a')"
      ],
      "execution_count": null,
      "outputs": [
        {
          "output_type": "execute_result",
          "data": {
            "text/plain": [
              "10"
            ]
          },
          "metadata": {
            "tags": []
          },
          "execution_count": 203
        }
      ]
    },
    {
      "cell_type": "code",
      "metadata": {
        "id": "ZE65Jp5bIErj",
        "colab": {
          "base_uri": "https://localhost:8080/"
        },
        "outputId": "f1ba6b7f-3f26-44f0-8f3d-0a13023ac174"
      },
      "source": [
        "list(set(a)) #헉.. 이런게있군ㅋ"
      ],
      "execution_count": null,
      "outputs": [
        {
          "output_type": "execute_result",
          "data": {
            "text/plain": [
              "['I', 'M', 'S', 'P']"
            ]
          },
          "metadata": {
            "tags": []
          },
          "execution_count": 210
        }
      ]
    },
    {
      "cell_type": "code",
      "metadata": {
        "id": "FIwmVA2DJPDf",
        "colab": {
          "base_uri": "https://localhost:8080/"
        },
        "outputId": "7b23dcdb-b97f-4f42-9c50-bb129c9dc59f"
      },
      "source": [
        "words = input().upper()\r\n",
        "unique_words = list(set(words))  # 입력받은 문자열에서 중복값을 제거\r\n",
        "\r\n",
        "cnt_list = []\r\n",
        "for x in unique_words :\r\n",
        "    cnt = words.count(x)\r\n",
        "    cnt_list.append(cnt)  # count 숫자를 리스트에 append\r\n",
        "\r\n",
        "if cnt_list.count(max(cnt_list)) > 1 :  # count 숫자 최대값이 중복되면\r\n",
        "    print('?')\r\n",
        "else :\r\n",
        "    max_index = cnt_list.index(max(cnt_list))  # count 숫자 최대값 인덱스(위치)\r\n",
        "    print(unique_words[max_index].upper())"
      ],
      "execution_count": null,
      "outputs": [
        {
          "output_type": "stream",
          "text": [
            "wdsdadsdd\n",
            "D\n"
          ],
          "name": "stdout"
        }
      ]
    },
    {
      "cell_type": "markdown",
      "metadata": {
        "id": "nYZz31m_yyTG"
      },
      "source": [
        "# 4번\r\n",
        "https://www.acmicpc.net/problem/2941"
      ]
    },
    {
      "cell_type": "code",
      "metadata": {
        "id": "GzGjZC88Lyx_",
        "colab": {
          "base_uri": "https://localhost:8080/"
        },
        "outputId": "998cdff4-6ced-4832-d2de-a8a3962bd761"
      },
      "source": [
        "cro = ['c=','c-','dz=','d-','lj','nj','s=','z=']\r\n",
        "normal = input()\r\n",
        "\r\n",
        "for t in cro:\r\n",
        "  normal = normal.replace(t,'0')\r\n",
        "\r\n",
        "print(len(normal))"
      ],
      "execution_count": null,
      "outputs": [
        {
          "output_type": "stream",
          "text": [
            "ljes=njak\n",
            "6\n"
          ],
          "name": "stdout"
        }
      ]
    },
    {
      "cell_type": "markdown",
      "metadata": {
        "id": "JzwxdbtTZiwf"
      },
      "source": [
        "# 월요일 1번\r\n",
        "(다시풀어볼것 권장) \\\r\n",
        "높이가 v인 막대 올라감, 낮에는 +A 미터 밤에는 -B미터 A+B>V가 되면 멈춤. 이거 며칠걸림?\r\n",
        "입력순은 a b v"
      ]
    },
    {
      "cell_type": "code",
      "metadata": {
        "id": "WuqNQ6Uc08UO",
        "colab": {
          "base_uri": "https://localhost:8080/"
        },
        "outputId": "095ccb13-bee4-4839-80b5-d8f6dcaca0fb"
      },
      "source": [
        "a,b,v = map(int,input().split())\r\n",
        "day = 0\r\n",
        "while 1:\r\n",
        "  day = day+1\r\n",
        "  if day>=(v-b)/(a-b):\r\n",
        "    break\r\n",
        "\r\n",
        "print(day)"
      ],
      "execution_count": null,
      "outputs": [
        {
          "output_type": "stream",
          "text": [
            "5\n",
            "2\n",
            "1\n",
            "1\n"
          ],
          "name": "stdout"
        }
      ]
    },
    {
      "cell_type": "code",
      "metadata": {
        "id": "6Gz-kbMIoiVq",
        "colab": {
          "base_uri": "https://localhost:8080/"
        },
        "outputId": "711a03f2-a15c-4b6e-d0aa-2a1b50b865d3"
      },
      "source": [
        "import math\r\n",
        "\r\n",
        "a, b, v = map(int, input().split())\r\n",
        "\r\n",
        "cnt = int(math.ceil((v-b)/(a-b))) \r\n",
        "\r\n",
        "print(cnt)"
      ],
      "execution_count": 1,
      "outputs": [
        {
          "output_type": "stream",
          "text": [
            "3 1 10\n",
            "5\n"
          ],
          "name": "stdout"
        }
      ]
    },
    {
      "cell_type": "markdown",
      "metadata": {
        "id": "kibFo2o341_L"
      },
      "source": [
        "# 월요일 2번\r\n",
        "https://www.acmicpc.net/problem/10250"
      ]
    },
    {
      "cell_type": "code",
      "metadata": {
        "colab": {
          "base_uri": "https://localhost:8080/"
        },
        "id": "hvpwFy6KgPjl",
        "outputId": "f20dfc0f-cf28-49cb-d76c-4d93233d0cb3"
      },
      "source": [
        "test = int(input())\r\n",
        "\r\n",
        "for i in range(test):\r\n",
        "  H,W,N = map(int,input().split()) #층 , 방갯수 , 손님\r\n",
        "\r\n",
        "  floor = 0\r\n",
        "  room=0\r\n",
        "\r\n",
        "  if N%H == 0 :\r\n",
        "    floor = H *100\r\n",
        "    room = N//H  # 이부분 실수로 1만 넣음\r\n",
        "  else:\r\n",
        "    floor = (N%H) *100\r\n",
        "    room = N//H + 1\r\n",
        "\r\n",
        "  print(floor+room)"
      ],
      "execution_count": 47,
      "outputs": [
        {
          "output_type": "stream",
          "text": [
            "1\n",
            "5 8 10\n",
            "1001\n"
          ],
          "name": "stdout"
        }
      ]
    },
    {
      "cell_type": "code",
      "metadata": {
        "colab": {
          "base_uri": "https://localhost:8080/"
        },
        "id": "nT0FH7VPggpt",
        "outputId": "a6139d0e-d8eb-4f4c-f1d6-a97a0b77ffd1"
      },
      "source": [
        "# 다른사람 답안인데 내답이랑 비슷해서 들고옴\r\n",
        "t = int(input())\r\n",
        "for i in range(t):\r\n",
        "    h, w, n = map(int, input().split())\r\n",
        "    f = 0\r\n",
        "    ho = 0\r\n",
        "    if n % h == 0:\r\n",
        "        f = h * 100\r\n",
        "        ho = n // h\r\n",
        "    else:\r\n",
        "        f = (n % h) * 100\r\n",
        "        ho = 1 + n // h\r\n",
        "    print(f + ho)"
      ],
      "execution_count": 44,
      "outputs": [
        {
          "output_type": "stream",
          "text": [
            "1\n",
            "5 8 10\n",
            "502\n"
          ],
          "name": "stdout"
        }
      ]
    },
    {
      "cell_type": "markdown",
      "metadata": {
        "id": "sv4cQLD0j9pA"
      },
      "source": [
        "# 월요일 3번문제\r\n",
        "(다시 풀어볼것 권장)\\\r\n",
        "문제: https://www.acmicpc.net/problem/1929 \\\r\n",
        "풀이:https://deokkk9.tistory.com/17"
      ]
    },
    {
      "cell_type": "code",
      "metadata": {
        "colab": {
          "base_uri": "https://localhost:8080/"
        },
        "id": "wRsC7bLQgnHY",
        "outputId": "31451b65-9db4-4f52-cbe9-090e9ca920bc"
      },
      "source": [
        "a,b = map(int,input().split())\r\n",
        "\r\n",
        "for i in range(a,b+1):\r\n",
        "  if i%2 "
      ],
      "execution_count": 51,
      "outputs": [
        {
          "output_type": "stream",
          "text": [
            "3 10\n",
            "3\n",
            "4\n",
            "5\n",
            "6\n",
            "7\n",
            "8\n",
            "9\n",
            "10\n"
          ],
          "name": "stdout"
        }
      ]
    },
    {
      "cell_type": "code",
      "metadata": {
        "colab": {
          "base_uri": "https://localhost:8080/"
        },
        "id": "s47L7xCrhONX",
        "outputId": "8d3b2286-19ae-40c9-babd-4df5607600b1"
      },
      "source": [
        "def isPrime(num):\r\n",
        "    if num==1:\r\n",
        "        return False\r\n",
        "    else:\r\n",
        "        for i in range(2, int(num**0.5)+1):\r\n",
        "            if num%i == 0:\r\n",
        "                return False\r\n",
        "        return True\r\n",
        "\r\n",
        "M, N = map(int, input().split())\r\n",
        "\r\n",
        "for i in range(M, N+1):\r\n",
        "    if isPrime(i):\r\n",
        "        print(i)"
      ],
      "execution_count": 25,
      "outputs": [
        {
          "output_type": "execute_result",
          "data": {
            "text/plain": [
              "('12', 0, '3')"
            ]
          },
          "metadata": {
            "tags": []
          },
          "execution_count": 25
        }
      ]
    },
    {
      "cell_type": "code",
      "metadata": {
        "colab": {
          "base_uri": "https://localhost:8080/"
        },
        "id": "TdfpN1NphPwk",
        "outputId": "5fdd084f-2106-4603-f023-1d3da98a5fd8"
      },
      "source": [
        "for i in range(2,3):\r\n",
        "  print(i)"
      ],
      "execution_count": 55,
      "outputs": [
        {
          "output_type": "stream",
          "text": [
            "2\n"
          ],
          "name": "stdout"
        }
      ]
    },
    {
      "cell_type": "code",
      "metadata": {
        "id": "6_QfCZ_mMMtz"
      },
      "source": [
        ""
      ],
      "execution_count": null,
      "outputs": []
    }
  ]
}