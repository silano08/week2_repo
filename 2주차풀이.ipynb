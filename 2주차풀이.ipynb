{
  "nbformat": 4,
  "nbformat_minor": 0,
  "metadata": {
    "colab": {
      "name": "2주차풀이.ipynb",
      "provenance": [],
      "collapsed_sections": []
    },
    "kernelspec": {
      "name": "python3",
      "display_name": "Python 3"
    }
  },
  "cells": [
    {
      "cell_type": "markdown",
      "metadata": {
        "id": "8XV60kItXuHA"
      },
      "source": [
        "#1번 그룹단어체커\r\n",
        "문제: https://www.acmicpc.net/problem/1316"
      ]
    },
    {
      "cell_type": "code",
      "metadata": {
        "id": "vQ-WtKF7Xz8V"
      },
      "source": [
        "N = int(input())\r\n",
        "for i in range(N):\r\n",
        "  word = input()"
      ],
      "execution_count": null,
      "outputs": []
    },
    {
      "cell_type": "code",
      "metadata": {
        "id": "HRqBV3kaXz_3"
      },
      "source": [
        "word = list(\"happy\")\r\n",
        "\r\n",
        "# 연달은 두 문자가 다를때\r\n",
        "# 이미 있는문자면 False 없는문자면 리스트에 추가\r\n",
        "for i in word:\r\n",
        "  if i ="
      ],
      "execution_count": null,
      "outputs": []
    },
    {
      "cell_type": "code",
      "metadata": {
        "colab": {
          "base_uri": "https://localhost:8080/"
        },
        "id": "uiQrBh-OgjoE",
        "outputId": "c81e8fe4-89fa-4555-aa65-e2536de7ef80"
      },
      "source": [
        "word"
      ],
      "execution_count": null,
      "outputs": [
        {
          "output_type": "execute_result",
          "data": {
            "text/plain": [
              "['h', 'a', 'p', 'p', 'y']"
            ]
          },
          "metadata": {
            "tags": []
          },
          "execution_count": 80
        }
      ]
    },
    {
      "cell_type": "markdown",
      "metadata": {
        "id": "9pJ0d_SCux5a"
      },
      "source": [
        "# 2번 설탕배달\r\n",
        "문제: https://www.acmicpc.net/problem/2839"
      ]
    },
    {
      "cell_type": "code",
      "metadata": {
        "colab": {
          "base_uri": "https://localhost:8080/"
        },
        "id": "HvYs0EtauFPz",
        "outputId": "cd21d029-bcfa-4e13-c0db-3665855f67ea"
      },
      "source": [
        "N = int(input())\r\n",
        "\r\n",
        "if N>3:\r\n",
        "  five = N//5\r\n",
        "  least = N%5\r\n",
        "  three = least//3\r\n",
        "  last= least%3\r\n",
        "  if last != 0:\r\n",
        "    print(-1)\r\n",
        "  else:\r\n",
        "    print(five+three)\r\n",
        "\r\n",
        "# 이렇게했더니 오류와방ㅋㅋ"
      ],
      "execution_count": null,
      "outputs": [
        {
          "output_type": "stream",
          "text": [
            "6\n",
            "-1\n"
          ],
          "name": "stdout"
        }
      ]
    },
    {
      "cell_type": "code",
      "metadata": {
        "colab": {
          "base_uri": "https://localhost:8080/"
        },
        "id": "AksHahm8zTdP",
        "outputId": "6e4e3e64-91f3-4a9e-d8b2-cb91417651cf"
      },
      "source": [
        "N = int(input())\r\n",
        "# 일의자리수를 분리해서 생각해야하는 것 같음\r\n",
        "결과 = [0,-1,-1,1,-1,1,2,-1,2,3]\r\n",
        "\r\n",
        "if N>10:\r\n",
        "  십 = (N//10)*10\r\n",
        "  일 = N%10\r\n",
        "  five = 십//5  \r\n",
        "  if 결과[일]==-1:\r\n",
        "    print(결과[일])\r\n",
        "  else:\r\n",
        "    print(five+결과[일])\r\n",
        "else:\r\n",
        "  print(결과[N])\r\n",
        "\r\n",
        "\r\n",
        "# 이렇게 10과 1을 분리해서 계산했더니 11같은 경우(5와 6의 경우를 계산못함ㅋㅋㅋ)"
      ],
      "execution_count": null,
      "outputs": [
        {
          "output_type": "stream",
          "text": [
            "11\n",
            "-1\n"
          ],
          "name": "stdout"
        }
      ]
    },
    {
      "cell_type": "code",
      "metadata": {
        "colab": {
          "base_uri": "https://localhost:8080/"
        },
        "id": "1_hoNr-Q52TG",
        "outputId": "2cc87da3-9fbd-48a8-d7c9-686b4982345c"
      },
      "source": [
        "# 5로 나누고 6으로 나누어떨어지는경우 11 71\r\n",
        "# 5로 나누고 3으로 나누어떨어지는경우 8,63\r\n",
        "# 5로 나누면 안되고 마지막에 9가 들어가는경우 9,14"
      ],
      "execution_count": null,
      "outputs": [
        {
          "output_type": "execute_result",
          "data": {
            "text/plain": [
              "-1"
            ]
          },
          "metadata": {
            "tags": []
          },
          "execution_count": 42
        }
      ]
    },
    {
      "cell_type": "code",
      "metadata": {
        "colab": {
          "base_uri": "https://localhost:8080/"
        },
        "id": "qkhy-nTJzXY1",
        "outputId": "48070662-8ef2-415f-82c1-346e387aad21"
      },
      "source": [
        "N = int(input())\r\n",
        "\r\n",
        "if N>1 and N%5==1:\r\n",
        "  print(((N//5)-1)+2)\r\n",
        "elif N%5==3:\r\n",
        "  print((N//5)+1)\r\n",
        "elif N>4 and N%5==4:\r\n",
        "  N = N-9\r\n",
        "  print((N//5)+3)\r\n",
        "else:\r\n",
        "  print(-1)"
      ],
      "execution_count": null,
      "outputs": [
        {
          "output_type": "stream",
          "text": [
            "11\n",
            "3\n"
          ],
          "name": "stdout"
        }
      ]
    },
    {
      "cell_type": "code",
      "metadata": {
        "id": "4aNulw4QOXsI"
      },
      "source": [
        "## 네번째 실행\r\n",
        "# 받은수를 5로 나눌수 있을때까지 3을 계속 빼는방식"
      ],
      "execution_count": null,
      "outputs": []
    },
    {
      "cell_type": "code",
      "metadata": {
        "colab": {
          "base_uri": "https://localhost:8080/"
        },
        "id": "dtqI8QagzgUx",
        "outputId": "01a0d4f8-7b75-4741-8785-5ff7890852c5"
      },
      "source": [
        "N = int(input())\r\n",
        "count = 0\r\n",
        "while True:\r\n",
        "  if N%5==0 or N<3:\r\n",
        "    break\r\n",
        "  N = N-3\r\n",
        "  count += 1\r\n",
        "\r\n",
        "if N%5==0:\r\n",
        "  five = N//5\r\n",
        "  print(count+five)\r\n",
        "else:\r\n",
        "  print(-1)"
      ],
      "execution_count": null,
      "outputs": [
        {
          "output_type": "stream",
          "text": [
            "4\n",
            "-1\n"
          ],
          "name": "stdout"
        }
      ]
    },
    {
      "cell_type": "markdown",
      "metadata": {
        "id": "2jbfdcBY6uGo"
      },
      "source": [
        "# 3번 Fly me to the Alpha Centauri \r\n",
        "\r\n",
        "  - 문제 : https://www.acmicpc.net/problem/1011\r\n",
        "  - 설명 : k미터 이동했으면 k-1 ~ k+1만 이동가능\r\n",
        "  - 키워드: 가우스 방정식? 위가 뿔모양으로 솟은 식 "
      ]
    },
    {
      "cell_type": "code",
      "metadata": {
        "id": "lD4-HhmVHB2C",
        "colab": {
          "base_uri": "https://localhost:8080/"
        },
        "outputId": "b76da986-e045-400f-a093-a7be6d67c0a9"
      },
      "source": [
        "import sys\r\n",
        "\r\n",
        "\r\n",
        "def solve(distance):\r\n",
        "    distance_travelled = 0\r\n",
        "    turns = 0\r\n",
        "    speed = 0\r\n",
        "\r\n",
        "    while distance_travelled < distance:\r\n",
        "        speed += 1\r\n",
        "\r\n",
        "        # add left\r\n",
        "        turns += 1\r\n",
        "        distance_travelled += speed\r\n",
        "        if distance_travelled >= distance:\r\n",
        "            break\r\n",
        "\r\n",
        "        # add right\r\n",
        "        turns += 1\r\n",
        "        distance_travelled += speed\r\n",
        "        if distance_travelled >= distance:\r\n",
        "            break\r\n",
        "\r\n",
        "    return turns\r\n",
        "\r\n",
        "\r\n",
        "def submit():\r\n",
        "    T = int(sys.stdin.readline())\r\n",
        "\r\n",
        "    while T:\r\n",
        "        T -= 1\r\n",
        "        x, y = map(int, sys.stdin.readline().split())\r\n",
        "        result = solve(y-x)\r\n",
        "        print(result)\r\n",
        "\r\n",
        "\r\n",
        "def test():\r\n",
        "    testcases = [(1, 1), (2, 2), (3, 3), (4, 3), (5, 4), (6, 4), (7, 5), (8, 5),\r\n",
        "                 (9, 5), (10, 6), (11, 6), (12, 6), (13, 7), (14, 7), (15, 7), (16, 7), (17, 8)]\r\n",
        "\r\n",
        "    for testcase in testcases:\r\n",
        "        result = solve(testcase[0])\r\n",
        "\r\n",
        "        if result == testcase[1]:\r\n",
        "            print(testcase[0], \"is correct\")\r\n",
        "        else:\r\n",
        "            print(testcase[0], \"is INCORRECT (output\",\r\n",
        "                  result, \" expected: \", testcase[1], \")\")\r\n",
        "\r\n",
        "\r\n",
        "# test()\r\n",
        "submit()"
      ],
      "execution_count": null,
      "outputs": [
        {
          "output_type": "stream",
          "text": [
            "10\n",
            "4\n",
            "0\n"
          ],
          "name": "stdout"
        }
      ]
    },
    {
      "cell_type": "code",
      "metadata": {
        "id": "yhywQZHKEL6H"
      },
      "source": [
        ""
      ],
      "execution_count": null,
      "outputs": []
    },
    {
      "cell_type": "markdown",
      "metadata": {
        "id": "OENzJ3IF68xt"
      },
      "source": [
        "#4번 베르트랑 공준\r\n",
        "문제: https://www.acmicpc.net/problem/4948\r\n",
        "\r\n",
        "  - 자연수 N이 주어졌을때 N보다 크고 2N보다 작거나 같은 소수의 개수를 구하기\r\n",
        "  \r\n",
        "  ex : 10 > (11,13,17,19) > 4\r\n",
        "  "
      ]
    },
    {
      "cell_type": "code",
      "metadata": {
        "id": "Dpq3-e3s6yhS",
        "colab": {
          "base_uri": "https://localhost:8080/"
        },
        "outputId": "9c9da0a3-7001-4daa-86bb-b23f643fd600"
      },
      "source": [
        "# 소수구하기\r\n",
        "\r\n",
        "while True:\r\n",
        "  n = int(input())\r\n",
        "  if n ==0:\r\n",
        "    break\r\n",
        "\r\n",
        "  count = 0\r\n",
        "\r\n",
        "  for i in range(n+1,2*n+1): # n보다크고, 2n보다 작거나같은\r\n",
        "    if i ==1:\r\n",
        "      continue\r\n",
        "    elif i==2:\r\n",
        "      count +=1\r\n",
        "      continue\r\n",
        "    else:\r\n",
        "      for j in range(2,int(i**0.5 + 1)): # 제곱근에서 나누어떨어지면 그의 배수는 죄다 나누어떨어지니까\r\n",
        "        if i%j==0:\r\n",
        "          break\r\n",
        "      else:\r\n",
        "        count+=1\r\n",
        "\r\n",
        "  print(count)"
      ],
      "execution_count": null,
      "outputs": [
        {
          "output_type": "stream",
          "text": [
            "0 3\n"
          ],
          "name": "stdout"
        }
      ]
    },
    {
      "cell_type": "markdown",
      "metadata": {
        "id": "g11njZkKG92_"
      },
      "source": [
        "#5번 영화감독 숌\r\n",
        "문제: https://www.acmicpc.net/problem/1436\r\n",
        "\r\n",
        "  - 브루트포스\\\r\n",
        "  종말의 숫자 순서\\\r\n",
        "  1 > 2> 3 > 4..>11> ..> 10000보다 작다\\\r\n",
        "  666 > 1666 > 2666 > 3666 > .. > 6660\r\n",
        "\r\n",
        "  - 브루트포스란 무식하게 대입해보는 암호화방식이다. 완전탐색방식이라고도함"
      ]
    },
    {
      "cell_type": "code",
      "metadata": {
        "id": "Xbg7E6uEHs0j",
        "colab": {
          "base_uri": "https://localhost:8080/"
        },
        "outputId": "639f028d-418b-4739-d8e3-10d4001e180c"
      },
      "source": [
        "N = int(input())\r\n",
        "movie = 666\r\n",
        "\r\n",
        "while N:\r\n",
        "    if \"666\" in str(movie):\r\n",
        "        N -= 1\r\n",
        "    movie += 1\r\n",
        "\r\n",
        "print(movie - 1)"
      ],
      "execution_count": null,
      "outputs": [
        {
          "output_type": "stream",
          "text": [
            "7\n",
            "6660\n"
          ],
          "name": "stdout"
        }
      ]
    },
    {
      "cell_type": "markdown",
      "metadata": {
        "id": "ib0IBAZY3xKg"
      },
      "source": [
        "#6번 신나는 함수실행\r\n",
        "문제:https://www.acmicpc.net/problem/9184\r\n",
        "\r\n",
        "  - 동적계획법, 하위문제를 풀고 결과를 기록"
      ]
    },
    {
      "cell_type": "code",
      "metadata": {
        "colab": {
          "base_uri": "https://localhost:8080/",
          "height": 136
        },
        "id": "Eusok0R-Ufhv",
        "outputId": "5f77db35-1ba6-4060-d6f7-cbeb92d5fcf8"
      },
      "source": [
        "if a <= 0 or b <= 0 or c <= 0, then w(a, b, c) returns:\r\n",
        "    1\r\n",
        "\r\n",
        "if a > 20 or b > 20 or c > 20, then w(a, b, c) returns:\r\n",
        "    w(20, 20, 20)\r\n",
        "\r\n",
        "if a < b and b < c, then w(a, b, c) returns:\r\n",
        "    w(a, b, c-1) + w(a, b-1, c-1) - w(a, b-1, c)\r\n",
        "\r\n",
        "otherwise it returns:\r\n",
        "    w(a-1, b, c) + w(a-1, b-1, c) + w(a-1, b, c-1) - w(a-1, b-1, c-1)"
      ],
      "execution_count": null,
      "outputs": [
        {
          "output_type": "error",
          "ename": "SyntaxError",
          "evalue": "ignored",
          "traceback": [
            "\u001b[0;36m  File \u001b[0;32m\"<ipython-input-17-319915933fe6>\"\u001b[0;36m, line \u001b[0;32m1\u001b[0m\n\u001b[0;31m    if a <= 0 or b <= 0 or c <= 0, then w(a, b, c) returns:\u001b[0m\n\u001b[0m                                 ^\u001b[0m\n\u001b[0;31mSyntaxError\u001b[0m\u001b[0;31m:\u001b[0m invalid syntax\n"
          ]
        }
      ]
    },
    {
      "cell_type": "code",
      "metadata": {
        "id": "WvhlXo_aUgCQ",
        "colab": {
          "base_uri": "https://localhost:8080/",
          "height": 448
        },
        "outputId": "b222e145-d0c6-42c2-fee3-6f8e29771fa4"
      },
      "source": [
        "# 세개 값 받아주고\r\n",
        "# 풀이보면 3차원으로 받아줬던데 그냥 딕셔너리안에 함수값넣는걸로 메모이제이션 활용\r\n",
        "\r\n",
        "a,b,c= map(int,input().split())\r\n",
        "\r\n",
        "memo = {\r\n",
        "    w(1,1,1):2,\r\n",
        "    w(20,20,20):1048576\r\n",
        "}\r\n",
        "\r\n",
        "def w(a,b,c):\r\n",
        "  if a<=0 or b<=0 or c<=0:\r\n",
        "    return 1\r\n",
        "  elif a>20 or b>20 or c>20:\r\n",
        "    return memo[w(20,20,20)]\r\n",
        "\r\n",
        "  if memo[w(a,b,c)]:\r\n",
        "    return memo[w(a,b,c)]\r\n",
        "\r\n",
        "  if a<b<c:\r\n",
        "    memo[w(a,b,c)]= w(a,b,c-1) + w(a, b-1, c-1) - w(a, b-1, c)\r\n",
        "    return memo[w(a,b,c)]\r\n",
        "  \r\n",
        "  memo[w(a,b,c)] = w(a-1, b, c) + w(a-1, b-1, c) + w(a-1, b, c-1) - w(a-1, b-1, c-1)\r\n",
        "  return memo[w(a,b,c)]\r\n",
        "  \r\n",
        "\r\n",
        "print(w(a,b,c))"
      ],
      "execution_count": null,
      "outputs": [
        {
          "output_type": "stream",
          "text": [
            "5 5 5\n"
          ],
          "name": "stdout"
        },
        {
          "output_type": "error",
          "ename": "RecursionError",
          "evalue": "ignored",
          "traceback": [
            "\u001b[0;31m---------------------------------------------------------------------------\u001b[0m",
            "\u001b[0;31mRecursionError\u001b[0m                            Traceback (most recent call last)",
            "\u001b[0;32m<ipython-input-56-6ca31e32d524>\u001b[0m in \u001b[0;36m<module>\u001b[0;34m()\u001b[0m\n\u001b[1;32m      5\u001b[0m \u001b[0;34m\u001b[0m\u001b[0m\n\u001b[1;32m      6\u001b[0m memo = {\n\u001b[0;32m----> 7\u001b[0;31m     \u001b[0mw\u001b[0m\u001b[0;34m(\u001b[0m\u001b[0;36m1\u001b[0m\u001b[0;34m,\u001b[0m\u001b[0;36m1\u001b[0m\u001b[0;34m,\u001b[0m\u001b[0;36m1\u001b[0m\u001b[0;34m)\u001b[0m\u001b[0;34m:\u001b[0m\u001b[0;36m2\u001b[0m\u001b[0;34m,\u001b[0m\u001b[0;34m\u001b[0m\u001b[0;34m\u001b[0m\u001b[0m\n\u001b[0m\u001b[1;32m      8\u001b[0m     \u001b[0mw\u001b[0m\u001b[0;34m(\u001b[0m\u001b[0;36m20\u001b[0m\u001b[0;34m,\u001b[0m\u001b[0;36m20\u001b[0m\u001b[0;34m,\u001b[0m\u001b[0;36m20\u001b[0m\u001b[0;34m)\u001b[0m\u001b[0;34m:\u001b[0m\u001b[0;36m1048576\u001b[0m\u001b[0;34m\u001b[0m\u001b[0;34m\u001b[0m\u001b[0m\n\u001b[1;32m      9\u001b[0m }\n",
            "\u001b[0;32m<ipython-input-55-6ca31e32d524>\u001b[0m in \u001b[0;36mw\u001b[0;34m(a, b, c)\u001b[0m\n\u001b[1;32m     15\u001b[0m     \u001b[0;32mreturn\u001b[0m \u001b[0mmemo\u001b[0m\u001b[0;34m[\u001b[0m\u001b[0mw\u001b[0m\u001b[0;34m(\u001b[0m\u001b[0;36m20\u001b[0m\u001b[0;34m,\u001b[0m\u001b[0;36m20\u001b[0m\u001b[0;34m,\u001b[0m\u001b[0;36m20\u001b[0m\u001b[0;34m)\u001b[0m\u001b[0;34m]\u001b[0m\u001b[0;34m\u001b[0m\u001b[0;34m\u001b[0m\u001b[0m\n\u001b[1;32m     16\u001b[0m \u001b[0;34m\u001b[0m\u001b[0m\n\u001b[0;32m---> 17\u001b[0;31m   \u001b[0;32mif\u001b[0m \u001b[0mmemo\u001b[0m\u001b[0;34m[\u001b[0m\u001b[0mw\u001b[0m\u001b[0;34m(\u001b[0m\u001b[0ma\u001b[0m\u001b[0;34m,\u001b[0m\u001b[0mb\u001b[0m\u001b[0;34m,\u001b[0m\u001b[0mc\u001b[0m\u001b[0;34m)\u001b[0m\u001b[0;34m]\u001b[0m\u001b[0;34m:\u001b[0m\u001b[0;34m\u001b[0m\u001b[0;34m\u001b[0m\u001b[0m\n\u001b[0m\u001b[1;32m     18\u001b[0m     \u001b[0;32mreturn\u001b[0m \u001b[0mmemo\u001b[0m\u001b[0;34m[\u001b[0m\u001b[0mw\u001b[0m\u001b[0;34m(\u001b[0m\u001b[0ma\u001b[0m\u001b[0;34m,\u001b[0m\u001b[0mb\u001b[0m\u001b[0;34m,\u001b[0m\u001b[0mc\u001b[0m\u001b[0;34m)\u001b[0m\u001b[0;34m]\u001b[0m\u001b[0;34m\u001b[0m\u001b[0;34m\u001b[0m\u001b[0m\n\u001b[1;32m     19\u001b[0m \u001b[0;34m\u001b[0m\u001b[0m\n",
            "... last 1 frames repeated, from the frame below ...\n",
            "\u001b[0;32m<ipython-input-55-6ca31e32d524>\u001b[0m in \u001b[0;36mw\u001b[0;34m(a, b, c)\u001b[0m\n\u001b[1;32m     15\u001b[0m     \u001b[0;32mreturn\u001b[0m \u001b[0mmemo\u001b[0m\u001b[0;34m[\u001b[0m\u001b[0mw\u001b[0m\u001b[0;34m(\u001b[0m\u001b[0;36m20\u001b[0m\u001b[0;34m,\u001b[0m\u001b[0;36m20\u001b[0m\u001b[0;34m,\u001b[0m\u001b[0;36m20\u001b[0m\u001b[0;34m)\u001b[0m\u001b[0;34m]\u001b[0m\u001b[0;34m\u001b[0m\u001b[0;34m\u001b[0m\u001b[0m\n\u001b[1;32m     16\u001b[0m \u001b[0;34m\u001b[0m\u001b[0m\n\u001b[0;32m---> 17\u001b[0;31m   \u001b[0;32mif\u001b[0m \u001b[0mmemo\u001b[0m\u001b[0;34m[\u001b[0m\u001b[0mw\u001b[0m\u001b[0;34m(\u001b[0m\u001b[0ma\u001b[0m\u001b[0;34m,\u001b[0m\u001b[0mb\u001b[0m\u001b[0;34m,\u001b[0m\u001b[0mc\u001b[0m\u001b[0;34m)\u001b[0m\u001b[0;34m]\u001b[0m\u001b[0;34m:\u001b[0m\u001b[0;34m\u001b[0m\u001b[0;34m\u001b[0m\u001b[0m\n\u001b[0m\u001b[1;32m     18\u001b[0m     \u001b[0;32mreturn\u001b[0m \u001b[0mmemo\u001b[0m\u001b[0;34m[\u001b[0m\u001b[0mw\u001b[0m\u001b[0;34m(\u001b[0m\u001b[0ma\u001b[0m\u001b[0;34m,\u001b[0m\u001b[0mb\u001b[0m\u001b[0;34m,\u001b[0m\u001b[0mc\u001b[0m\u001b[0;34m)\u001b[0m\u001b[0;34m]\u001b[0m\u001b[0;34m\u001b[0m\u001b[0;34m\u001b[0m\u001b[0m\n\u001b[1;32m     19\u001b[0m \u001b[0;34m\u001b[0m\u001b[0m\n",
            "\u001b[0;31mRecursionError\u001b[0m: maximum recursion depth exceeded in comparison"
          ]
        }
      ]
    },
    {
      "cell_type": "code",
      "metadata": {
        "id": "tK3_AK9uFJcU",
        "colab": {
          "base_uri": "https://localhost:8080/",
          "height": 244
        },
        "outputId": "e4333dd8-77b2-4d80-ada6-09cd3154f148"
      },
      "source": [
        "\r\n",
        "memo = {\r\n",
        "    w(3,3,3):9\r\n",
        "}\r\n",
        "\r\n",
        "def w(a,b,c):\r\n",
        "  return a+b+c\r\n",
        "\r\n",
        "print(w(1,1,1))"
      ],
      "execution_count": null,
      "outputs": [
        {
          "output_type": "error",
          "ename": "NameError",
          "evalue": "ignored",
          "traceback": [
            "\u001b[0;31m---------------------------------------------------------------------------\u001b[0m",
            "\u001b[0;31mNameError\u001b[0m                                 Traceback (most recent call last)",
            "\u001b[0;32m<ipython-input-1-8ea49e30aa8f>\u001b[0m in \u001b[0;36m<module>\u001b[0;34m()\u001b[0m\n\u001b[1;32m      1\u001b[0m \u001b[0;34m\u001b[0m\u001b[0m\n\u001b[1;32m      2\u001b[0m memo = {\n\u001b[0;32m----> 3\u001b[0;31m     \u001b[0mw\u001b[0m\u001b[0;34m(\u001b[0m\u001b[0;36m3\u001b[0m\u001b[0;34m,\u001b[0m\u001b[0;36m3\u001b[0m\u001b[0;34m,\u001b[0m\u001b[0;36m3\u001b[0m\u001b[0;34m)\u001b[0m\u001b[0;34m\u001b[0m\u001b[0;34m\u001b[0m\u001b[0m\n\u001b[0m\u001b[1;32m      4\u001b[0m }\n\u001b[1;32m      5\u001b[0m \u001b[0;34m\u001b[0m\u001b[0m\n",
            "\u001b[0;31mNameError\u001b[0m: name 'w' is not defined"
          ]
        }
      ]
    },
    {
      "cell_type": "code",
      "metadata": {
        "colab": {
          "base_uri": "https://localhost:8080/",
          "height": 628
        },
        "id": "XBtNwpyzV9z9",
        "outputId": "85db41f4-d994-49c8-e838-c172afd2e8df"
      },
      "source": [
        "MAX = 21\r\n",
        "dp = [[[0]*MAX for _ in range(MAX)] for __ in range(MAX)]\r\n",
        " \r\n",
        "def w(a, b, c) :\r\n",
        "    if a<=0 or b<=0 or c<=0 :\r\n",
        "        return 1\r\n",
        "    if a>20 or b>20 or c>20 :\r\n",
        "        return w(20, 20, 20)\r\n",
        " \r\n",
        "    # 값이 이미 존재한다면 그 값을 바로 리턴.\r\n",
        "    if dp[a][b][c]:\r\n",
        "        return dp[a][b][c]\r\n",
        " \r\n",
        "    if a<b<c :\r\n",
        "        dp[a][b][c] = w(a,b,c-1) + w(a,b-1,c-1) - w(a,b-1,c)\r\n",
        "        return dp[a][b][c]\r\n",
        " \r\n",
        "    dp[a][b][c] = w(a-1,b,c) + w(a-1,b-1,c) + w(a-1,b,c-1) - w(a-1,b-1,c-1)\r\n",
        "    return dp[a][b][c]\r\n",
        " \r\n",
        "while True :\r\n",
        " \r\n",
        "    a, b, c = map(int, input().split())\r\n",
        " \r\n",
        "    if a== -1 and b==-1 and c==-1 :\r\n",
        "        break\r\n",
        " \r\n",
        "    print(\"w(%d, %d, %d) = %d\"%(a, b, c, w(a, b, c)))"
      ],
      "execution_count": null,
      "outputs": [
        {
          "output_type": "stream",
          "text": [
            "20 20 20\n",
            "w(20, 20, 20) = 1048576\n",
            "1 1 1\n",
            "w(1, 1, 1) = 2\n"
          ],
          "name": "stdout"
        },
        {
          "output_type": "error",
          "ename": "KeyboardInterrupt",
          "evalue": "ignored",
          "traceback": [
            "\u001b[0;31m---------------------------------------------------------------------------\u001b[0m",
            "\u001b[0;31mKeyboardInterrupt\u001b[0m                         Traceback (most recent call last)",
            "\u001b[0;32m/usr/local/lib/python3.7/dist-packages/ipykernel/kernelbase.py\u001b[0m in \u001b[0;36m_input_request\u001b[0;34m(self, prompt, ident, parent, password)\u001b[0m\n\u001b[1;32m    728\u001b[0m             \u001b[0;32mtry\u001b[0m\u001b[0;34m:\u001b[0m\u001b[0;34m\u001b[0m\u001b[0;34m\u001b[0m\u001b[0m\n\u001b[0;32m--> 729\u001b[0;31m                 \u001b[0mident\u001b[0m\u001b[0;34m,\u001b[0m \u001b[0mreply\u001b[0m \u001b[0;34m=\u001b[0m \u001b[0mself\u001b[0m\u001b[0;34m.\u001b[0m\u001b[0msession\u001b[0m\u001b[0;34m.\u001b[0m\u001b[0mrecv\u001b[0m\u001b[0;34m(\u001b[0m\u001b[0mself\u001b[0m\u001b[0;34m.\u001b[0m\u001b[0mstdin_socket\u001b[0m\u001b[0;34m,\u001b[0m \u001b[0;36m0\u001b[0m\u001b[0;34m)\u001b[0m\u001b[0;34m\u001b[0m\u001b[0;34m\u001b[0m\u001b[0m\n\u001b[0m\u001b[1;32m    730\u001b[0m             \u001b[0;32mexcept\u001b[0m \u001b[0mException\u001b[0m\u001b[0;34m:\u001b[0m\u001b[0;34m\u001b[0m\u001b[0;34m\u001b[0m\u001b[0m\n",
            "\u001b[0;32m/usr/local/lib/python3.7/dist-packages/jupyter_client/session.py\u001b[0m in \u001b[0;36mrecv\u001b[0;34m(self, socket, mode, content, copy)\u001b[0m\n\u001b[1;32m    802\u001b[0m         \u001b[0;32mtry\u001b[0m\u001b[0;34m:\u001b[0m\u001b[0;34m\u001b[0m\u001b[0;34m\u001b[0m\u001b[0m\n\u001b[0;32m--> 803\u001b[0;31m             \u001b[0mmsg_list\u001b[0m \u001b[0;34m=\u001b[0m \u001b[0msocket\u001b[0m\u001b[0;34m.\u001b[0m\u001b[0mrecv_multipart\u001b[0m\u001b[0;34m(\u001b[0m\u001b[0mmode\u001b[0m\u001b[0;34m,\u001b[0m \u001b[0mcopy\u001b[0m\u001b[0;34m=\u001b[0m\u001b[0mcopy\u001b[0m\u001b[0;34m)\u001b[0m\u001b[0;34m\u001b[0m\u001b[0;34m\u001b[0m\u001b[0m\n\u001b[0m\u001b[1;32m    804\u001b[0m         \u001b[0;32mexcept\u001b[0m \u001b[0mzmq\u001b[0m\u001b[0;34m.\u001b[0m\u001b[0mZMQError\u001b[0m \u001b[0;32mas\u001b[0m \u001b[0me\u001b[0m\u001b[0;34m:\u001b[0m\u001b[0;34m\u001b[0m\u001b[0;34m\u001b[0m\u001b[0m\n",
            "\u001b[0;32m/usr/local/lib/python3.7/dist-packages/zmq/sugar/socket.py\u001b[0m in \u001b[0;36mrecv_multipart\u001b[0;34m(self, flags, copy, track)\u001b[0m\n\u001b[1;32m    582\u001b[0m         \"\"\"\n\u001b[0;32m--> 583\u001b[0;31m         \u001b[0mparts\u001b[0m \u001b[0;34m=\u001b[0m \u001b[0;34m[\u001b[0m\u001b[0mself\u001b[0m\u001b[0;34m.\u001b[0m\u001b[0mrecv\u001b[0m\u001b[0;34m(\u001b[0m\u001b[0mflags\u001b[0m\u001b[0;34m,\u001b[0m \u001b[0mcopy\u001b[0m\u001b[0;34m=\u001b[0m\u001b[0mcopy\u001b[0m\u001b[0;34m,\u001b[0m \u001b[0mtrack\u001b[0m\u001b[0;34m=\u001b[0m\u001b[0mtrack\u001b[0m\u001b[0;34m)\u001b[0m\u001b[0;34m]\u001b[0m\u001b[0;34m\u001b[0m\u001b[0;34m\u001b[0m\u001b[0m\n\u001b[0m\u001b[1;32m    584\u001b[0m         \u001b[0;31m# have first part already, only loop while more to receive\u001b[0m\u001b[0;34m\u001b[0m\u001b[0;34m\u001b[0m\u001b[0;34m\u001b[0m\u001b[0m\n",
            "\u001b[0;32mzmq/backend/cython/socket.pyx\u001b[0m in \u001b[0;36mzmq.backend.cython.socket.Socket.recv\u001b[0;34m()\u001b[0m\n",
            "\u001b[0;32mzmq/backend/cython/socket.pyx\u001b[0m in \u001b[0;36mzmq.backend.cython.socket.Socket.recv\u001b[0;34m()\u001b[0m\n",
            "\u001b[0;32mzmq/backend/cython/socket.pyx\u001b[0m in \u001b[0;36mzmq.backend.cython.socket._recv_copy\u001b[0;34m()\u001b[0m\n",
            "\u001b[0;32m/usr/local/lib/python3.7/dist-packages/zmq/backend/cython/checkrc.pxd\u001b[0m in \u001b[0;36mzmq.backend.cython.checkrc._check_rc\u001b[0;34m()\u001b[0m\n",
            "\u001b[0;31mKeyboardInterrupt\u001b[0m: ",
            "\nDuring handling of the above exception, another exception occurred:\n",
            "\u001b[0;31mKeyboardInterrupt\u001b[0m                         Traceback (most recent call last)",
            "\u001b[0;32m<ipython-input-48-3d9451b930fc>\u001b[0m in \u001b[0;36m<module>\u001b[0;34m()\u001b[0m\n\u001b[1;32m     21\u001b[0m \u001b[0;32mwhile\u001b[0m \u001b[0;32mTrue\u001b[0m \u001b[0;34m:\u001b[0m\u001b[0;34m\u001b[0m\u001b[0;34m\u001b[0m\u001b[0m\n\u001b[1;32m     22\u001b[0m \u001b[0;34m\u001b[0m\u001b[0m\n\u001b[0;32m---> 23\u001b[0;31m     \u001b[0ma\u001b[0m\u001b[0;34m,\u001b[0m \u001b[0mb\u001b[0m\u001b[0;34m,\u001b[0m \u001b[0mc\u001b[0m \u001b[0;34m=\u001b[0m \u001b[0mmap\u001b[0m\u001b[0;34m(\u001b[0m\u001b[0mint\u001b[0m\u001b[0;34m,\u001b[0m \u001b[0minput\u001b[0m\u001b[0;34m(\u001b[0m\u001b[0;34m)\u001b[0m\u001b[0;34m.\u001b[0m\u001b[0msplit\u001b[0m\u001b[0;34m(\u001b[0m\u001b[0;34m)\u001b[0m\u001b[0;34m)\u001b[0m\u001b[0;34m\u001b[0m\u001b[0;34m\u001b[0m\u001b[0m\n\u001b[0m\u001b[1;32m     24\u001b[0m \u001b[0;34m\u001b[0m\u001b[0m\n\u001b[1;32m     25\u001b[0m     \u001b[0;32mif\u001b[0m \u001b[0ma\u001b[0m\u001b[0;34m==\u001b[0m \u001b[0;34m-\u001b[0m\u001b[0;36m1\u001b[0m \u001b[0;32mand\u001b[0m \u001b[0mb\u001b[0m\u001b[0;34m==\u001b[0m\u001b[0;34m-\u001b[0m\u001b[0;36m1\u001b[0m \u001b[0;32mand\u001b[0m \u001b[0mc\u001b[0m\u001b[0;34m==\u001b[0m\u001b[0;34m-\u001b[0m\u001b[0;36m1\u001b[0m \u001b[0;34m:\u001b[0m\u001b[0;34m\u001b[0m\u001b[0;34m\u001b[0m\u001b[0m\n",
            "\u001b[0;32m/usr/local/lib/python3.7/dist-packages/ipykernel/kernelbase.py\u001b[0m in \u001b[0;36mraw_input\u001b[0;34m(self, prompt)\u001b[0m\n\u001b[1;32m    702\u001b[0m             \u001b[0mself\u001b[0m\u001b[0;34m.\u001b[0m\u001b[0m_parent_ident\u001b[0m\u001b[0;34m,\u001b[0m\u001b[0;34m\u001b[0m\u001b[0;34m\u001b[0m\u001b[0m\n\u001b[1;32m    703\u001b[0m             \u001b[0mself\u001b[0m\u001b[0;34m.\u001b[0m\u001b[0m_parent_header\u001b[0m\u001b[0;34m,\u001b[0m\u001b[0;34m\u001b[0m\u001b[0;34m\u001b[0m\u001b[0m\n\u001b[0;32m--> 704\u001b[0;31m             \u001b[0mpassword\u001b[0m\u001b[0;34m=\u001b[0m\u001b[0;32mFalse\u001b[0m\u001b[0;34m,\u001b[0m\u001b[0;34m\u001b[0m\u001b[0;34m\u001b[0m\u001b[0m\n\u001b[0m\u001b[1;32m    705\u001b[0m         )\n\u001b[1;32m    706\u001b[0m \u001b[0;34m\u001b[0m\u001b[0m\n",
            "\u001b[0;32m/usr/local/lib/python3.7/dist-packages/ipykernel/kernelbase.py\u001b[0m in \u001b[0;36m_input_request\u001b[0;34m(self, prompt, ident, parent, password)\u001b[0m\n\u001b[1;32m    732\u001b[0m             \u001b[0;32mexcept\u001b[0m \u001b[0mKeyboardInterrupt\u001b[0m\u001b[0;34m:\u001b[0m\u001b[0;34m\u001b[0m\u001b[0;34m\u001b[0m\u001b[0m\n\u001b[1;32m    733\u001b[0m                 \u001b[0;31m# re-raise KeyboardInterrupt, to truncate traceback\u001b[0m\u001b[0;34m\u001b[0m\u001b[0;34m\u001b[0m\u001b[0;34m\u001b[0m\u001b[0m\n\u001b[0;32m--> 734\u001b[0;31m                 \u001b[0;32mraise\u001b[0m \u001b[0mKeyboardInterrupt\u001b[0m\u001b[0;34m\u001b[0m\u001b[0;34m\u001b[0m\u001b[0m\n\u001b[0m\u001b[1;32m    735\u001b[0m             \u001b[0;32melse\u001b[0m\u001b[0;34m:\u001b[0m\u001b[0;34m\u001b[0m\u001b[0;34m\u001b[0m\u001b[0m\n\u001b[1;32m    736\u001b[0m                 \u001b[0;32mbreak\u001b[0m\u001b[0;34m\u001b[0m\u001b[0;34m\u001b[0m\u001b[0m\n",
            "\u001b[0;31mKeyboardInterrupt\u001b[0m: "
          ]
        }
      ]
    },
    {
      "cell_type": "markdown",
      "metadata": {
        "id": "njKl6JedhrDp"
      },
      "source": [
        "# 7번 파도반 수열\r\n",
        "문제: https://www.acmicpc.net/problem/9461"
      ]
    },
    {
      "cell_type": "code",
      "metadata": {
        "colab": {
          "base_uri": "https://localhost:8080/"
        },
        "id": "6Ts9xejHX00k",
        "outputId": "2904c3d7-9823-49df-98a2-443cd162dad8"
      },
      "source": [
        "# 1 1 1 2 2 3 4 5 7 9 12\r\n",
        "# 1\r\n",
        "# [1] > 1\r\n",
        "# [2] > 1\r\n",
        "#  [2] [3] > 2\r\n",
        "# [4] > 2\r\n",
        "# [2] [5] > 3\r\n",
        "# [1] [6] > 4 # 여기도 억지로 넣으면 규칙에 낄수있긴하지만\r\n",
        "# [3?] [7] > 5 #이전까진 정해져있고 여기서부터 i-5,i-1이란 규칙이 보임\r\n",
        "# [4] [8] > 7\r\n",
        "# [5] [9] > 9\r\n",
        "\r\n",
        "# 프렉탈함수?"
      ],
      "execution_count": null,
      "outputs": [
        {
          "output_type": "execute_result",
          "data": {
            "text/plain": [
              "(2, 2, 2)"
            ]
          },
          "metadata": {
            "tags": []
          },
          "execution_count": 36
        }
      ]
    },
    {
      "cell_type": "code",
      "metadata": {
        "id": "AXUVPo76WBoy",
        "colab": {
          "base_uri": "https://localhost:8080/"
        },
        "outputId": "8f2b07e6-8c53-46ff-cca3-c98cc241bf04"
      },
      "source": [
        "N = int(input())\r\n",
        "memo = [1,1,1,2,2,3,4] #인덱스값을 P()인걸로\r\n",
        "\r\n",
        "for i in range(N):\r\n",
        "  P = int(input())\r\n",
        "  if P <= 7 :\r\n",
        "    print(memo(P))\r\n",
        "\r\n",
        "  # if memo(P) is in memo:\r\n",
        "  #   return memo(P) < 이건 함수가 아니니까 생략 그런데 이런과정도 시간딜레이에 기여하는것같음\r\n",
        "\r\n",
        "  for i in P:\r\n",
        "      memo.append(memo[i-1]+memo[i-5]) # 보니까 이런식으로짜면 한번 재귀돌릴거 세번돌리는꼴이어서"
      ],
      "execution_count": null,
      "outputs": [
        {
          "output_type": "stream",
          "text": [
            "2 2 2\n"
          ],
          "name": "stdout"
        }
      ]
    },
    {
      "cell_type": "code",
      "metadata": {
        "colab": {
          "base_uri": "https://localhost:8080/"
        },
        "id": "l75DtoV2UDnN",
        "outputId": "a5fee7e2-a491-4338-bf67-63f89706e2c6"
      },
      "source": [
        "N = int(input())\r\n",
        "memo = [1,1,1,2,2,3,4]\r\n",
        "arr = [int(input()) for i in range(N)]\r\n",
        "\r\n",
        "for i in range(7,max(arr)):\r\n",
        "  memo.append(memo[i-1]+memo[i-5])\r\n",
        "\r\n",
        "for i in arr:\r\n",
        "  print(memo[i-1])"
      ],
      "execution_count": null,
      "outputs": [
        {
          "output_type": "stream",
          "text": [
            "2\n",
            "6\n",
            "12\n",
            "3\n",
            "16\n"
          ],
          "name": "stdout"
        }
      ]
    },
    {
      "cell_type": "code",
      "metadata": {
        "id": "0-zaOM6zX9bX"
      },
      "source": [
        "for i in range(8,1):\r\n",
        "  print(i)\r\n",
        "\r\n",
        "# 이렇게 실행시켜보니까 아무것도 안나옴"
      ],
      "execution_count": null,
      "outputs": []
    },
    {
      "cell_type": "code",
      "metadata": {
        "id": "NUWp45oWYHBP",
        "colab": {
          "base_uri": "https://localhost:8080/"
        },
        "outputId": "89c4b759-50af-4933-82c8-aaef66dadf6a"
      },
      "source": [
        "for i in range(8,1,-1):\r\n",
        "  print(i)\r\n",
        "# 이런식으로 해줘야 나오더라"
      ],
      "execution_count": null,
      "outputs": [
        {
          "output_type": "stream",
          "text": [
            "8\n",
            "7\n",
            "6\n",
            "5\n",
            "4\n",
            "3\n",
            "2\n"
          ],
          "name": "stdout"
        }
      ]
    },
    {
      "cell_type": "markdown",
      "metadata": {
        "id": "-jzRxZN0WKLn"
      },
      "source": [
        "# 8번 RGB거리\r\n",
        "문제: https://www.acmicpc.net/problem/1149"
      ]
    },
    {
      "cell_type": "code",
      "metadata": {
        "id": "0VUrpRkDVcal"
      },
      "source": [
        "# 집의수\r\n",
        "# 집 칠하는 비용 , 빨 초 파\r\n",
        "\r\n",
        "n = int(input())\r\n",
        "RGB = []\r\n",
        "\r\n",
        "# RGB에 각 색깔별 페인트 비용을 넣어줌\r\n",
        "for i in range(n):\r\n",
        "  RGB.append(list(map(int,input().strip().split())))\r\n",
        "\r\n",
        "# 그리고 빨-초-파를 고를때의 최솟값 그리고 빨-초-파를 고를때의 최솟값\r\n",
        "for i in range(1,n):\r\n",
        "  RGB[i][0] = min(RGB[i-1][1],RGB[i-1][2]) + RGB[i][0]\r\n",
        "  RGB[i][1] = min(RGB[i-1][0],RGB[i-1][2]) + RGB[i][1]\r\n",
        "  RGB[i][2] = min(RGB[i-1][0],RGB[i-1][1]) + RGB[i][2]\r\n",
        "\r\n",
        "print(min(RGB[n-1]))"
      ],
      "execution_count": null,
      "outputs": []
    },
    {
      "cell_type": "code",
      "metadata": {
        "colab": {
          "base_uri": "https://localhost:8080/"
        },
        "id": "fM32J47qVLs3",
        "outputId": "e80bc08b-df36-434f-e6f4-7c3b9fd8b7ad"
      },
      "source": [
        "26+57+13"
      ],
      "execution_count": null,
      "outputs": [
        {
          "output_type": "execute_result",
          "data": {
            "text/plain": [
              "96"
            ]
          },
          "metadata": {
            "tags": []
          },
          "execution_count": 1
        }
      ]
    },
    {
      "cell_type": "markdown",
      "metadata": {
        "id": "JognZ1VaUFU8"
      },
      "source": [
        "# 9번 정수삼각형\r\n",
        "문제: https://www.acmicpc.net/problem/1149"
      ]
    },
    {
      "cell_type": "code",
      "metadata": {
        "colab": {
          "base_uri": "https://localhost:8080/"
        },
        "id": "dg5zCRCuUIUW",
        "outputId": "c461c3ce-4641-40cc-8f88-4cc77051788b"
      },
      "source": [
        "7+8+1+7+5\r\n",
        "7+3+8+7+5\r\n",
        "\r\n",
        "## 풀이\r\n",
        "# 예를 들어 다차원 리스트는.. 어떤지..\r\n",
        "# [[7],[3,8],[8,1,0]]\r\n",
        "\r\n",
        "# 아!!!!!1 하나만 선택해서 더하려고했더니 보니까 전부 계산하네요ㅋ"
      ],
      "execution_count": null,
      "outputs": [
        {
          "output_type": "execute_result",
          "data": {
            "text/plain": [
              "30"
            ]
          },
          "metadata": {
            "tags": []
          },
          "execution_count": 4
        }
      ]
    },
    {
      "cell_type": "code",
      "metadata": {
        "colab": {
          "base_uri": "https://localhost:8080/"
        },
        "id": "k0xHQONvqIOz",
        "outputId": "899eee13-bf7f-4e5a-eabd-c0072a2f6011"
      },
      "source": [
        "N = int(input())\r\n",
        "triangle = [list(map(int, input().split())) for _ in range(N)]\r\n",
        "\r\n",
        "# 총 N - 1번의 계산이 이루어진다.\r\n",
        "for i in range(N - 1):\r\n",
        "    for j in range(len(triangle[i + 1])):\r\n",
        "        # 첫번쨰와 끝부분 같은 경우는 그냥 더해주면 된다.\r\n",
        "        if(j == 0):\r\n",
        "            triangle[i + 1][j] = triangle[i][j] + triangle[i + 1][j]\r\n",
        "        elif(j == len(triangle[i + 1]) - 1):\r\n",
        "            triangle[i + 1][-1] = triangle[i][-1] + triangle[i + 1][-1]\r\n",
        "        # 그렇지 않고 중간에 있는 숫자들(예를 들어 1 3 1 의 3같은 경우)은 바로 위 그룹의 \r\n",
        "        # 자기 자신의 인덱스 - 1 과 자기 자신의 인덱스와의 합이 총 2개가 나오는데\r\n",
        "        # 2개 중 max를 고려하여 교체해야한다.\r\n",
        "        else:\r\n",
        "            triangle[i + 1][j] = max(triangle[i][j - 1] + triangle[i + 1][j], triangle[i][j] + triangle[i + 1][j])\r\n",
        "print(max(triangle[-1]))"
      ],
      "execution_count": null,
      "outputs": [
        {
          "output_type": "stream",
          "text": [
            "5\n",
            "7\n",
            "3 8\n",
            "8 1 0\n",
            "2 7 4 4\n",
            "4 5 2 6 5\n"
          ],
          "name": "stdout"
        }
      ]
    },
    {
      "cell_type": "code",
      "metadata": {
        "colab": {
          "base_uri": "https://localhost:8080/"
        },
        "id": "jrs2cD7at7Yv",
        "outputId": "18ae47cf-0fe6-411c-f31d-4ce99f35475c"
      },
      "source": [
        "tri = []\r\n",
        "t = map(int,input().split())\r\n",
        "tri.append(list(t))\r\n",
        "tri[0] #아 이렇게 직접적으로 입력하면 이미 빈 리스트에선 수식할수없다고나옴"
      ],
      "execution_count": null,
      "outputs": [
        {
          "output_type": "stream",
          "text": [
            "7\n"
          ],
          "name": "stdout"
        }
      ]
    },
    {
      "cell_type": "markdown",
      "metadata": {
        "id": "oaQ2SCFy2ggU"
      },
      "source": [
        "# 10번 동전0\r\n",
        "문제: https://www.acmicpc.net/problem/11047"
      ]
    },
    {
      "cell_type": "code",
      "metadata": {
        "id": "BsZTEfXmuLFR"
      },
      "source": [
        "#첫째줄에 \r\n",
        "n, k = map(int, input().split()) #n은 돈의 종류, k는 우리가 계산해야할 돈의 값첫째줄에 \r\n",
        "n, k = map(int, input().split()) #n은 돈의 종류, k는 우리가 계산해야할 돈의 값\r\n",
        "money = [int(input()) for i in range(n)]\r\n",
        "\r\n",
        "num = 0\r\n",
        "\r\n",
        "for i in range(1,n+1):\r\n",
        "  coin = Money[-i]\r\n",
        "  if K >= coin:\r\n",
        "    mok = K//coin\r\n",
        "    K -= coin*mok\r\n",
        "    num += mok\r\n",
        "\r\n",
        "print(num)"
      ],
      "execution_count": null,
      "outputs": []
    },
    {
      "cell_type": "code",
      "metadata": {
        "colab": {
          "base_uri": "https://localhost:8080/"
        },
        "id": "_YjNEyGFHcny",
        "outputId": "f7af2f68-0fb0-4c17-99fc-465d49236919"
      },
      "source": [
        "n, k = map(int, input().split())\r\n",
        "m = []\r\n",
        "num = 0\r\n",
        "for i in range(n):\r\n",
        "    m.append(int(input()))\r\n",
        "for i in range(n - 1, -1, -1):\r\n",
        "    if k == 0:\r\n",
        "        break\r\n",
        "    if m[i] > k:\r\n",
        "        continue\r\n",
        "    num += k // m[i]\r\n",
        "    k %= m[i]\r\n",
        "print(num)"
      ],
      "execution_count": null,
      "outputs": [
        {
          "output_type": "stream",
          "text": [
            "10 4200\n",
            "1\n",
            "5\n",
            "10\n",
            "50\n",
            "100\n",
            "500\n",
            "1000\n",
            "5000\n",
            "10000\n",
            "50000\n",
            "6\n"
          ],
          "name": "stdout"
        }
      ]
    },
    {
      "cell_type": "markdown",
      "metadata": {
        "id": "TiUL-ynoPo97"
      },
      "source": [
        "# 11번 ATM\r\n",
        "문제: https://www.acmicpc.net/problem/11399"
      ]
    },
    {
      "cell_type": "code",
      "metadata": {
        "colab": {
          "base_uri": "https://localhost:8080/"
        },
        "id": "L36gbvWyWvws",
        "outputId": "244cd82b-9f7f-49fa-eb1f-b4bce6ec380f"
      },
      "source": [
        "a = int(input())\r\n",
        "L = [int(input()) for i in range(a)]\r\n",
        "\r\n",
        "L.sort()\r\n",
        "\r\n",
        "p = 0\r\n",
        "t = []\r\n",
        "\r\n",
        "for i in range(a):\r\n",
        "  p = p + L[i]\r\n",
        "  t.append(p)\r\n",
        "\r\n",
        "print(sum(t))"
      ],
      "execution_count": null,
      "outputs": [
        {
          "output_type": "stream",
          "text": [
            "5\n",
            "3\n",
            "2\n",
            "1\n",
            "3\n",
            "4\n",
            "32\n"
          ],
          "name": "stdout"
        }
      ]
    },
    {
      "cell_type": "code",
      "metadata": {
        "colab": {
          "base_uri": "https://localhost:8080/"
        },
        "id": "HbEvHmR1bttH",
        "outputId": "a14635b8-788a-437d-966a-91086a3d8585"
      },
      "source": [
        "L"
      ],
      "execution_count": null,
      "outputs": [
        {
          "output_type": "execute_result",
          "data": {
            "text/plain": [
              "[1, 2, 3, 3, 4]"
            ]
          },
          "metadata": {
            "tags": []
          },
          "execution_count": 3
        }
      ]
    },
    {
      "cell_type": "code",
      "metadata": {
        "id": "Id_7WGqbHdHw"
      },
      "source": [
        "# 줄을 서는 순서에 따라 돈인출에 필요한 시간의 합이 달라짐\r\n",
        "# 3 1 4 3 2 , [1,2,3,4,5]\r\n",
        "# 3 4 8 11 13"
      ],
      "execution_count": null,
      "outputs": []
    },
    {
      "cell_type": "code",
      "metadata": {
        "id": "X2jo2CD_VZJb"
      },
      "source": [
        "# 이런느낌으로 풀면 되는것 아닌..가?\r\n",
        "list = [3,1,4,3,2]\r\n",
        "list.sort()"
      ],
      "execution_count": null,
      "outputs": []
    },
    {
      "cell_type": "code",
      "metadata": {
        "colab": {
          "base_uri": "https://localhost:8080/"
        },
        "id": "Ba4OIyz-VneK",
        "outputId": "366a6cb3-b6e3-4471-f58c-2d95451f9f94"
      },
      "source": [
        "list # [1, 2, 3, 3, 4]\r\n",
        "1+3+6+9+13"
      ],
      "execution_count": null,
      "outputs": [
        {
          "output_type": "execute_result",
          "data": {
            "text/plain": [
              "32"
            ]
          },
          "metadata": {
            "tags": []
          },
          "execution_count": 29
        }
      ]
    },
    {
      "cell_type": "code",
      "metadata": {
        "colab": {
          "base_uri": "https://localhost:8080/"
        },
        "id": "b6hike6_VqcJ",
        "outputId": "32a95fa4-d11b-47aa-e74e-5ff977bd664d"
      },
      "source": [
        "a = int(input())\r\n",
        "list = [int(input()) for i in range(a)]\r\n",
        "\r\n",
        "list.sort()\r\n",
        "\r\n",
        "p = 0\r\n",
        "time = []\r\n",
        "\r\n",
        "for i in range(a):\r\n",
        "  p = p + list[i]\r\n",
        "  time.append(p)\r\n",
        "\r\n",
        "\r\n",
        "print(sum(time))"
      ],
      "execution_count": null,
      "outputs": [
        {
          "output_type": "stream",
          "text": [
            "5\n",
            "3\n",
            "1\n",
            "4\n",
            "3\n",
            "2\n",
            "13\n"
          ],
          "name": "stdout"
        }
      ]
    },
    {
      "cell_type": "code",
      "metadata": {
        "id": "NXDxvR8kcY_e"
      },
      "source": [
        "# 심현인님 코드\r\n",
        "total = int(input())\r\n",
        "time = list(map(int, input().split()))\r\n",
        "time.sort()\r\n",
        "ans = 0\r\n",
        "for i in range(len(time)):\r\n",
        "    ans += sum(time[0:i+1])\r\n",
        "        \r\n",
        "print(ans)"
      ],
      "execution_count": null,
      "outputs": []
    },
    {
      "cell_type": "markdown",
      "metadata": {
        "id": "BpSzvfLTcSS7"
      },
      "source": [
        "# 12번 약수\r\n",
        "문제: https://www.acmicpc.net/problem/1037\r\n",
        "  - math 모듈 써볼것\r\n",
        "  - 유클리드 호제?"
      ]
    },
    {
      "cell_type": "code",
      "metadata": {
        "id": "n7NlwjD-XBBq",
        "colab": {
          "base_uri": "https://localhost:8080/"
        },
        "outputId": "8cde8ed0-4eae-4ab2-fbe5-05d32dd084bc"
      },
      "source": [
        "# 약수 개수 > 주어지는 약수들\r\n",
        "N = int(input()) # 3 , 갯수\r\n",
        "y = list(map(int, input().split())) # 3 7 13 , 종류 약수 개수 > 주어지는 약수들\r\n",
        "\r\n",
        "# 라는 식이\r\n",
        "\r\n",
        "print(max(y)*min(y))\r\n",
        "\r\n",
        "# 라는 식이 있던데"
      ],
      "execution_count": null,
      "outputs": [
        {
          "output_type": "stream",
          "text": [
            "3\n",
            "3 7 13\n",
            "39\n"
          ],
          "name": "stdout"
        }
      ]
    },
    {
      "cell_type": "code",
      "metadata": {
        "id": "mtTWYCeDoTtO"
      },
      "source": [
        "# 만약\r\n",
        "# 3 6 9 를 약수로 갖는다고치면.."
      ],
      "execution_count": null,
      "outputs": []
    },
    {
      "cell_type": "code",
      "metadata": {
        "colab": {
          "base_uri": "https://localhost:8080/"
        },
        "id": "6lqHZu-npERL",
        "outputId": "9bcccb53-f576-4b1e-9a5f-b00ee1a118dd"
      },
      "source": [
        "y = [3,7,13]\r\n",
        "max(y)*min(y)"
      ],
      "execution_count": null,
      "outputs": [
        {
          "output_type": "execute_result",
          "data": {
            "text/plain": [
              "39"
            ]
          },
          "metadata": {
            "tags": []
          },
          "execution_count": 8
        }
      ]
    },
    {
      "cell_type": "markdown",
      "metadata": {
        "id": "UvGWzx7_4v2f"
      },
      "source": [
        "# 13번 최대공약수와 최소공배수\r\n",
        "문제: https://www.acmicpc.net/problem/2609\r\n",
        "  - math 모듈 써볼것\r\n",
        "  - 유클리드 호제?"
      ]
    },
    {
      "cell_type": "code",
      "metadata": {
        "colab": {
          "base_uri": "https://localhost:8080/"
        },
        "id": "ls-3aEsqpEoi",
        "outputId": "16b06786-31a6-48e8-e695-8658e24c0870"
      },
      "source": [
        "# 24 18\r\n",
        "# 2 3 2 2 / 3 2 3\r\n",
        "# 2*3 / 24*3 , 18*4\r\n",
        "# 최대공약수 x 최소공배수 = A x B \r\n",
        "# (24*18)/6 > 72\r\n",
        "# 즉, 인풋 두개 곱하고 최소공배수구하면 최대는 구한셈"
      ],
      "execution_count": null,
      "outputs": [
        {
          "output_type": "execute_result",
          "data": {
            "text/plain": [
              "5.571428571428571"
            ]
          },
          "metadata": {
            "tags": []
          },
          "execution_count": 10
        }
      ]
    },
    {
      "cell_type": "code",
      "metadata": {
        "colab": {
          "base_uri": "https://localhost:8080/"
        },
        "id": "FO5uIK1bpjJt",
        "outputId": "53c85f8e-0b4b-4431-822d-2d00636df684"
      },
      "source": [
        "a,b = map(int,input().split())\r\n"
      ],
      "execution_count": null,
      "outputs": [
        {
          "output_type": "stream",
          "text": [
            "24 18\n"
          ],
          "name": "stdout"
        }
      ]
    },
    {
      "cell_type": "code",
      "metadata": {
        "colab": {
          "base_uri": "https://localhost:8080/"
        },
        "id": "RLFpWbfFFo-J",
        "outputId": "a8bd7871-1e49-49cc-b597-eb84c8440fd9"
      },
      "source": [
        "b"
      ],
      "execution_count": null,
      "outputs": [
        {
          "output_type": "execute_result",
          "data": {
            "text/plain": [
              "18"
            ]
          },
          "metadata": {
            "tags": []
          },
          "execution_count": 17
        }
      ]
    },
    {
      "cell_type": "code",
      "metadata": {
        "id": "08nl8biuG3na"
      },
      "source": [
        ""
      ],
      "execution_count": null,
      "outputs": []
    }
  ]
}