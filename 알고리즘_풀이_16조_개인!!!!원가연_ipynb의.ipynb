{
  "nbformat": 4,
  "nbformat_minor": 0,
  "metadata": {
    "colab": {
      "name": "알고리즘_풀이_16조_개인!!!!원가연.ipynb의 사본",
      "provenance": [],
      "collapsed_sections": []
    },
    "kernelspec": {
      "name": "python3",
      "display_name": "Python 3"
    }
  },
  "cells": [
    {
      "cell_type": "markdown",
      "metadata": {
        "id": "6c0GmHAgo9FP"
      },
      "source": [
        "# 1번째 문제"
      ]
    },
    {
      "cell_type": "markdown",
      "metadata": {
        "id": "S3Ha8z13xVKU"
      },
      "source": [
        "## 1번방식"
      ]
    },
    {
      "cell_type": "code",
      "metadata": {
        "colab": {
          "base_uri": "https://localhost:8080/"
        },
        "id": "gzwGuwC2lJLr",
        "outputId": "9952a2aa-ab09-4ba1-92d2-de4cdfdc1e90"
      },
      "source": [
        "a,b = input().split()\r\n",
        "a = int(a)\r\n",
        "b = int(b)\r\n",
        "\r\n",
        "print(a+b)\r\n",
        "print(a-b)\r\n",
        "print(a*b)\r\n",
        "print(int(a/b))\r\n",
        "#print(a//b)\r\n",
        "print(a%b)\r\n",
        "#print(\"%d\\n%d\\n%d\\n%d\\n%d\"%(a+b, a-b, a*b, a/b, a%b))"
      ],
      "execution_count": null,
      "outputs": [
        {
          "output_type": "stream",
          "text": [
            "7 3\n",
            "10\n",
            "4\n",
            "21\n",
            "2\n",
            "1\n"
          ],
          "name": "stdout"
        }
      ]
    },
    {
      "cell_type": "markdown",
      "metadata": {
        "id": "y44Bm0ZVxaPI"
      },
      "source": [
        "## 2번방식"
      ]
    },
    {
      "cell_type": "code",
      "metadata": {
        "id": "V9w9C09husqo"
      },
      "source": [
        "a,b = input().split()\r\n",
        "a,b = int(a),int(b)\r\n",
        "\r\n",
        "def num(w,z):\r\n",
        "  print(w+z)\r\n",
        "  print(w-z)\r\n",
        "  print(w*z)\r\n",
        "  print(int(w/z))\r\n",
        "  print(w%z)\r\n",
        "\r\n",
        "num(a,b)"
      ],
      "execution_count": null,
      "outputs": []
    },
    {
      "cell_type": "markdown",
      "metadata": {
        "id": "YzZTZ3Who_nW"
      },
      "source": [
        "#2번째 문제"
      ]
    },
    {
      "cell_type": "code",
      "metadata": {
        "id": "8DkcSO68qkq5",
        "colab": {
          "base_uri": "https://localhost:8080/"
        },
        "outputId": "4aa9a750-cca3-488e-e519-15af51918634"
      },
      "source": [
        "##### 이건 제가 풀었습니다\r\n",
        "# str타입일때 분해해서\r\n",
        "\r\n",
        "a = int(input())\r\n",
        "b = input()\r\n",
        "\r\n",
        "# 첫번째는 a와 b의 일의자리수\r\n",
        "print(a*int(b[2]))\r\n",
        "# 두번째는 a와 b의 십의자리수\r\n",
        "print(a*int(b[1]))\r\n",
        "# 세번째는 a와 b의 백의자리수\r\n",
        "print(a*int(b[0]))\r\n",
        "\r\n",
        "# a와 b\r\n",
        "print(a*int(b))"
      ],
      "execution_count": null,
      "outputs": [
        {
          "output_type": "stream",
          "text": [
            "472 385\n",
            "2360\n",
            "3776\n",
            "1416\n",
            "181720\n"
          ],
          "name": "stdout"
        }
      ]
    },
    {
      "cell_type": "code",
      "metadata": {
        "colab": {
          "base_uri": "https://localhost:8080/"
        },
        "id": "GB2g0c8ao-Vr",
        "outputId": "370ff6a1-1bfe-422a-b989-02710aaa4329"
      },
      "source": [
        "#### 이건 input값 어떻게 처리해야하지하고 가져온 다른사람코드\r\n",
        "\r\n",
        "num1 = int(input())\r\n",
        "num2 = input()\r\n",
        " \r\n",
        "for i in range(0, 3):\r\n",
        "    result = num1*int(num2[2-i])\r\n",
        "    print(result)\r\n",
        " \r\n",
        "print(num1*int(num2))"
      ],
      "execution_count": null,
      "outputs": [
        {
          "output_type": "stream",
          "text": [
            "472\n",
            "385\n",
            "2360\n",
            "3776\n",
            "1416\n",
            "181720\n"
          ],
          "name": "stdout"
        }
      ]
    },
    {
      "cell_type": "markdown",
      "metadata": {
        "id": "7W6s2OKJ2nFr"
      },
      "source": [
        "# 3번"
      ]
    },
    {
      "cell_type": "code",
      "metadata": {
        "id": "e_M3eg0PwapF",
        "colab": {
          "base_uri": "https://localhost:8080/"
        },
        "outputId": "87d00464-032a-485e-8889-32104e21f12a"
      },
      "source": [
        "hour,min= map(int,input().split())\r\n",
        "\r\n",
        "# 이렇게짜면 예외상황이 자주 발생하니까\r\n",
        "# if hour==0 and min<44:\r\n",
        "#   print(23-hour,60-45+min)\r\n",
        "# elif hour==0 and min>=45:\r\n",
        "#   print(hour,min-45)\r\n",
        "# elif hour!=0 and min<44:\r\n",
        "#   print(hour-1,60-45+min)\r\n",
        "# else:\r\n",
        "#   print(hour-1,min-45)\r\n",
        "\r\n",
        "# 현재시간이 45분이 넘었는지를 기준으로 판단\r\n",
        "if min <45:\r\n",
        "  # 특이케이스인 00시에만 분을 줄이면 23시라고 선언\r\n",
        "  if hour ==0:\r\n",
        "    hour = 23\r\n",
        "  else:\r\n",
        "    hour = hour-1\r\n",
        "  min = min + 15\r\n",
        "else:\r\n",
        "  min = min - 45\r\n",
        "\r\n",
        "print(hour,min)\r\n",
        "\r\n"
      ],
      "execution_count": null,
      "outputs": [
        {
          "output_type": "stream",
          "text": [
            "0 15\n",
            "23 30\n"
          ],
          "name": "stdout"
        }
      ]
    },
    {
      "cell_type": "code",
      "metadata": {
        "id": "wyjHtcPF2qMR",
        "colab": {
          "base_uri": "https://localhost:8080/"
        },
        "outputId": "9a13fb3a-c802-4473-e60d-57e2105cd44d"
      },
      "source": [
        "## 채진욱님 풀이방법 ###\r\n",
        "#변수를 입력받는 방법\r\n",
        "h,m = map(int, input().split())\r\n",
        "\r\n",
        "\r\n",
        "#문제풀이\r\n",
        "if m < 45:\r\n",
        "    if h == 0:\r\n",
        "        h= 23\r\n",
        "    else:\r\n",
        "        h=h-1\r\n",
        "    m = m+15\r\n",
        "else :\r\n",
        "    m=m-45\r\n",
        "\r\n",
        "print(h,m)"
      ],
      "execution_count": null,
      "outputs": [
        {
          "output_type": "stream",
          "text": [
            "0 50\n",
            "0 5\n"
          ],
          "name": "stdout"
        }
      ]
    },
    {
      "cell_type": "code",
      "metadata": {
        "id": "nuiBbfZH2m43",
        "colab": {
          "base_uri": "https://localhost:8080/"
        },
        "outputId": "3cedc0f9-0732-42c0-94a8-50a989cfafca"
      },
      "source": [
        "hour = 0 , min>45\r\n",
        " print(24-hour,min-45)\r\n",
        "hour = 0 , min < 45\r\n",
        "print(24-hour,M-45+min)\r\n",
        "hour != 0 , min>45\r\n",
        "print(hour-1,min-45)\r\n",
        "hout !=0 , ming<45\r\n",
        "print(hour-1,M-45+min)"
      ],
      "execution_count": null,
      "outputs": [
        {
          "output_type": "execute_result",
          "data": {
            "text/plain": [
              "0"
            ]
          },
          "metadata": {
            "tags": []
          },
          "execution_count": 77
        }
      ]
    },
    {
      "cell_type": "markdown",
      "metadata": {
        "id": "LAASGna97DHj"
      },
      "source": [
        "# 4번"
      ]
    },
    {
      "cell_type": "markdown",
      "metadata": {
        "id": "92TxKnJGR6Ql"
      },
      "source": [
        "0보다 크거나 같고, 99보다 작거나 같은 정수가 주어질 때 다음과 같은 연산을 할 수 있다. 먼저 주어진 수가 10보다 작다면 앞에 0을 붙여 두 자리 수로 만들고, 각 자리의 숫자를 더한다. 그 다음, 주어진 수의 가장 오른쪽 자리 수와 앞에서 구한 합의 가장 오른쪽 자리 수를 이어 붙이면 새로운 수를 만들 수 있다. 다음 예를 보자.\r\n",
        "\r\n",
        "26부터 시작한다. 2+6 = 8이다. 새로운 수는 68이다. 6+8 = 14이다. 새로운 수는 84이다. 8+4 = 12이다. 새로운 수는 42이다. 4+2 = 6이다. 새로운 수는 26이다.\r\n",
        "\r\n",
        "위의 예는 4번만에 원래 수로 돌아올 수 있다. 따라서 26의 사이클의 길이는 4이다.\r\n",
        "\r\n",
        "N이 주어졌을 때, N의 사이클의 길이를 구하는 프로그램을 작성하시오."
      ]
    },
    {
      "cell_type": "code",
      "metadata": {
        "id": "APfu8FafR74L",
        "colab": {
          "base_uri": "https://localhost:8080/",
          "height": 136
        },
        "outputId": "8475ab2a-eae0-4978-ccdc-047a2efce5dd"
      },
      "source": [
        "# 실패해서 버리는코드\r\n",
        "init = int(input())\r\n",
        "count = 0\r\n",
        "if init>=10:\r\n",
        "  a = str(init)\r\n",
        "  b = int(a[1]) + int(a[0])\r\n",
        "  while init = b:\r\n",
        "    count +=1\r\n",
        "\r\n",
        "  elif:\r\n",
        "    a = str(init)+ \"0\"\r\n",
        "    b = int(a[1]) + int(a[0])\r\n",
        "    while \r\n",
        "\r\n",
        "print(count)"
      ],
      "execution_count": null,
      "outputs": [
        {
          "output_type": "error",
          "ename": "SyntaxError",
          "evalue": "ignored",
          "traceback": [
            "\u001b[0;36m  File \u001b[0;32m\"<ipython-input-179-9be6ea57c4ff>\"\u001b[0;36m, line \u001b[0;32m7\u001b[0m\n\u001b[0;31m    while init = b:\u001b[0m\n\u001b[0m               ^\u001b[0m\n\u001b[0;31mSyntaxError\u001b[0m\u001b[0;31m:\u001b[0m invalid syntax\n"
          ]
        }
      ]
    },
    {
      "cell_type": "code",
      "metadata": {
        "id": "1hSMdZmIVYU7",
        "colab": {
          "base_uri": "https://localhost:8080/"
        },
        "outputId": "ccb2c733-7623-4222-9855-9d05ad7226e6"
      },
      "source": [
        "n = num = int(input())\r\n",
        "count = 0\r\n",
        "while True:\r\n",
        "    십의자리수 = n // 10\r\n",
        "    일의자리수 = n % 10\r\n",
        "    total = 십의자리수 + 일의자리수\r\n",
        "    count += 1\r\n",
        "    n = int(str(n % 10) + str(total % 10))\r\n",
        "    if(num == n):\r\n",
        "        break\r\n",
        "print(count)"
      ],
      "execution_count": null,
      "outputs": [
        {
          "output_type": "stream",
          "text": [
            "3\n",
            "60\n"
          ],
          "name": "stdout"
        }
      ]
    },
    {
      "cell_type": "code",
      "metadata": {
        "id": "lAX1Cng_wz93",
        "colab": {
          "base_uri": "https://localhost:8080/"
        },
        "outputId": "b0bacc06-de95-499a-e289-c5d748bef9e2"
      },
      "source": [
        ""
      ],
      "execution_count": null,
      "outputs": [
        {
          "output_type": "stream",
          "text": [
            "2\n"
          ],
          "name": "stdout"
        }
      ]
    },
    {
      "cell_type": "code",
      "metadata": {
        "id": "zMQM3uOXIZp9",
        "colab": {
          "base_uri": "https://localhost:8080/"
        },
        "outputId": "2ad70182-abd7-45e7-d16a-3b46d987dae0"
      },
      "source": [
        "5/2\r\n",
        "5//2\r\n",
        "5%2"
      ],
      "execution_count": null,
      "outputs": [
        {
          "output_type": "execute_result",
          "data": {
            "text/plain": [
              "1"
            ]
          },
          "metadata": {
            "tags": []
          },
          "execution_count": 115
        }
      ]
    },
    {
      "cell_type": "code",
      "metadata": {
        "id": "Avvhhza3bqsr"
      },
      "source": [
        ""
      ],
      "execution_count": null,
      "outputs": []
    },
    {
      "cell_type": "markdown",
      "metadata": {
        "id": "b02iHFVzkiS1"
      },
      "source": [
        "# 토요일 1번문제(해결함. 당연함.)"
      ]
    },
    {
      "cell_type": "code",
      "metadata": {
        "id": "kSpoBrN1kkN8",
        "colab": {
          "base_uri": "https://localhost:8080/"
        },
        "outputId": "eb062f10-5198-4698-fa12-70a93acd896b"
      },
      "source": [
        "all_case = int(input())\r\n",
        "for i in range(all_case):\r\n",
        "  case = map(int,input().split())\r\n",
        "  a = list(case)\r\n",
        "  a_mean = sum(a[1:])/len(a[1:])\r\n",
        "  high_late = (len([i for i in a[1:] if i >a_mean])/len(a[1:]))*100\r\n",
        "  print(f'{high_late:.3f}%') \r\n",
        "  #처음엔 round함수를 사용했는데 40.000%가 40.0%로 나오기에 3번째자리에서 올려주는 프린트를 사용"
      ],
      "execution_count": null,
      "outputs": [
        {
          "output_type": "stream",
          "text": [
            "5\n",
            "5 50 50 70 80 100\n",
            "40.000%\n",
            "7 100 95 90 80 70 60 50\n",
            "57.143%\n",
            "3 70 90 80\n",
            "33.333%\n",
            "3 70 90 81\n",
            "66.667%\n",
            "9 100 99 98 97 96 95 94 93 91\n",
            "55.556%\n"
          ],
          "name": "stdout"
        }
      ]
    },
    {
      "cell_type": "code",
      "metadata": {
        "id": "DUj2m96Zw3Qf"
      },
      "source": [
        "5\r\n",
        "5 50 50 70 80 100\r\n",
        "7 100 95 90 80 70 60 50\r\n",
        "3 70 90 80\r\n",
        "3 70 90 81\r\n",
        "9 100 99 98 97 96 95 94 93 91"
      ],
      "execution_count": null,
      "outputs": []
    },
    {
      "cell_type": "code",
      "metadata": {
        "id": "X7302TjVmZ2k",
        "colab": {
          "base_uri": "https://localhost:8080/"
        },
        "outputId": "90a07425-a425-4ba1-b443-9b50591832a7"
      },
      "source": [
        "a = [5 ,50 ,50 ,70, 80 ,100]\r\n",
        "a_mean = sum(a[1:])/len(a[1:])\r\n",
        "high_late = (len([i for i in a[1:] if i >=a_mean])/len(a[1:]))*100\r\n",
        "print(round(high_late,3),\"%\")"
      ],
      "execution_count": null,
      "outputs": [
        {
          "output_type": "stream",
          "text": [
            "60.0 %\n"
          ],
          "name": "stdout"
        }
      ]
    },
    {
      "cell_type": "code",
      "metadata": {
        "id": "9eFjPss5lTeS",
        "colab": {
          "base_uri": "https://localhost:8080/"
        },
        "outputId": "4caeef8a-cb00-4bc4-a516-5d887953a3b2"
      },
      "source": [
        "a = [5 ,50 ,50 ,70, 80 ,100]\r\n",
        "a_mean = sum(a[1:])/len(a)\r\n",
        "print(a[0]/len([i for i in a if i >=a_mean]))\r\n"
      ],
      "execution_count": null,
      "outputs": [
        {
          "output_type": "stream",
          "text": [
            "1.4\n"
          ],
          "name": "stdout"
        }
      ]
    },
    {
      "cell_type": "code",
      "metadata": {
        "id": "l2mgA8X_mcu0"
      },
      "source": [
        "a = [5 ,50 ,50 ,70, 80 ,100]\r\n",
        "sum(a[1:])/a[0]"
      ],
      "execution_count": null,
      "outputs": []
    },
    {
      "cell_type": "code",
      "metadata": {
        "id": "dHzalP2ta4g-",
        "colab": {
          "base_uri": "https://localhost:8080/"
        },
        "outputId": "e95f6570-4862-47a7-9aa0-e399e1b85a7f"
      },
      "source": [
        "(3242%100)%10"
      ],
      "execution_count": null,
      "outputs": [
        {
          "output_type": "execute_result",
          "data": {
            "text/plain": [
              "2"
            ]
          },
          "metadata": {
            "tags": []
          },
          "execution_count": 33
        }
      ]
    },
    {
      "cell_type": "markdown",
      "metadata": {
        "id": "gDOHpoWy1lDl"
      },
      "source": [
        "# 토요일 2번문제(해결했음)"
      ]
    },
    {
      "cell_type": "code",
      "metadata": {
        "id": "MO9winTiy5HO"
      },
      "source": [
        "####### 내풀이\r\n",
        "def self_num():\r\n",
        "  ns = list() #셀프넘버가 아닌애들을 담아주기\r\n",
        "  res=0\r\n",
        "  for i in range(1,10001):\r\n",
        "    if i < 10:\r\n",
        "      res = i+i\r\n",
        "      ns.append(res)\r\n",
        "    elif i < 100:\r\n",
        "      res = i + (i//10) + (i%10)\r\n",
        "      ns.append(res)\r\n",
        "    elif i <1000:\r\n",
        "      res = i + (i//100) + ((i%100)//10) + ((i%100)%10)\r\n",
        "      ns.append(res)\r\n",
        "    elif i < 10000:\r\n",
        "      res = i+(i//1000)+((i%1000)//100)+(((i%1000)%100)//10)+(((i%1000)%100)%10)\r\n",
        "      if res <10000:\r\n",
        "        ns.append(res)\r\n",
        "\r\n",
        "  ns.sort()\r\n",
        "  for i in range(1,10001):\r\n",
        "    if i not in ns:\r\n",
        "      print(i)\r\n",
        "\r\n",
        "self_num()"
      ],
      "execution_count": null,
      "outputs": []
    },
    {
      "cell_type": "code",
      "metadata": {
        "id": "6UcQ-d-ayuXe"
      },
      "source": [
        "# 채진욱님 풀이\r\n",
        "def d(n):\r\n",
        "  result = 0\r\n",
        "  if n < 10:\r\n",
        "    result = n+n\r\n",
        "  elif n<100:\r\n",
        "    result = n+ n//10 + n%10\r\n",
        "  elif n<1000:\r\n",
        "    result = n + n//100 + ((n//10)- (n//100)*10) + n%10\r\n",
        "  elif n<10000:\r\n",
        "    result = n + n//1000 + ((n//100)-(n//1000)*10) +((n//10)-(n//100)*10) + n%10\r\n",
        "  return result\r\n",
        "\r\n",
        "n=1\r\n",
        "num=0\r\n",
        "array = []\r\n",
        "\r\n",
        "for i in range(1,10001):\r\n",
        "  array.append(0)\r\n",
        "\r\n",
        "while(n <= 10000):\r\n",
        "  if d(n) <= 10000:\r\n",
        "    array[d(n)-1]=1\r\n",
        "  n +=1\r\n",
        "\r\n",
        "while(num<=9999):\r\n",
        "  if(array[num]==0):\r\n",
        "    print(num+1)\r\n",
        "  num+=1\r\n"
      ],
      "execution_count": null,
      "outputs": []
    },
    {
      "cell_type": "code",
      "metadata": {
        "id": "MGYAMAht5ITs",
        "colab": {
          "base_uri": "https://localhost:8080/"
        },
        "outputId": "b3056abc-54b7-4e95-84f7-8042c02d127d"
      },
      "source": [
        "for i in range(1:100):\r\n",
        "  a = str(i)\r\n",
        "  b = int(a[0:int(len(a)/2)]) + int(a[int(len(a)/2):])\r\n",
        "  print(b)\r\n",
        "  while True:\r\n",
        "    \r\n",
        "# int(a[0:len(a)/2])"
      ],
      "execution_count": null,
      "outputs": [
        {
          "output_type": "stream",
          "text": [
            "57\n",
            "58\n",
            "59\n",
            "60\n"
          ],
          "name": "stdout"
        }
      ]
    },
    {
      "cell_type": "code",
      "metadata": {
        "id": "HH--M5fM5Jvk"
      },
      "source": [
        "def d(n):\r\n",
        "    a = 0\r\n",
        "    for x in list(str(n)):\r\n",
        "        a = a + int(x) \r\n",
        "    return int(n) + a\r\n",
        "a= []\r\n",
        "for i in range(1,10001):\r\n",
        "    k = d(i)\r\n",
        "    a.append(k)\r\n",
        "\r\n",
        "for b in range(1, 10001):\r\n",
        "    if b in a:\r\n",
        "        pass\r\n",
        "    else:\r\n",
        "        print(b)"
      ],
      "execution_count": null,
      "outputs": []
    },
    {
      "cell_type": "code",
      "metadata": {
        "id": "T0H8bmeE2_jK",
        "colab": {
          "base_uri": "https://localhost:8080/"
        },
        "outputId": "03488ff8-7cf6-45b2-ff27-03ce3faa9e98"
      },
      "source": [
        "def self_num():\r\n",
        "  "
      ],
      "execution_count": null,
      "outputs": [
        {
          "output_type": "stream",
          "text": [
            "2\n"
          ],
          "name": "stdout"
        }
      ]
    },
    {
      "cell_type": "markdown",
      "metadata": {
        "id": "RfHd1s9EGguQ"
      },
      "source": [
        "# 3번"
      ]
    },
    {
      "cell_type": "code",
      "metadata": {
        "id": "qdxfiFniCN2R",
        "colab": {
          "base_uri": "https://localhost:8080/"
        },
        "outputId": "c780f563-7675-4b88-e502-d78f15256918"
      },
      "source": [
        "a = input().upper()"
      ],
      "execution_count": null,
      "outputs": [
        {
          "output_type": "stream",
          "text": [
            "Mississipi\n"
          ],
          "name": "stdout"
        }
      ]
    },
    {
      "cell_type": "code",
      "metadata": {
        "id": "OoprP_NSGmju",
        "colab": {
          "base_uri": "https://localhost:8080/"
        },
        "outputId": "04df8ec6-b694-47a5-ffe8-6a43f5d43628"
      },
      "source": [
        "print(a)\r\n",
        "b = list(set(a))\r\n",
        "for i in range(0,len(a)):\r\n",
        "  "
      ],
      "execution_count": null,
      "outputs": [
        {
          "output_type": "stream",
          "text": [
            "MISSISSIPI\n"
          ],
          "name": "stdout"
        }
      ]
    },
    {
      "cell_type": "code",
      "metadata": {
        "id": "hbvMbkI-HqzR",
        "colab": {
          "base_uri": "https://localhost:8080/"
        },
        "outputId": "af704348-fa87-44ba-bcf0-9c0800d65786"
      },
      "source": [
        "txt.count('a')"
      ],
      "execution_count": null,
      "outputs": [
        {
          "output_type": "execute_result",
          "data": {
            "text/plain": [
              "10"
            ]
          },
          "metadata": {
            "tags": []
          },
          "execution_count": 203
        }
      ]
    },
    {
      "cell_type": "code",
      "metadata": {
        "id": "ZE65Jp5bIErj",
        "colab": {
          "base_uri": "https://localhost:8080/"
        },
        "outputId": "f1ba6b7f-3f26-44f0-8f3d-0a13023ac174"
      },
      "source": [
        "list(set(a)) #헉.. 이런게있군ㅋ"
      ],
      "execution_count": null,
      "outputs": [
        {
          "output_type": "execute_result",
          "data": {
            "text/plain": [
              "['I', 'M', 'S', 'P']"
            ]
          },
          "metadata": {
            "tags": []
          },
          "execution_count": 210
        }
      ]
    },
    {
      "cell_type": "code",
      "metadata": {
        "id": "FIwmVA2DJPDf",
        "colab": {
          "base_uri": "https://localhost:8080/"
        },
        "outputId": "7b23dcdb-b97f-4f42-9c50-bb129c9dc59f"
      },
      "source": [
        "words = input().upper()\r\n",
        "unique_words = list(set(words))  # 입력받은 문자열에서 중복값을 제거\r\n",
        "\r\n",
        "cnt_list = []\r\n",
        "for x in unique_words :\r\n",
        "    cnt = words.count(x)\r\n",
        "    cnt_list.append(cnt)  # count 숫자를 리스트에 append\r\n",
        "\r\n",
        "if cnt_list.count(max(cnt_list)) > 1 :  # count 숫자 최대값이 중복되면\r\n",
        "    print('?')\r\n",
        "else :\r\n",
        "    max_index = cnt_list.index(max(cnt_list))  # count 숫자 최대값 인덱스(위치)\r\n",
        "    print(unique_words[max_index].upper())\r\n"
      ],
      "execution_count": null,
      "outputs": [
        {
          "output_type": "stream",
          "text": [
            "wdsdadsdd\n",
            "D\n"
          ],
          "name": "stdout"
        }
      ]
    },
    {
      "cell_type": "code",
      "metadata": {
        "colab": {
          "base_uri": "https://localhost:8080/"
        },
        "id": "9yaJaGlN5RrZ",
        "outputId": "825f03be-af89-432a-f3bb-66528d69dceb"
      },
      "source": [
        "input = \"aaaftta\"\r\n",
        "a = list(set(input))\r\n",
        "cnt_list=[]\r\n",
        "for i in a:\r\n",
        "  print(input.count(i))\r\n",
        "  print()"
      ],
      "execution_count": null,
      "outputs": [
        {
          "output_type": "stream",
          "text": [
            "4\n",
            "1\n",
            "2\n"
          ],
          "name": "stdout"
        }
      ]
    },
    {
      "cell_type": "markdown",
      "metadata": {
        "id": "nYZz31m_yyTG"
      },
      "source": [
        "# 4번\r\n",
        "https://www.acmicpc.net/problem/2941"
      ]
    },
    {
      "cell_type": "code",
      "metadata": {
        "id": "GzGjZC88Lyx_",
        "colab": {
          "base_uri": "https://localhost:8080/"
        },
        "outputId": "998cdff4-6ced-4832-d2de-a8a3962bd761"
      },
      "source": [
        "cro = ['c=','c-','dz=','d-','lj','nj','s=','z=']\r\n",
        "normal = input()\r\n",
        "\r\n",
        "for t in cro:\r\n",
        "  normal = normal.replace(t,'0')\r\n",
        "\r\n",
        "print(len(normal))"
      ],
      "execution_count": null,
      "outputs": [
        {
          "output_type": "stream",
          "text": [
            "ljes=njak\n",
            "6\n"
          ],
          "name": "stdout"
        }
      ]
    },
    {
      "cell_type": "markdown",
      "metadata": {
        "id": "JzwxdbtTZiwf"
      },
      "source": [
        "# 월요일 1번\r\n",
        "(다시풀어볼것 권장) \\\r\n",
        "높이가 v인 막대 올라감, 낮에는 +A 미터 밤에는 -B미터 A+B>V가 되면 멈춤. 이거 며칠걸림?\r\n",
        "입력순은 a b v"
      ]
    },
    {
      "cell_type": "code",
      "metadata": {
        "id": "WuqNQ6Uc08UO",
        "colab": {
          "base_uri": "https://localhost:8080/"
        },
        "outputId": "095ccb13-bee4-4839-80b5-d8f6dcaca0fb"
      },
      "source": [
        "a,b,v = map(int,input().split())\r\n",
        "day = 0\r\n",
        "while 1:\r\n",
        "  day = day+1\r\n",
        "  if day>=(v-b)/(a-b):\r\n",
        "    break\r\n",
        "\r\n",
        "print(day)"
      ],
      "execution_count": null,
      "outputs": [
        {
          "output_type": "stream",
          "text": [
            "5\n",
            "2\n",
            "1\n",
            "1\n"
          ],
          "name": "stdout"
        }
      ]
    },
    {
      "cell_type": "code",
      "metadata": {
        "id": "6Gz-kbMIoiVq",
        "colab": {
          "base_uri": "https://localhost:8080/"
        },
        "outputId": "711a03f2-a15c-4b6e-d0aa-2a1b50b865d3"
      },
      "source": [
        "import math\r\n",
        "\r\n",
        "a, b, v = map(int, input().split())\r\n",
        "\r\n",
        "cnt = int(math.ceil((v-b)/(a-b))) \r\n",
        "\r\n",
        "print(cnt)"
      ],
      "execution_count": null,
      "outputs": [
        {
          "output_type": "stream",
          "text": [
            "3 1 10\n",
            "5\n"
          ],
          "name": "stdout"
        }
      ]
    },
    {
      "cell_type": "markdown",
      "metadata": {
        "id": "kibFo2o341_L"
      },
      "source": [
        "# 월요일 2번\r\n",
        "https://www.acmicpc.net/problem/10250"
      ]
    },
    {
      "cell_type": "code",
      "metadata": {
        "colab": {
          "base_uri": "https://localhost:8080/"
        },
        "id": "hvpwFy6KgPjl",
        "outputId": "f20dfc0f-cf28-49cb-d76c-4d93233d0cb3"
      },
      "source": [
        "test = int(input())\r\n",
        "\r\n",
        "for i in range(test):\r\n",
        "  H,W,N = map(int,input().split()) #층 , 방갯수 , 손님\r\n",
        "\r\n",
        "  floor = 0\r\n",
        "  room=0\r\n",
        "\r\n",
        "  if N%H == 0 :\r\n",
        "    floor = H *100\r\n",
        "    room = N//H  # 이부분 실수로 1만 넣음\r\n",
        "  else:\r\n",
        "    floor = (N%H) *100\r\n",
        "    room = N//H + 1\r\n",
        "\r\n",
        "  print(floor+room)"
      ],
      "execution_count": null,
      "outputs": [
        {
          "output_type": "stream",
          "text": [
            "1\n",
            "5 8 10\n",
            "1001\n"
          ],
          "name": "stdout"
        }
      ]
    },
    {
      "cell_type": "code",
      "metadata": {
        "colab": {
          "base_uri": "https://localhost:8080/"
        },
        "id": "nT0FH7VPggpt",
        "outputId": "a6139d0e-d8eb-4f4c-f1d6-a97a0b77ffd1"
      },
      "source": [
        "# 다른사람 답안인데 내답이랑 비슷해서 들고옴\r\n",
        "t = int(input())\r\n",
        "for i in range(t):\r\n",
        "    h, w, n = map(int, input().split())\r\n",
        "    f = 0\r\n",
        "    ho = 0\r\n",
        "    if n % h == 0:\r\n",
        "        f = h * 100\r\n",
        "        ho = n // h\r\n",
        "    else:\r\n",
        "        f = (n % h) * 100\r\n",
        "        ho = 1 + n // h\r\n",
        "    print(f + ho)"
      ],
      "execution_count": null,
      "outputs": [
        {
          "output_type": "stream",
          "text": [
            "1\n",
            "5 8 10\n",
            "502\n"
          ],
          "name": "stdout"
        }
      ]
    },
    {
      "cell_type": "markdown",
      "metadata": {
        "id": "sv4cQLD0j9pA"
      },
      "source": [
        "# 월요일 3번문제\r\n",
        "(다시 풀어볼것 권장)\\\r\n",
        "문제: https://www.acmicpc.net/problem/1929 \\\r\n",
        "풀이:https://deokkk9.tistory.com/17"
      ]
    },
    {
      "cell_type": "code",
      "metadata": {
        "colab": {
          "base_uri": "https://localhost:8080/"
        },
        "id": "wRsC7bLQgnHY",
        "outputId": "31451b65-9db4-4f52-cbe9-090e9ca920bc"
      },
      "source": [
        "a,b = map(int,input().split())\r\n",
        "\r\n",
        "for i in range(a,b+1):\r\n",
        "  if i%2 "
      ],
      "execution_count": null,
      "outputs": [
        {
          "output_type": "stream",
          "text": [
            "3 10\n",
            "3\n",
            "4\n",
            "5\n",
            "6\n",
            "7\n",
            "8\n",
            "9\n",
            "10\n"
          ],
          "name": "stdout"
        }
      ]
    },
    {
      "cell_type": "code",
      "metadata": {
        "colab": {
          "base_uri": "https://localhost:8080/"
        },
        "id": "s47L7xCrhONX",
        "outputId": "583cd269-9b4e-4dd0-de86-782ff8832264"
      },
      "source": [
        "def isPrime(num):\r\n",
        "    if num==1:\r\n",
        "        return False\r\n",
        "    else:\r\n",
        "        for i in range(2, int(num**0.5)+1):\r\n",
        "            if num%i == 0:\r\n",
        "                return False\r\n",
        "        return True\r\n",
        "\r\n",
        "M, N = map(int, input().split())\r\n",
        "\r\n",
        "for i in range(M, N+1):\r\n",
        "    if isPrime(i):\r\n",
        "        print(i)"
      ],
      "execution_count": null,
      "outputs": [
        {
          "output_type": "stream",
          "text": [
            "4 10\n",
            "5\n",
            "7\n"
          ],
          "name": "stdout"
        }
      ]
    },
    {
      "cell_type": "code",
      "metadata": {
        "colab": {
          "base_uri": "https://localhost:8080/"
        },
        "id": "TdfpN1NphPwk",
        "outputId": "b990455d-8a1f-40e2-e08b-2c153a6fe1c8"
      },
      "source": [
        "n=17\r\n",
        "def isPrime(a):\r\n",
        "  if(a<2):\r\n",
        "    return False\r\n",
        "  for i in range(2,a): # 아 이거 2로 나누어떨어지지않으면 3,4..> 자기자신이전까지 가는구나\r\n",
        "    if(a%i==0): # 무조건 i는 2가 나오니까 2로 나누어 떨어지면 벤\r\n",
        "      return False\r\n",
        "  return True\r\n",
        "\r\n",
        "for i in range(n+1):\r\n",
        "  if(isPrime(i)):\r\n",
        "    print(i)"
      ],
      "execution_count": null,
      "outputs": [
        {
          "output_type": "stream",
          "text": [
            "2\n",
            "3\n",
            "5\n",
            "7\n",
            "11\n",
            "13\n",
            "17\n"
          ],
          "name": "stdout"
        }
      ]
    },
    {
      "cell_type": "code",
      "metadata": {
        "colab": {
          "base_uri": "https://localhost:8080/"
        },
        "id": "FzxodSSz_a5u",
        "outputId": "0ab509c4-5ca4-4167-86d6-d6a6d6bb9ca2"
      },
      "source": [
        "list(range(2,5))"
      ],
      "execution_count": null,
      "outputs": [
        {
          "output_type": "execute_result",
          "data": {
            "text/plain": [
              "[2, 3, 4]"
            ]
          },
          "metadata": {
            "tags": []
          },
          "execution_count": 6
        }
      ]
    },
    {
      "cell_type": "markdown",
      "metadata": {
        "id": "ZpqAIaXGjV1l"
      },
      "source": [
        "# 화요일 1번문제\r\n",
        "문제 : https://www.acmicpc.net/problem/11729"
      ]
    },
    {
      "cell_type": "code",
      "metadata": {
        "id": "HgR23eTb1mTi"
      },
      "source": [
        "def hanoi(num,출발,보조,목적지):\r\n",
        "  if num ==0: return;\r\n",
        "  hanoi((num-1),출발,목적지,보조) \r\n",
        "  print(출발,\">\",목적지)\r\n",
        "  hanoi((num-1),보조,목적지,출발)"
      ],
      "execution_count": null,
      "outputs": []
    },
    {
      "cell_type": "code",
      "metadata": {
        "colab": {
          "base_uri": "https://localhost:8080/"
        },
        "id": "OkNVKOv627lo",
        "outputId": "40b43f98-339e-4b22-d1c8-9b4b069d9032"
      },
      "source": [
        "# 반복되는것은 맨아래칸을 제외한 원반들을 보조기둥 > 맨아래칸을 목적지 > 다시 맨아래칸제외보조 > 맨아래목적지\r\n",
        "def hanoi(n, frm, to, otr):   \r\n",
        "    if n < 2: \r\n",
        "        print(frm, to)       # frm에서 to로 이동\r\n",
        "        return\r\n",
        "    hanoi(n-1, frm, otr, to) # 맨 아래칸을 제외하고 frm에서 otr로 재귀적 이동\r\n",
        "    print(frm, to)           # 맨아래 원반 목적지로 이동\r\n",
        "    hanoi(n-1, otr, to, frm) # otr로 옮겼던 원반 to로 이동\r\n",
        "\r\n",
        "n = int(input())\r\n",
        "# print((2**n)-1) > 이건 총 몇번 반복되는지에 대한\r\n",
        "hanoi(n, 1, 3, 2)"
      ],
      "execution_count": null,
      "outputs": [
        {
          "output_type": "stream",
          "text": [
            "5\n",
            "31\n",
            "1 3\n",
            "1 2\n",
            "3 2\n",
            "1 3\n",
            "2 1\n",
            "2 3\n",
            "1 3\n",
            "1 2\n",
            "3 2\n",
            "3 1\n",
            "2 1\n",
            "3 2\n",
            "1 3\n",
            "1 2\n",
            "3 2\n",
            "1 3\n",
            "2 1\n",
            "2 3\n",
            "1 3\n",
            "2 1\n",
            "3 2\n",
            "3 1\n",
            "2 1\n",
            "2 3\n",
            "1 3\n",
            "1 2\n",
            "3 2\n",
            "1 3\n",
            "2 1\n",
            "2 3\n",
            "1 3\n"
          ],
          "name": "stdout"
        }
      ]
    },
    {
      "cell_type": "code",
      "metadata": {
        "colab": {
          "base_uri": "https://localhost:8080/"
        },
        "id": "jIfZ7qIMtqTP",
        "outputId": "4995aa73-1672-4180-bc2c-b044f07ee153"
      },
      "source": [
        "# 원반갯수 하나일때\r\n",
        "원반갯수 = int(input())\r\n",
        "\r\n",
        "def hanoi(원반갯수):\r\n",
        "  시작 = \"시작\"\r\n",
        "  목표 = \"목표\"\r\n",
        "  보조 = \"보조\"\r\n",
        "  if 원반갯수 ==1:\r\n",
        "    print(시작,'>',목표)\r\n",
        "    return"
      ],
      "execution_count": null,
      "outputs": [
        {
          "output_type": "stream",
          "text": [
            "1\n"
          ],
          "name": "stdout"
        }
      ]
    },
    {
      "cell_type": "code",
      "metadata": {
        "id": "bXImRkAJxYjO"
      },
      "source": [
        "# 원반갯수 여러개일때, 맨마지막판 빼고 모든원반들이 2를 거침\r\n",
        "# 즉 N가개 주어지면 N-1개가 보조기둥을 거쳐야함\r\n",
        "# 시작기둥의 마지막원반이 목표기둥에 걸려있는순간부터 N-1개만 고려함, 이걸 계속 반복\r\n",
        "\r\n",
        "# 1. 원반갯수 짝수일때\r\n",
        "\r\n",
        "def hanoi(원반갯수,시작,목표,보조):\r\n",
        "  if 원반갯수 ==1:\r\n",
        "    print(시작,'>',목표)\r\n",
        "    print(aaaaaa)\r\n",
        "    return"
      ],
      "execution_count": null,
      "outputs": []
    },
    {
      "cell_type": "code",
      "metadata": {
        "id": "6_QfCZ_mMMtz"
      },
      "source": [
        "## 점프투알고리즘\r\n",
        "# 원반 no개를 x기둥에서 y기둥으로 옮김 \r\n",
        "def move(no: int, x: int, y: int) -> None:\r\n",
        "    if no > 1:\r\n",
        "        move(no-1, x, 6-x-y)\r\n",
        "    print(x, y)\r\n",
        "\r\n",
        "    if no > 1:\r\n",
        "        move(no-1, 6-x-y, y)\r\n",
        "\r\n",
        "\r\n",
        "n = int(input())\r\n",
        "print(2**n-1) \r\n",
        "move(n, 1, 3)"
      ],
      "execution_count": null,
      "outputs": []
    },
    {
      "cell_type": "markdown",
      "metadata": {
        "id": "7FTzw-4e7NLu"
      },
      "source": [
        "# 화요일 2번문제\r\n",
        "문제 : https://www.acmicpc.net/problem/11651\r\n",
        "\r\n",
        "  - sort안쓰고 풀 수 있을까"
      ]
    },
    {
      "cell_type": "code",
      "metadata": {
        "colab": {
          "base_uri": "https://localhost:8080/"
        },
        "id": "DKqi4iFV7UFX",
        "outputId": "738477ce-cd9f-448a-c59a-b6cbef885a6c"
      },
      "source": [
        "a = [3,4,5,2,1]\r\n",
        "sorted(a)"
      ],
      "execution_count": null,
      "outputs": [
        {
          "output_type": "execute_result",
          "data": {
            "text/plain": [
              "[1, 2, 3, 4, 5]"
            ]
          },
          "metadata": {
            "tags": []
          },
          "execution_count": 1
        }
      ]
    },
    {
      "cell_type": "code",
      "metadata": {
        "id": "wCfTJA6l7UIT"
      },
      "source": [
        "N = int(input()) \r\n",
        "nums = [] \r\n",
        "\r\n",
        "for i in range(N): \r\n",
        "  [a, b] = map(int, input().split()) \r\n",
        "  arr = [b, a] nums.append(arr) \r\n",
        "  \r\n",
        "nums = sorted(nums) \r\n",
        "\r\n",
        "for i in range(N): \r\n",
        "  print(nums[i][1], nums[i][0])\r\n"
      ],
      "execution_count": null,
      "outputs": []
    },
    {
      "cell_type": "code",
      "metadata": {
        "id": "Rrbz8jrt7ULk"
      },
      "source": [
        "import sys\r\n",
        "\r\n",
        "n = int(sys.stdin.readline())\r\n",
        "\r\n",
        "dots = []\r\n",
        "\r\n",
        "for i in range(n):\r\n",
        "    dots.append(list(map(int, input().split()))) ##(x,y)의 형태로 저장\r\n",
        "\r\n",
        "dots = sorted(dots, key=lambda x : (x[1], x[0])) #람다식 => x[1](즉 y 값)으로 정렬하고 정령 안되는 경우 x[0](즉 x 값)으로 다시 정렬\r\n",
        "\r\n",
        "for i in dots:\r\n",
        "    print(*i)  ##파이썬의 패킹과 언패킹\r\n",
        "              ## * => * 없이 출력 시 [1, 2] 와 같은 형식으로 출력됨"
      ],
      "execution_count": null,
      "outputs": []
    },
    {
      "cell_type": "code",
      "metadata": {
        "colab": {
          "base_uri": "https://localhost:8080/"
        },
        "id": "Zvz4qYXi7UOu",
        "outputId": "e1b4605a-0269-474e-c6f7-795a6bb3caed"
      },
      "source": [
        "sorted([[1,1],[3,2],[3,1],[2,2],[1,2]])  # 파이썬 sort함수는 merge/병합 sort를 사용"
      ],
      "execution_count": null,
      "outputs": [
        {
          "output_type": "execute_result",
          "data": {
            "text/plain": [
              "[[1, 1], [1, 2], [2, 2], [3, 1], [3, 2]]"
            ]
          },
          "metadata": {
            "tags": []
          },
          "execution_count": 4
        }
      ]
    },
    {
      "cell_type": "code",
      "metadata": {
        "colab": {
          "base_uri": "https://localhost:8080/"
        },
        "id": "doRTGLAmeqm_",
        "outputId": "46d88ac2-ba48-4cf6-e100-03f89d7450f2"
      },
      "source": [
        "a = [[1,1],[3,2],[3,1],[2,2],[1,2]]\r\n",
        "a.sort()\r\n",
        "print(a) # sorted는 출력값만 바꿔주는거임"
      ],
      "execution_count": null,
      "outputs": [
        {
          "output_type": "stream",
          "text": [
            "[[1, 1], [1, 2], [2, 2], [3, 1], [3, 2]]\n"
          ],
          "name": "stdout"
        }
      ]
    },
    {
      "cell_type": "code",
      "metadata": {
        "id": "7IG-GOKye5ls"
      },
      "source": [
        ""
      ],
      "execution_count": null,
      "outputs": []
    },
    {
      "cell_type": "markdown",
      "metadata": {
        "id": "KlDUBT-KvPL4"
      },
      "source": [
        "# 화요일 3번문제\r\n",
        "문제 : https://www.acmicpc.net/problem/2805"
      ]
    },
    {
      "cell_type": "code",
      "metadata": {
        "id": "-7k9L1p4vTxG"
      },
      "source": [
        "# 시간초과된 코드\r\n",
        "def insertion_sort(x_array, y_array):\r\n",
        "    n = len(y_array)\r\n",
        "    for i in range(1, n):\r\n",
        "        for j in range(i):\r\n",
        "            if y_array[i - j - 1] > y_array[i - j]:\r\n",
        "                y_array[i - j - 1], y_array[i - j] = y_array[i - j], y_array[i - j - 1]\r\n",
        "                x_array[i - j - 1], x_array[i - j] = x_array[i - j], x_array[i - j - 1]\r\n",
        "            elif y_array[i - j - 1] < y_array[i - j]:\r\n",
        "                break\r\n",
        "            else:\r\n",
        "                if x_array[i - j - 1] > x_array[i - j]:\r\n",
        "                    x_array[i - j - 1], x_array[i - j] = x_array[i - j], x_array[i - j - 1]\r\n",
        "                else:\r\n",
        "                    continue\r\n",
        "    return x_array, y_array\r\n",
        "\r\n",
        "n = int(input())\r\n",
        "\r\n",
        "x_array = []\r\n",
        "y_array = []\r\n",
        "\r\n",
        "result_x_array = []\r\n",
        "result_y_array = []\r\n",
        "\r\n",
        "for i in range(n):\r\n",
        "    x,y = map(int, input().split())\r\n",
        "    x_array.append(x)\r\n",
        "    y_array.append(y)\r\n",
        "\r\n",
        "result_x_array, result_y_array = insertion_sort(x_array, y_array)\r\n",
        "\r\n",
        "# print(\"----result----\")\r\n",
        "for i in range(n):\r\n",
        "    print(result_x_array[i], result_y_array[i])"
      ],
      "execution_count": null,
      "outputs": []
    },
    {
      "cell_type": "code",
      "metadata": {
        "id": "Lh6dq1TQAYNi"
      },
      "source": [
        "N, M = map(int, input().split())\r\n",
        "tree = list(map(int, input().split()))\r\n",
        "start,end = min(tree),max(tree)\r\n",
        "cut = 0\r\n",
        "\r\n",
        "while cut>=M:\r\n",
        "  mid = (start+end)//2"
      ],
      "execution_count": null,
      "outputs": []
    },
    {
      "cell_type": "markdown",
      "metadata": {
        "id": "C7yPrnLjFpqw"
      },
      "source": [
        "### 다른사람답변"
      ]
    },
    {
      "cell_type": "code",
      "metadata": {
        "id": "zfUx74ENFpTt"
      },
      "source": [
        "N, M = map(int, input().split())\r\n",
        "tree = list(map(int, input().split()))\r\n",
        "start, end = 1, max(tree) #이분탐색 검색 범위 설정\r\n",
        "\r\n",
        "while start <= end: #적절한 벌목 높이를 찾는 알고리즘\r\n",
        "    mid = (start+end) // 2\r\n",
        "    \r\n",
        "    log = 0 #벌목된 나무 총합\r\n",
        "    for i in tree:\r\n",
        "        if i >= mid:\r\n",
        "            log += i - mid\r\n",
        "    \r\n",
        "    #벌목 높이를 이분탐색\r\n",
        "    if log >= M:\r\n",
        "        start = mid + 1\r\n",
        "    else:\r\n",
        "        end = mid - 1\r\n",
        "print(end)"
      ],
      "execution_count": null,
      "outputs": []
    },
    {
      "cell_type": "code",
      "metadata": {
        "id": "YnaxAp9d4O5U"
      },
      "source": [
        "import sys\r\n",
        "\r\n",
        "input = sys.stdin.readline\r\n",
        "\r\n",
        "n, m = map(int, input().split())\r\n",
        "a = list(map(int, input().split()))\r\n",
        "\r\n",
        "left, right, ans = 0, max(a), 0\r\n",
        "while left <= right:\r\n",
        "    mid = (left + right) // 2\r\n",
        "    tree = 0\r\n",
        "    for i in range(n):\r\n",
        "        if mid < a[i]:\r\n",
        "            tree += a[i] - mid\r\n",
        "    if tree >= m:\r\n",
        "        ans = mid\r\n",
        "        left = mid + 1\r\n",
        "    elif tree < m:\r\n",
        "        right = mid - 1\r\n",
        "print(ans)"
      ],
      "execution_count": null,
      "outputs": []
    },
    {
      "cell_type": "code",
      "metadata": {
        "colab": {
          "base_uri": "https://localhost:8080/"
        },
        "id": "e7j7CRnREZiW",
        "outputId": "e05aca8c-8390-4271-e776-59b9e2ddf4df"
      },
      "source": [
        "N,M = map(int,input().split())\r\n",
        "tree = list(map(int,input().split()))\r\n",
        "\r\n",
        "# 원하는 나무의 양을 target에 대입.\r\n",
        "# start, mid , end := 톱의 높이\r\n",
        "def treeSum(height):\r\n",
        "    Sum = 0\r\n",
        "    for i in tree:\r\n",
        "        if i-height >0:\r\n",
        "            Sum+=(i-height)\r\n",
        "\r\n",
        "    return Sum\r\n",
        "\r\n",
        "def binarySearch(target):\r\n",
        "    start,end=0, max(tree)\r\n",
        "    ans = 0\r\n",
        "    while(start<=end):\r\n",
        "        mid = (start+end)//2\r\n",
        "        Sum = treeSum(mid)\r\n",
        "        if Sum < target :\r\n",
        "            end = mid -1\r\n",
        "        if Sum >= target:\r\n",
        "            ans = mid\r\n",
        "            start = mid + 1\r\n",
        "\r\n",
        "    return ans\r\n",
        "\r\n",
        "print(binarySearch(M))"
      ],
      "execution_count": null,
      "outputs": [
        {
          "output_type": "execute_result",
          "data": {
            "text/plain": [
              "45"
            ]
          },
          "metadata": {
            "tags": []
          },
          "execution_count": 10
        }
      ]
    },
    {
      "cell_type": "markdown",
      "metadata": {
        "id": "TY-f4b65D4G9"
      },
      "source": [
        "# 수요일 1번문제\r\n",
        "문제 : https://www.acmicpc.net/problem/4949\r\n",
        "\r\n",
        "  - 괄호의 짝이 맞아야하며, 문자열이 균형을 이뤄야함\r\n",
        "  - 안되는 경우\r\n",
        "      1. )(\r\n",
        "      2. (]\r\n",
        "      3. ([ )]\r\n"
      ]
    },
    {
      "cell_type": "code",
      "metadata": {
        "colab": {
          "base_uri": "https://localhost:8080/",
          "height": 244
        },
        "id": "NFD8ObaED8Sa",
        "outputId": "4ef50b69-0b54-45b2-d2dc-d1b41cedaaf4"
      },
      "source": [
        "bracket = [\"[\",\"]\",\"(\",\")\"]\r\n",
        "\r\n",
        "while True:\r\n",
        "  a = list(\"So when I die (the [first] I will see in (heaven) is a score list).\")\r\n",
        "  if a==\".\":\r\n",
        "    break\r\n",
        "    \r\n",
        "  stack = []\r\n",
        "  for i in a :\r\n",
        "    if i in bracket:\r\n",
        "      stack.append(i)\r\n",
        "\r\n",
        "  for i in stack:\r\n",
        "    if i==\"]\":\r\n",
        "      if stack[i-1]==\"[\":\r\n",
        "        pass\r\n",
        "      else:\r\n",
        "        print(\"no\")\r\n",
        "        break\r\n",
        "\r\n",
        "    if i==\")\":\r\n",
        "      if stack[i-1]==\"(\":\r\n",
        "        pass\r\n",
        "      else:\r\n",
        "        print(\"no\")\r\n",
        "        break\r\n",
        "\r\n",
        "print(stack)"
      ],
      "execution_count": null,
      "outputs": [
        {
          "output_type": "error",
          "ename": "TypeError",
          "evalue": "ignored",
          "traceback": [
            "\u001b[0;31m---------------------------------------------------------------------------\u001b[0m",
            "\u001b[0;31mTypeError\u001b[0m                                 Traceback (most recent call last)",
            "\u001b[0;32m<ipython-input-10-59507272a9a6>\u001b[0m in \u001b[0;36m<module>\u001b[0;34m()\u001b[0m\n\u001b[1;32m     13\u001b[0m   \u001b[0;32mfor\u001b[0m \u001b[0mi\u001b[0m \u001b[0;32min\u001b[0m \u001b[0mstack\u001b[0m\u001b[0;34m:\u001b[0m\u001b[0;34m\u001b[0m\u001b[0;34m\u001b[0m\u001b[0m\n\u001b[1;32m     14\u001b[0m     \u001b[0;32mif\u001b[0m \u001b[0mi\u001b[0m\u001b[0;34m==\u001b[0m\u001b[0;34m\"]\"\u001b[0m\u001b[0;34m:\u001b[0m\u001b[0;34m\u001b[0m\u001b[0;34m\u001b[0m\u001b[0m\n\u001b[0;32m---> 15\u001b[0;31m       \u001b[0;32mif\u001b[0m \u001b[0mstack\u001b[0m\u001b[0;34m[\u001b[0m\u001b[0mi\u001b[0m\u001b[0;34m-\u001b[0m\u001b[0;36m1\u001b[0m\u001b[0;34m]\u001b[0m\u001b[0;34m==\u001b[0m\u001b[0;34m\"[\"\u001b[0m\u001b[0;34m:\u001b[0m\u001b[0;34m\u001b[0m\u001b[0;34m\u001b[0m\u001b[0m\n\u001b[0m\u001b[1;32m     16\u001b[0m         \u001b[0;32mpass\u001b[0m\u001b[0;34m\u001b[0m\u001b[0;34m\u001b[0m\u001b[0m\n\u001b[1;32m     17\u001b[0m       \u001b[0;32melse\u001b[0m\u001b[0;34m:\u001b[0m\u001b[0;34m\u001b[0m\u001b[0;34m\u001b[0m\u001b[0m\n",
            "\u001b[0;31mTypeError\u001b[0m: unsupported operand type(s) for -: 'str' and 'int'"
          ]
        }
      ]
    },
    {
      "cell_type": "code",
      "metadata": {
        "id": "3IO9KzK92OcT"
      },
      "source": [
        "while True:\r\n",
        "    s = input()\r\n",
        "    if s == '.':\r\n",
        "        break\r\n",
        "    stk = []\r\n",
        "    temp = True\r\n",
        "    for i in s:\r\n",
        "        if i == '(' or i == '[':\r\n",
        "            stk.append(i)\r\n",
        "        elif i == ')':\r\n",
        "            if not stk or stk[-1] == '[':\r\n",
        "                temp = False\r\n",
        "                break\r\n",
        "            elif stk[-1] == '(':\r\n",
        "                stk.pop()\r\n",
        "        elif i == ']':\r\n",
        "            if not stk or stk[-1] == '(':\r\n",
        "                temp = False\r\n",
        "                break\r\n",
        "            elif stk[-1] == '[':\r\n",
        "                stk.pop()\r\n",
        "                \r\n",
        "    if temp == True and not stk:\r\n",
        "        print('yes')\r\n",
        "    else:\r\n",
        "        print('no')"
      ],
      "execution_count": null,
      "outputs": []
    },
    {
      "cell_type": "code",
      "metadata": {
        "colab": {
          "base_uri": "https://localhost:8080/",
          "height": 388
        },
        "id": "HFKgfVujId2f",
        "outputId": "d8dd1d69-58fd-4a0c-bdf9-4dc35b04adc9"
      },
      "source": [
        "import sys\r\n",
        "input = sys.stdin.readline\r\n",
        "\r\n",
        "while True:\r\n",
        "    # 기본적으로 readline()은 개행문자를 포함하고 있기 때문에 문자열 마지막 개항문자(즉, 공백) 없이 출력하기 위해 rstrip()함수 사용\r\n",
        "    sentence = input().rstrip()\r\n",
        "    balance_list = []  # \"[\" 과 \"(\" 을 담을 stack\r\n",
        "\r\n",
        "    if sentence == \".\":  # 입력 종료 조건\r\n",
        "        break\r\n",
        "\r\n",
        "    for i in range(len(sentence)):  # 문장을 돌면서 괄호를 찾기 위한 반복문\r\n",
        "        if sentence[i] == \"[\" or sentence[i] == \"(\":  # 여는 괄호 인 경우 stack에 push\r\n",
        "            balance_list.append(sentence[i])\r\n",
        "\r\n",
        "        # 닫는 괄호는 stack에 push되거나 pop 되는 게 아님\r\n",
        "        elif sentence[i] == \"]\":  # 닫는 괄호 \"]\" 인 경우\r\n",
        "            # stack이 비어있지 않고 stack.peek()가 \"[\" 이라면 stack.pop()\r\n",
        "            if balance_list[-1] == \"[\":\r\n",
        "                balance_list.pop()\r\n",
        "            else:  # 아니면 \"균형이 맞지 않는 문장\"이므로 break\r\n",
        "                balance_list.append(sentence[i])\r\n",
        "                break\r\n",
        "\r\n",
        "        elif sentence[i] == \")\":  # 닫는 괄호 \")\" 인 경우\r\n",
        "            # stack이 비어있지 않고 stack.peek()가 \"(\" 이라면 stack.pop()\r\n",
        "            if balance_list[-1] == \"(\":\r\n",
        "                balance_list.pop()\r\n",
        "            else:  # 아니면 \"균형이 맞지 않는 문장\"이므로 break\r\n",
        "                balance_list.append(sentence[i])\r\n",
        "                break\r\n",
        "\r\n",
        "if not balance_list:  # 리스트에 값이 들어있지 않으면 성공\r\n",
        "    print(\"yes\")\r\n",
        "else:\r\n",
        "    print(\"no\")"
      ],
      "execution_count": null,
      "outputs": [
        {
          "output_type": "error",
          "ename": "KeyboardInterrupt",
          "evalue": "ignored",
          "traceback": [
            "\u001b[0;31m---------------------------------------------------------------------------\u001b[0m",
            "\u001b[0;31mKeyboardInterrupt\u001b[0m                         Traceback (most recent call last)",
            "\u001b[0;32m<ipython-input-1-9dbc438d24eb>\u001b[0m in \u001b[0;36m<module>\u001b[0;34m()\u001b[0m\n\u001b[1;32m      4\u001b[0m \u001b[0;32mwhile\u001b[0m \u001b[0;32mTrue\u001b[0m\u001b[0;34m:\u001b[0m\u001b[0;34m\u001b[0m\u001b[0;34m\u001b[0m\u001b[0m\n\u001b[1;32m      5\u001b[0m     \u001b[0;31m# 기본적으로 readline()은 개행문자를 포함하고 있기 때문에 문자열 마지막 개항문자(즉, 공백) 없이 출력하기 위해 rstrip()함수 사용\u001b[0m\u001b[0;34m\u001b[0m\u001b[0;34m\u001b[0m\u001b[0;34m\u001b[0m\u001b[0m\n\u001b[0;32m----> 6\u001b[0;31m     \u001b[0msentence\u001b[0m \u001b[0;34m=\u001b[0m \u001b[0minput\u001b[0m\u001b[0;34m(\u001b[0m\u001b[0;34m)\u001b[0m\u001b[0;34m.\u001b[0m\u001b[0mrstrip\u001b[0m\u001b[0;34m(\u001b[0m\u001b[0;34m)\u001b[0m\u001b[0;34m\u001b[0m\u001b[0;34m\u001b[0m\u001b[0m\n\u001b[0m\u001b[1;32m      7\u001b[0m     \u001b[0mbalance_list\u001b[0m \u001b[0;34m=\u001b[0m \u001b[0;34m[\u001b[0m\u001b[0;34m]\u001b[0m  \u001b[0;31m# \"[\" 과 \"(\" 을 담을 stack\u001b[0m\u001b[0;34m\u001b[0m\u001b[0;34m\u001b[0m\u001b[0m\n\u001b[1;32m      8\u001b[0m \u001b[0;34m\u001b[0m\u001b[0m\n",
            "\u001b[0;32m/usr/lib/python3.7/codecs.py\u001b[0m in \u001b[0;36mdecode\u001b[0;34m(self, input, final)\u001b[0m\n\u001b[1;32m    317\u001b[0m         \u001b[0;32mraise\u001b[0m \u001b[0mNotImplementedError\u001b[0m\u001b[0;34m\u001b[0m\u001b[0;34m\u001b[0m\u001b[0m\n\u001b[1;32m    318\u001b[0m \u001b[0;34m\u001b[0m\u001b[0m\n\u001b[0;32m--> 319\u001b[0;31m     \u001b[0;32mdef\u001b[0m \u001b[0mdecode\u001b[0m\u001b[0;34m(\u001b[0m\u001b[0mself\u001b[0m\u001b[0;34m,\u001b[0m \u001b[0minput\u001b[0m\u001b[0;34m,\u001b[0m \u001b[0mfinal\u001b[0m\u001b[0;34m=\u001b[0m\u001b[0;32mFalse\u001b[0m\u001b[0;34m)\u001b[0m\u001b[0;34m:\u001b[0m\u001b[0;34m\u001b[0m\u001b[0;34m\u001b[0m\u001b[0m\n\u001b[0m\u001b[1;32m    320\u001b[0m         \u001b[0;31m# decode input (taking the buffer into account)\u001b[0m\u001b[0;34m\u001b[0m\u001b[0;34m\u001b[0m\u001b[0;34m\u001b[0m\u001b[0m\n\u001b[1;32m    321\u001b[0m         \u001b[0mdata\u001b[0m \u001b[0;34m=\u001b[0m \u001b[0mself\u001b[0m\u001b[0;34m.\u001b[0m\u001b[0mbuffer\u001b[0m \u001b[0;34m+\u001b[0m \u001b[0minput\u001b[0m\u001b[0;34m\u001b[0m\u001b[0;34m\u001b[0m\u001b[0m\n",
            "\u001b[0;31mKeyboardInterrupt\u001b[0m: "
          ]
        }
      ]
    },
    {
      "cell_type": "code",
      "metadata": {
        "colab": {
          "base_uri": "https://localhost:8080/"
        },
        "id": "Z4WIJgKMD8aY",
        "outputId": "d1c44e9d-9ef9-4353-a996-7d2b5d2ef4fa"
      },
      "source": [
        "t = list(\"So when I die (the [first] I will see in (heaven) is a score list).\")\r\n",
        "bracket = [\"[\",\"]\",\"(\",\")\"]\r\n",
        "stack = []\r\n",
        "\r\n",
        "for i in t :\r\n",
        "    if i in bracket:\r\n",
        "      stack.append(i)\r\n",
        "\r\n",
        "if stack==\" \":\r\n",
        "  print(\"yes\")\r\n",
        "\r\n",
        "if stack\r\n",
        "\r\n",
        "print(stack)"
      ],
      "execution_count": null,
      "outputs": [
        {
          "output_type": "stream",
          "text": [
            "['(', '[', ']', '(', ')', ')']\n"
          ],
          "name": "stdout"
        }
      ]
    },
    {
      "cell_type": "code",
      "metadata": {
        "colab": {
          "base_uri": "https://localhost:8080/"
        },
        "id": "TBdxHiw09_Z-",
        "outputId": "b5abfb9e-9e65-412e-ba4b-c4020d84d0a7"
      },
      "source": [
        "a = stack.pop()\r\n",
        "print(a)"
      ],
      "execution_count": null,
      "outputs": [
        {
          "output_type": "stream",
          "text": [
            "[\n"
          ],
          "name": "stdout"
        }
      ]
    },
    {
      "cell_type": "code",
      "metadata": {
        "colab": {
          "base_uri": "https://localhost:8080/"
        },
        "id": "ygfnrAx610qM",
        "outputId": "772ac581-f949-487d-b538-5c9687410e5e"
      },
      "source": [
        "t = list(\"So when I die (the [first] I will see in (heaven) is a score list).\")\r\n",
        "# print(t)\r\n",
        "\r\n",
        "s = []\r\n",
        "bracket = [\"[\",\"]\",\"(\",\")\"]\r\n",
        "\r\n",
        "for i in t:\r\n",
        "  if i in bracket:\r\n",
        "    s.append(i)\r\n",
        "    \r\n",
        "print(s)"
      ],
      "execution_count": null,
      "outputs": [
        {
          "output_type": "stream",
          "text": [
            "['(', '[', ']', '(', ')', ')']\n"
          ],
          "name": "stdout"
        }
      ]
    },
    {
      "cell_type": "markdown",
      "metadata": {
        "id": "NF5-5tUPbvaB"
      },
      "source": [
        "# 수요일 2번문제\r\n",
        "문제 : https://www.acmicpc.net/problem/1874\r\n"
      ]
    },
    {
      "cell_type": "code",
      "metadata": {
        "id": "vylMnWawEdrn"
      },
      "source": [
        "# 만약 함수선언을 안하고 푼다면 이렇게 풀어야함\r\n",
        "\r\n",
        "total = int(input())\r\n",
        "\r\n",
        "stack,output = [],[] # stack 스택, out +-\r\n",
        "data = 1\r\n",
        "temp = True # 제안한 리스트자체가 출력가능한지 아닌지를 판별하기위해서\r\n",
        "\r\n",
        "for i in range(total):\r\n",
        "  num = int(input()) # 4 3 6 8 7 \r\n",
        "  while data <= num:\r\n",
        "    stack.append(data)\r\n",
        "    output.append('+')\r\n",
        "    data +=1\r\n",
        "  if stack[-1]==num:\r\n",
        "    stack.pop()\r\n",
        "    output.append('-')\r\n",
        "  else:\r\n",
        "    temp = False\r\n",
        "  \r\n",
        "if temp==False:\r\n",
        "  print('NO')\r\n",
        "else:\r\n",
        "  for i in output:\r\n",
        "    print(i)\r\n",
        "    # 만약 그냥 print(output)하면 리스트형태로 나와서 안됨..\r\n"
      ],
      "execution_count": null,
      "outputs": []
    },
    {
      "cell_type": "code",
      "metadata": {
        "id": "x8GatwS6xCEl"
      },
      "source": [
        "import sys\r\n",
        "n = int(sys.stdin.readline())\r\n",
        "\r\n",
        "input_list = []  # 수열을 이루는 정수를 저장하는 리스트\r\n",
        "stack = []  # 숫자를 push&pull 하는 스택\r\n",
        "result_list = []  # 연산 순서대로 숫자를 저장하는 리스트\r\n",
        "operations = \"\"  # 연산 정보를 저장하는 String\r\n",
        "\r\n",
        "for i in range(n):\r\n",
        "    input_list.append(int(sys.stdin.readline()))\r\n",
        "\r\n",
        "num = 1  # 1~n까지 숫자를 위한 초기값 => 리스트로 만들지 않고 num 값에 +1을 해주면서 값을 증가시킴\r\n",
        "cnt = 0  # input_list의 인덱스 값을 위한 변수\r\n",
        "\r\n",
        "\r\n",
        "while True:\r\n",
        "    # 수열의 숫자 값과 일치할때(stack[-1]과 비교)까지 스택에 push\r\n",
        "    # 수열의 숫자 값과 일치하면(stack[-1] == input_list[i]) pull해서 result_list에 저장\r\n",
        "\r\n",
        "    if result_list == input_list:  # 성공 종료 조건\r\n",
        "        break\r\n",
        "\r\n",
        "    if len(stack) == 0:  # 스택에 아무것도 들어있지않다면\r\n",
        "        stack.append(num)  # num을 스택에 push\r\n",
        "        num += 1\r\n",
        "        # print(stack)\r\n",
        "        operations += \"+\"\r\n",
        "        continue\r\n",
        "\r\n",
        "    if input_list[cnt] != stack[-1]:  # 스택 맨 위 값과 수열의 cnt번째 값이 같지 않을때\r\n",
        "        if num > n:  # 실패 종료 조건// num이 입력받은 n 보다 클때\r\n",
        "            print(\"NO\")\r\n",
        "            break\r\n",
        "        # num <= n 이라면 num을 스택에 push\r\n",
        "        stack.append(num)\r\n",
        "        num += 1\r\n",
        "        # print(stack)\r\n",
        "        operations += \"+\"\r\n",
        "    else:  # 스택 맨 위 값과 수열의 cnt번째 값이 같을때\r\n",
        "        result_list.append(stack.pop())\r\n",
        "        cnt += 1  # 수열의 요소를 가르키고 있는 cnt를 증가시킴\r\n",
        "        # print(stack)\r\n",
        "        operations += \"-\"\r\n",
        "\r\n",
        "\r\n",
        "if len(stack) == 0:  # 연산 정보를 출력\r\n",
        "    for i in operations:\r\n",
        "        print(i)"
      ],
      "execution_count": null,
      "outputs": []
    },
    {
      "cell_type": "markdown",
      "metadata": {
        "id": "dPVlIt0IF4JH"
      },
      "source": [
        "# 수요일 3번문제\r\n",
        "문제 : https://www.acmicpc.net/problem/1021\r\n",
        "\r\n",
        "  1. 첫번째 원소 뽑기가능\r\n",
        "  2. 첫번째원소 제일 왼쪽이동가능\r\n",
        "  3. 마지막원소 제일 오른쪽 이동가능\r\n"
      ]
    },
    {
      "cell_type": "code",
      "metadata": {
        "id": "D9O3TMHgxV0D"
      },
      "source": [
        "# 큐의 크기 N , 뽑아내려고하는수 M\r\n",
        "# 뽑아내려고하는 수의 위치\r\n",
        "\r\n",
        "import sys\r\n",
        "from collections import deque\r\n",
        "n, _ = map(int, sys.stdin.readline().split())\r\n",
        "numbers = list(map(int, sys.stdin.readline().split()))\r\n",
        "queue = deque(range(1, n+1))\r\n",
        "\r\n",
        "total_compute = 0\r\n",
        "\r\n",
        "for idx in range(len(numbers)):\r\n",
        "    if numbers[idx] == queue[0]:\r\n",
        "        queue.popleft()\r\n",
        "        continue\r\n",
        "    queue_idx = queue.index(numbers[idx])\r\n",
        "\r\n",
        "    # 뒤 -> 앞으로 옮기는 게 이득인 경우\r\n",
        "    if queue_idx > len(queue) // 2:\r\n",
        "        queue.rotate(len(queue) - queue_idx)\r\n",
        "        total_compute += (len(queue) - queue_idx)\r\n",
        "        \r\n",
        "    # 앞 -> 뒤로 옮기는 게 이득인 경우\r\n",
        "    elif queue_idx <= len(queue) // 2:\r\n",
        "        queue.rotate(-queue_idx)\r\n",
        "        total_compute += queue_idx\r\n",
        "    queue.popleft()\r\n",
        "    \r\n",
        "print(total_compute)"
      ],
      "execution_count": null,
      "outputs": []
    },
    {
      "cell_type": "markdown",
      "metadata": {
        "id": "1QboimMLqxiP"
      },
      "source": [
        "# 목요일 1번문제\r\n",
        "문제 : https://www.acmicpc.net/problem/2606\r\n",
        "\r\n",
        "  1. 첫번째 원소 뽑기가능\r\n",
        "  2. 첫번째원소 제일 왼쪽이동가능\r\n",
        "  3. 마지막원소 제일 오른쪽 이동가능\r\n",
        "\r\n",
        "  ![image.png](data:image/png;base64,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)\r\n"
      ]
    },
    {
      "cell_type": "code",
      "metadata": {
        "colab": {
          "base_uri": "https://localhost:8080/"
        },
        "id": "HivJq3YPl0Ni",
        "outputId": "e4bf2dc8-93a0-403a-b59a-738f61811e18"
      },
      "source": [
        "cnt0 = [1, 0] # 0을 호출하는수\r\n",
        "cnt1 = [0, 1] # 1을 호출하는 수\r\n",
        "\r\n",
        "for i in range(2, 41): #테스트케이스는 무조건 40이하라고 문제에서 제공\r\n",
        "    cnt0.append(cnt0[i-1]+cnt0[i-2])\r\n",
        "    cnt1.append(cnt1[i-1]+cnt1[i-2])\r\n",
        "    \r\n",
        "for _ in range(int(input())):\r\n",
        "    n = int(input())\r\n",
        "    print(cnt0[n], cnt1[n])"
      ],
      "execution_count": null,
      "outputs": [
        {
          "output_type": "stream",
          "text": [
            "1\n",
            "22\n",
            "10946 17711\n"
          ],
          "name": "stdout"
        }
      ]
    },
    {
      "cell_type": "code",
      "metadata": {
        "id": "fUoTpIqF0-aD"
      },
      "source": [
        ""
      ],
      "execution_count": null,
      "outputs": []
    },
    {
      "cell_type": "markdown",
      "metadata": {
        "id": "i4vCRpVl0-mu"
      },
      "source": [
        "# 목요일 3번문제\r\n",
        "문제 : https://www.acmicpc.net/problem/2606\r\n",
        "\r\n",
        "  1. "
      ]
    },
    {
      "cell_type": "code",
      "metadata": {
        "colab": {
          "base_uri": "https://localhost:8080/"
        },
        "id": "6yk-xgCg_8aV",
        "outputId": "959f0cbb-1863-48f7-a3c9-32dc2fa1a55b"
      },
      "source": [
        "## BFS\r\n",
        "\r\n",
        "total = int(input())\r\n",
        "net = int(input())\r\n",
        "graph = {}\r\n",
        "\r\n",
        "for i in range(total):  # 딕셔너리에 i : [] 형태로 key와 value 초기화\r\n",
        "    graph[i+1] = []\r\n",
        "\r\n",
        "for i in range(net):  # 딕셔너리에 연결을 추가, 이거 상호연결된거니까 서로서로 추가\r\n",
        "    a, b = map(int,input().split())\r\n",
        "    graph[a].append(b)\r\n",
        "    graph[b].append(a)\r\n",
        "\r\n",
        "\r\n",
        "def dfs_stack(adj_graph, start_node):  # g: 그래프, v: 시작 노드\r\n",
        "    stack = [start_node]  # graph\r\n",
        "    v = []\r\n",
        "    while stack:\r\n",
        "        cur = stack.pop()\r\n",
        "        v.append(cur)\r\n",
        "        for adj_node in adj_graph[cur]:\r\n",
        "            if adj_node not in v and adj_node not in stack:\r\n",
        "                stack.append(adj_node)\r\n",
        "    return len(v)-1\r\n",
        "    \r\n",
        "\r\n",
        "\r\n",
        "print(graph)\r\n",
        "print(dfs_stack(graph, 1))"
      ],
      "execution_count": null,
      "outputs": [
        {
          "output_type": "stream",
          "text": [
            "7\n",
            "6\n",
            "1 2\n",
            "2 3\n",
            "1 5\n",
            "5 2\n",
            "5 6\n",
            "4 7\n",
            "{1: [2, 5], 2: [1, 3, 5], 3: [2], 4: [7], 5: [1, 2, 6], 6: [5], 7: [4]}\n",
            "4\n"
          ],
          "name": "stdout"
        }
      ]
    },
    {
      "cell_type": "code",
      "metadata": {
        "colab": {
          "base_uri": "https://localhost:8080/",
          "height": 388
        },
        "id": "uAte8caI3IWe",
        "outputId": "9d1a54e0-b4b9-49a5-b39b-92dbf0f07a34"
      },
      "source": [
        "## BFS\r\n",
        "\r\n",
        "total = int(input())\r\n",
        "net = int(input())\r\n",
        "graph = {}\r\n",
        "\r\n",
        "for i in range(total):  # 딕셔너리에 i : [] 형태로 key와 value 초기화\r\n",
        "    graph[i+1] = []\r\n",
        "\r\n",
        "for i in range(net):  # 딕셔너리에 연결을 추가, 이거 상호연결된거니까 서로서로 추가\r\n",
        "    a, b = map(int,input().split())\r\n",
        "    graph[a].append(b)\r\n",
        "    graph[b].append(a)\r\n",
        "\r\n",
        "\r\n",
        "def bfs_queue(adj_graph, start_node):\r\n",
        "    queue = [start_node]\r\n",
        "    visited = []\r\n",
        "\r\n",
        "    while queue:\r\n",
        "        current_node = queue.pop(0)\r\n",
        "        visited.append(current_node)\r\n",
        "        # graph 에서 current_node와 인접한 node들에 대해 반복문\r\n",
        "        for adj_node in adj_graph[current_node]:\r\n",
        "            if adj_node not in visited and adj_node not in queue:  # node가 중복되어 visited에 들어가는것 방지\r\n",
        "                queue.append(adj_node)\r\n",
        "    return len(visited)-1\r\n",
        "\r\n",
        "\r\n",
        "print(bfs_queue(graph, 1))\r\n",
        "\r\n",
        "print(graph)"
      ],
      "execution_count": null,
      "outputs": [
        {
          "output_type": "stream",
          "text": [
            "7\n",
            "6\n",
            "1 2\n",
            "2 3\n",
            "1 5\n",
            "5 2\n",
            "5 6\n",
            "4 7\n"
          ],
          "name": "stdout"
        },
        {
          "output_type": "error",
          "ename": "KeyError",
          "evalue": "ignored",
          "traceback": [
            "\u001b[0;31m---------------------------------------------------------------------------\u001b[0m",
            "\u001b[0;31mKeyError\u001b[0m                                  Traceback (most recent call last)",
            "\u001b[0;32m<ipython-input-6-e6bcd1690fde>\u001b[0m in \u001b[0;36m<module>\u001b[0;34m()\u001b[0m\n\u001b[1;32m     11\u001b[0m     \u001b[0ma\u001b[0m\u001b[0;34m,\u001b[0m \u001b[0mb\u001b[0m \u001b[0;34m=\u001b[0m \u001b[0mmap\u001b[0m\u001b[0;34m(\u001b[0m\u001b[0mint\u001b[0m\u001b[0;34m,\u001b[0m\u001b[0minput\u001b[0m\u001b[0;34m(\u001b[0m\u001b[0;34m)\u001b[0m\u001b[0;34m.\u001b[0m\u001b[0msplit\u001b[0m\u001b[0;34m(\u001b[0m\u001b[0;34m)\u001b[0m\u001b[0;34m)\u001b[0m\u001b[0;34m\u001b[0m\u001b[0;34m\u001b[0m\u001b[0m\n\u001b[1;32m     12\u001b[0m     \u001b[0mgraph\u001b[0m\u001b[0;34m[\u001b[0m\u001b[0ma\u001b[0m\u001b[0;34m]\u001b[0m\u001b[0;34m.\u001b[0m\u001b[0mappend\u001b[0m\u001b[0;34m(\u001b[0m\u001b[0mb\u001b[0m\u001b[0;34m)\u001b[0m\u001b[0;34m\u001b[0m\u001b[0;34m\u001b[0m\u001b[0m\n\u001b[0;32m---> 13\u001b[0;31m     \u001b[0mgraph\u001b[0m\u001b[0;34m[\u001b[0m\u001b[0mb\u001b[0m\u001b[0;34m]\u001b[0m\u001b[0;34m.\u001b[0m\u001b[0mappend\u001b[0m\u001b[0;34m(\u001b[0m\u001b[0ma\u001b[0m\u001b[0;34m)\u001b[0m\u001b[0;34m\u001b[0m\u001b[0;34m\u001b[0m\u001b[0m\n\u001b[0m\u001b[1;32m     14\u001b[0m \u001b[0;34m\u001b[0m\u001b[0m\n\u001b[1;32m     15\u001b[0m \u001b[0;34m\u001b[0m\u001b[0m\n",
            "\u001b[0;31mKeyError\u001b[0m: 7"
          ]
        }
      ]
    },
    {
      "cell_type": "code",
      "metadata": {
        "colab": {
          "base_uri": "https://localhost:8080/"
        },
        "id": "CR_D16HF8A0s",
        "outputId": "e56014a4-3943-4ed8-d365-e63e124d6e94"
      },
      "source": [
        "graph"
      ],
      "execution_count": null,
      "outputs": [
        {
          "output_type": "execute_result",
          "data": {
            "text/plain": [
              "{1: [2, 5], 2: [1, 3, 5], 3: [2], 4: [7], 5: [1, 2, 6], 6: [5]}"
            ]
          },
          "metadata": {
            "tags": []
          },
          "execution_count": 7
        }
      ]
    },
    {
      "cell_type": "code",
      "metadata": {
        "colab": {
          "base_uri": "https://localhost:8080/",
          "height": 244
        },
        "id": "vVANJIIK9eAi",
        "outputId": "5f212ddc-05e8-43c7-f851-5ff3942e6678"
      },
      "source": [
        "import sys\r\n",
        "n = int(sys.stdin.readline())\r\n",
        "m = int(sys.stdin.readline())\r\n",
        "\r\n",
        "graph = {}\r\n",
        "\r\n",
        "for i in range(n):  # 딕셔너리에 i : [] 형태로 key와 value 초기화\r\n",
        "    graph[i+1] = []\r\n",
        "\r\n",
        "\r\n",
        "for i in range(m):  # 딕셔너리에 연결을 추가\r\n",
        "    a, b = map(int, sys.stdin.readline().split())\r\n",
        "    graph[a].append(b)\r\n",
        "    graph[b].append(a)\r\n",
        "\r\n",
        "# 1. 시작 노드를 큐에 넣는다\r\n",
        "# 2. 현재 큐의 노드(가장 앞에 있는 노드)를 빼서 visited 에 추가\r\n",
        "# 3. 현재 방문한 노드와 인접한 노드 중 방문하지 않은 노드를 큐에 추가\r\n",
        "\r\n",
        "\r\n",
        "def bfs_queue(adj_graph, start_node):\r\n",
        "    queue = [start_node]\r\n",
        "    visited = []\r\n",
        "\r\n",
        "    while queue:\r\n",
        "        current_node = queue.pop(0)\r\n",
        "        visited.append(current_node)\r\n",
        "        # graph 에서 current_node와 인접한 node들에 대해 반복문\r\n",
        "        for adj_node in adj_graph[current_node]:\r\n",
        "            if adj_node not in visited and adj_node not in queue:  # node가 중복되어 visited에 들어가는것 방지\r\n",
        "                queue.append(adj_node)\r\n",
        "    return len(visited)-1\r\n",
        "\r\n",
        "\r\n",
        "print(bfs_queue(graph, 1))"
      ],
      "execution_count": null,
      "outputs": [
        {
          "output_type": "error",
          "ename": "ValueError",
          "evalue": "ignored",
          "traceback": [
            "\u001b[0;31m---------------------------------------------------------------------------\u001b[0m",
            "\u001b[0;31mValueError\u001b[0m                                Traceback (most recent call last)",
            "\u001b[0;32m<ipython-input-8-2a6a9df51fa9>\u001b[0m in \u001b[0;36m<module>\u001b[0;34m()\u001b[0m\n\u001b[1;32m      1\u001b[0m \u001b[0;32mimport\u001b[0m \u001b[0msys\u001b[0m\u001b[0;34m\u001b[0m\u001b[0;34m\u001b[0m\u001b[0m\n\u001b[0;32m----> 2\u001b[0;31m \u001b[0mn\u001b[0m \u001b[0;34m=\u001b[0m \u001b[0mint\u001b[0m\u001b[0;34m(\u001b[0m\u001b[0msys\u001b[0m\u001b[0;34m.\u001b[0m\u001b[0mstdin\u001b[0m\u001b[0;34m.\u001b[0m\u001b[0mreadline\u001b[0m\u001b[0;34m(\u001b[0m\u001b[0;34m)\u001b[0m\u001b[0;34m)\u001b[0m\u001b[0;34m\u001b[0m\u001b[0;34m\u001b[0m\u001b[0m\n\u001b[0m\u001b[1;32m      3\u001b[0m \u001b[0mm\u001b[0m \u001b[0;34m=\u001b[0m \u001b[0mint\u001b[0m\u001b[0;34m(\u001b[0m\u001b[0msys\u001b[0m\u001b[0;34m.\u001b[0m\u001b[0mstdin\u001b[0m\u001b[0;34m.\u001b[0m\u001b[0mreadline\u001b[0m\u001b[0;34m(\u001b[0m\u001b[0;34m)\u001b[0m\u001b[0;34m)\u001b[0m\u001b[0;34m\u001b[0m\u001b[0;34m\u001b[0m\u001b[0m\n\u001b[1;32m      4\u001b[0m \u001b[0;34m\u001b[0m\u001b[0m\n\u001b[1;32m      5\u001b[0m \u001b[0mgraph\u001b[0m \u001b[0;34m=\u001b[0m \u001b[0;34m{\u001b[0m\u001b[0;34m}\u001b[0m\u001b[0;34m\u001b[0m\u001b[0;34m\u001b[0m\u001b[0m\n",
            "\u001b[0;31mValueError\u001b[0m: invalid literal for int() with base 10: ''"
          ]
        }
      ]
    },
    {
      "cell_type": "code",
      "metadata": {
        "id": "wHzYuThh_tFm"
      },
      "source": [
        ""
      ],
      "execution_count": null,
      "outputs": []
    }
  ]
}