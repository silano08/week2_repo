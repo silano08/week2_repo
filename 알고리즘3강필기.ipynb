{
  "nbformat": 4,
  "nbformat_minor": 0,
  "metadata": {
    "colab": {
      "name": "알고리즘3강필기.ipynb",
      "provenance": [],
      "collapsed_sections": [],
      "toc_visible": true
    },
    "kernelspec": {
      "name": "python3",
      "display_name": "Python 3"
    }
  },
  "cells": [
    {
      "cell_type": "markdown",
      "metadata": {
        "id": "qLlPayS54hx2"
      },
      "source": [
        "# 3주차/3강\r\n",
        "  1. 정렬\r\n",
        "  2. 스택/큐\r\n",
        "  3. 해쉬\r\n"
      ]
    },
    {
      "cell_type": "markdown",
      "metadata": {
        "id": "RuKl8N6046Ms"
      },
      "source": [
        "## 3-1 버블정렬\r\n",
        "\r\n",
        "  - 두개씩 비교해가며 큰걸 뒤로 작은걸 앞으로 바꿔줌\r\n",
        "  - 버블정렬의 시간복잡도는 O(N)\r\n",
        "\r\n",
        "![버블정렬이미지](https://t1.daumcdn.net/cfile/tistory/275F9A4A545095BD01)"
      ]
    },
    {
      "cell_type": "code",
      "metadata": {
        "colab": {
          "base_uri": "https://localhost:8080/"
        },
        "id": "5BG1ghVP4diM",
        "outputId": "5c49c713-d5db-404e-a8f3-3e71af5c424e"
      },
      "source": [
        "input = [4, 6, 2, 9, 1]\r\n",
        "\r\n",
        "\r\n",
        "def bubble_sort(array):\r\n",
        "    for i in range(len(array)-1):\r\n",
        "      for j in range(len(array)-i-1):\r\n",
        "        if array[j] > array[j+1]:\r\n",
        "          array[j],array[j+1] = array[j+1],array[j]\r\n",
        "    return\r\n",
        "\r\n",
        "\r\n",
        "bubble_sort(input)\r\n",
        "print(input)  # [1, 2, 4, 6, 9] 가 되어야 합니다!"
      ],
      "execution_count": null,
      "outputs": [
        {
          "output_type": "stream",
          "text": [
            "[1, 2, 4, 6, 9]\n"
          ],
          "name": "stdout"
        }
      ]
    },
    {
      "cell_type": "markdown",
      "metadata": {
        "id": "_X7u4P0d5ahJ"
      },
      "source": [
        "## 3-2 선택정렬 & 삽입정렬\r\n",
        "\r\n",
        "  - \r\n",
        "\r\n",
        "![선택정렬이미지](https://img1.daumcdn.net/thumb/R800x0/?scode=mtistory2&fname=https%3A%2F%2Ft1.daumcdn.net%2Fcfile%2Ftistory%2F256B9C34545081D835)\r\n",
        "\r\n",
        "---"
      ]
    },
    {
      "cell_type": "code",
      "metadata": {
        "id": "H8ayC8_pp_dj"
      },
      "source": [
        "# 선택정렬\r\n",
        "\r\n",
        "input = [4, 6, 2, 9, 1]\r\n",
        "\r\n",
        "\r\n",
        "def selection_sort(array):\r\n",
        "    # 이 부분을 채워보세요!\r\n",
        "    return\r\n",
        "\r\n",
        "\r\n",
        "selection_sort(input)\r\n",
        "print(input) # [1, 2, 4, 6, 9] 가 되어야 합니다!"
      ],
      "execution_count": null,
      "outputs": []
    },
    {
      "cell_type": "markdown",
      "metadata": {
        "id": "pZLpS0YzTDs0"
      },
      "source": [
        "## 3-3 선택정렬\r\n",
        "\r\n",
        "  - \r\n",
        "\r\n",
        "![선택정렬이미지](https://img1.daumcdn.net/thumb/R800x0/?scode=mtistory2&fname=https%3A%2F%2Ft1.daumcdn.net%2Fcfile%2Ftistory%2F256B9C34545081D835)\r\n",
        "\r\n",
        "---"
      ]
    },
    {
      "cell_type": "code",
      "metadata": {
        "id": "1NchstJaTMWs"
      },
      "source": [
        ""
      ],
      "execution_count": null,
      "outputs": []
    },
    {
      "cell_type": "code",
      "metadata": {
        "id": "SugxI9AxTMw9"
      },
      "source": [
        ""
      ],
      "execution_count": null,
      "outputs": []
    },
    {
      "cell_type": "markdown",
      "metadata": {
        "id": "74NXCt4xTeYn"
      },
      "source": [
        "# 3-4 스택\r\n",
        "\r\n",
        "  - 맨 위쪽에 넣은 데이터만 뽑아올수있는 자료구조\r\n",
        "  - 즉, 데이터를 넣고 뽑는 걸 자주하는 자료구조\r\n",
        "  - Array보단 링크드리스트로 구현해야한다고 직감적으로 생각\r\n",
        "  - Last In First Out(LIFO)\r\n",
        "  - ex. 컴퓨터의 되돌리기"
      ]
    },
    {
      "cell_type": "code",
      "metadata": {
        "id": "3P0hFrFXTf2I"
      },
      "source": [
        "class Node:\r\n",
        "    def __init__(self, data):\r\n",
        "        self.data = data\r\n",
        "        self.next = None\r\n",
        "\r\n",
        "\r\n",
        "class Stack:\r\n",
        "    def __init__(self):\r\n",
        "        self.head = None\r\n",
        "\r\n",
        "    def push(self, value):\r\n",
        "        new_head = Node(value)\r\n",
        "        new_head.next = self.head # node를 새롭게 만들고 next에 원래있던 헤드를 붙여주는 형식\r\n",
        "        self.head = new_head\r\n",
        "\r\n",
        "    # pop 기능 구현 - 뽑은것을 반환해줘야함\r\n",
        "    def pop(self):\r\n",
        "        if self.is_empty():\r\n",
        "          return \"Stack is Empty\"\r\n",
        "\r\n",
        "        delete_head = self.head\r\n",
        "        self.head = self.head.next\r\n",
        "        return delete_head\r\n",
        "\r\n",
        "    def peek(self):\r\n",
        "        if self.is_empty():\r\n",
        "            return \"Stack is Empty\"\r\n",
        "        return self.head.data\r\n",
        "\r\n",
        "    # isEmpty 기능 구현\r\n",
        "    def is_empty(self):\r\n",
        "        return self.head is None"
      ],
      "execution_count": null,
      "outputs": []
    },
    {
      "cell_type": "code",
      "metadata": {
        "colab": {
          "base_uri": "https://localhost:8080/"
        },
        "id": "Etggb5dhlW6K",
        "outputId": "188fb501-5b90-47d3-b559-28027a04fbb9"
      },
      "source": [
        "stack = Stack()\r\n",
        "stack.push(3)\r\n",
        "print(stack.peek())\r\n",
        "stack.push(5)\r\n",
        "print(stack.peek())\r\n",
        "stack.push(6)\r\n",
        "print(stack.peek())\r\n",
        "\r\n",
        "print(stack.pop().data)\r\n",
        "print(stack.peek())"
      ],
      "execution_count": null,
      "outputs": [
        {
          "output_type": "stream",
          "text": [
            "3\n",
            "5\n",
            "6\n",
            "6\n",
            "5\n"
          ],
          "name": "stdout"
        }
      ]
    },
    {
      "cell_type": "code",
      "metadata": {
        "colab": {
          "base_uri": "https://localhost:8080/"
        },
        "id": "0QnLGZ0PliUO",
        "outputId": "130e6e16-43cb-4f2e-ec22-38d32916cc98"
      },
      "source": [
        "# 스택활용문제 - 탑\r\n",
        "# 실제 문제에선 리스트를 이용해 스택으로 사용\r\n",
        "# .append와 .pop()활용\r\n",
        "# 시간복잡도 O(N^2)\r\n",
        "\r\n",
        "top_heights = [6, 9, 5, 7, 4] #몇번째 탑에서 레이저를 받았는지\r\n",
        "\r\n",
        "\r\n",
        "def get_receiver_top_orders(heights):\r\n",
        "    answer = [0] * len(heights)\r\n",
        "    while heights:\r\n",
        "      height = heights.pop()\r\n",
        "      # len(heights)인 이유, 자기자신빼고 앞의것부터 비교해야하니까\r\n",
        "      for i in range(len(heights)-1,0,-1):\r\n",
        "        if heights[i] > height:\r\n",
        "          answer[len(heights)] = i+1\r\n",
        "          break\r\n",
        "    return answer\r\n",
        "\r\n",
        "\r\n",
        "print(get_receiver_top_orders(top_heights))  # [0, 0, 2, 2, 4] 가 반환되어야 한다!"
      ],
      "execution_count": null,
      "outputs": [
        {
          "output_type": "stream",
          "text": [
            "[0, 0, 2, 2, 4]\n"
          ],
          "name": "stdout"
        }
      ]
    },
    {
      "cell_type": "markdown",
      "metadata": {
        "id": "MtYohgqRxY7u"
      },
      "source": [
        "# 3-5 큐\r\n",
        "\r\n",
        "  - FIFO\r\n",
        "  - 들어온 순서대로 처리해야할때\r\n",
        "  - enqueue(data) : 맨 뒤에 데이터 추가하기 \r\n",
        "  - dequeue() : 맨 앞의 데이터 뽑기\r\n",
        "  - peek() : 맨 앞의 데이터 보기\r\n",
        "  - isEmpty(): 큐가 비었는지 안 비었는지 여부 반환해주기"
      ]
    },
    {
      "cell_type": "code",
      "metadata": {
        "id": "PyfP6kYwsUJQ"
      },
      "source": [
        "class Node:\r\n",
        "    def __init__(self, data):\r\n",
        "        self.data = data\r\n",
        "        self.next = None\r\n",
        "\r\n",
        "\r\n",
        "class Queue:\r\n",
        "    def __init__(self):\r\n",
        "        self.head = None\r\n",
        "        self.tail = None\r\n",
        "\r\n",
        "    def enqueue(self, value):\r\n",
        "        new_node = Node(value)\r\n",
        "        if self.is_empty():\r\n",
        "          self.head = new_node\r\n",
        "          self.tail = new_node\r\n",
        "          return \r\n",
        "\r\n",
        "        self.tail.next = new_node\r\n",
        "        self.tail = new_node\r\n",
        "\r\n",
        "    def dequeue(self):\r\n",
        "        if self.is_empty():\r\n",
        "            return \"Queue is Empty\"\r\n",
        "            \r\n",
        "        delete_head = self.head\r\n",
        "        self.head = self.head.next\r\n",
        "        return delete_head.data\r\n",
        "\r\n",
        "    def peek(self):\r\n",
        "        if self.is_empty():\r\n",
        "            return \"Queue is Empty\"\r\n",
        "            \r\n",
        "        return self.head.data\r\n",
        "\r\n",
        "    def is_empty(self):\r\n",
        "        return self.head is None"
      ],
      "execution_count": null,
      "outputs": []
    },
    {
      "cell_type": "code",
      "metadata": {
        "colab": {
          "base_uri": "https://localhost:8080/"
        },
        "id": "hddL23gFCkvy",
        "outputId": "9356634a-bf16-47ad-d654-0e7d5360ca05"
      },
      "source": [
        "queue = Queue()\r\n",
        "\r\n",
        "queue.enqueue(4)\r\n",
        "print(queue.peek())\r\n",
        "queue.enqueue(4)\r\n",
        "print(queue.peek())\r\n",
        "queue.enqueue(5)\r\n",
        "print(queue.peek())"
      ],
      "execution_count": null,
      "outputs": [
        {
          "output_type": "stream",
          "text": [
            "4\n",
            "4\n",
            "4\n"
          ],
          "name": "stdout"
        }
      ]
    },
    {
      "cell_type": "markdown",
      "metadata": {
        "id": "bfIxR3w8mmtq"
      },
      "source": [
        "# 4-6 DFS\r\n",
        "\r\n",
        "  - 키워드 중 **끝까지** 탐색하란 말이 있으면 DFS\r\n",
        "  - 그래프의 최대깊이만큼의 공간요구(공간적게씀)\r\n",
        "  - 최단경로 탐색이 어려움"
      ]
    },
    {
      "cell_type": "code",
      "metadata": {
        "id": "Ij9dafI-nXKG"
      },
      "source": [
        "# 재귀함수를 통한 구현\r\n",
        "# 위의 그래프를 예시로 삼아서 인접 리스트 방식으로 표현했습니다!\r\n",
        "graph = {\r\n",
        "    1: [2, 5, 9],\r\n",
        "    2: [1, 3],\r\n",
        "    3: [2, 4],\r\n",
        "    4: [3],\r\n",
        "    5: [1, 6, 8],\r\n",
        "    6: [5, 7],\r\n",
        "    7: [6],\r\n",
        "    8: [5],\r\n",
        "    9: [1, 10],\r\n",
        "    10: [9]\r\n",
        "}\r\n",
        "visited = []\r\n",
        "\r\n",
        "\r\n",
        "def dfs_recursion(adjacent_graph, cur_node, visited_array):\r\n",
        "    visited_array.append(cur_node)\r\n",
        "    for adjacent_node in adjacent_graph[cur_node]:\r\n",
        "        if adjacent_node not in visited_array:\r\n",
        "            dfs_recursion(adjacent_graph, adjacent_node, visited_array)\r\n",
        "\r\n",
        "\r\n",
        "dfs_recursion(graph, 1, visited)  # 1 이 시작노드입니다!\r\n",
        "print(visited)  # [1, 2, 3, 4, 5, 6, 7, 8, 9, 10] 이 출력되어야 합니다!"
      ],
      "execution_count": null,
      "outputs": []
    },
    {
      "cell_type": "code",
      "metadata": {
        "colab": {
          "base_uri": "https://localhost:8080/"
        },
        "id": "70vkJQvypCuM",
        "outputId": "1312fad7-a1df-45b6-fbdf-fc02d4af14fa"
      },
      "source": [
        "# 스택을 이용한 DFS의 구현\r\n",
        "# 재귀로 탐색하는것과는 탐색순서가 다르다\r\n",
        "\r\n",
        "# 위의 그래프를 예시로 삼아서 인접 리스트 방식으로 표현했습니다!\r\n",
        "graph = {\r\n",
        "    1: [2, 5, 9],\r\n",
        "    2: [1, 3],\r\n",
        "    3: [2, 4],\r\n",
        "    4: [3],\r\n",
        "    5: [1, 6, 8],\r\n",
        "    6: [5, 7],\r\n",
        "    7: [6],\r\n",
        "    8: [5],\r\n",
        "    9: [1, 10],\r\n",
        "    10: [9]\r\n",
        "}\r\n",
        "\r\n",
        "def dfs_stack(adjacent_graph, start_node):\r\n",
        "    stack = [start_node] # graph\r\n",
        "    visited = []\r\n",
        "    while stack:\r\n",
        "        current_node = stack.pop()\r\n",
        "        visited.append(current_node)\r\n",
        "        for adjacent_node in adjacent_graph[current_node]:\r\n",
        "            if adjacent_node not in visited:\r\n",
        "                stack.append(adjacent_node)\r\n",
        "    return visited\r\n",
        "\r\n",
        "\r\n",
        "print(dfs_stack(graph, 1))  # 1 이 시작노드입니다!\r\n",
        "# [1, 9, 10, 5, 8, 6, 7, 2, 3, 4] 이 출력되어야 합니다!"
      ],
      "execution_count": null,
      "outputs": [
        {
          "output_type": "stream",
          "text": [
            "[1, 9, 10, 5, 8, 6, 7, 2, 3, 4]\n"
          ],
          "name": "stdout"
        }
      ]
    },
    {
      "cell_type": "markdown",
      "metadata": {
        "id": "jDCl0G3_mhvf"
      },
      "source": [
        "# 4 BFS\r\n",
        "\r\n",
        "  - 가장 처음에 넣은 노드부터 탐색 : 큐"
      ]
    },
    {
      "cell_type": "code",
      "metadata": {
        "id": "8WOrl6KZrpRP"
      },
      "source": [
        "# 위의 그래프를 예시로 삼아서 인접 리스트 방식으로 표현했습니다!\r\n",
        "graph = {\r\n",
        "    1: [2, 3, 4],\r\n",
        "    2: [1, 5],\r\n",
        "    3: [1, 6, 7],\r\n",
        "    4: [1, 8],\r\n",
        "    5: [2, 9],\r\n",
        "    6: [3, 10],\r\n",
        "    7: [3],\r\n",
        "    8: [4],\r\n",
        "    9: [5],\r\n",
        "    10: [6]\r\n",
        "}\r\n",
        "\r\n",
        "\r\n",
        "def bfs_queue(adj_graph, start_node):\r\n",
        "    queue = [start_node]\r\n",
        "    visited = []\r\n",
        "\r\n",
        "    while queue:\r\n",
        "        current_node = queue.pop(0)\r\n",
        "        visited.append(current_node)\r\n",
        "        for adjacent_node in adj_graph[current_node]:\r\n",
        "            if adjacent_node not in visited:\r\n",
        "                queue.append(adjacent_node)\r\n",
        "\r\n",
        "    return visited\r\n",
        "\r\n",
        "\r\n",
        "print(bfs_queue(graph, 1))  # 1 이 시작노드입니다!\r\n",
        "# [1, 2, 3, 4, 5, 6, 7, 8, 9, 10] 이 출력되어야 합니다!"
      ],
      "execution_count": null,
      "outputs": []
    },
    {
      "cell_type": "code",
      "metadata": {
        "id": "tMLbIMrhrlF4"
      },
      "source": [
        "# DFS\r\n",
        "\r\n",
        "def dfs_stack(adjacent_graph, start_node):\r\n",
        "    stack = [start_node] # graph\r\n",
        "    visited = []\r\n",
        "    while stack:\r\n",
        "        current_node = stack.pop()\r\n",
        "        visited.append(current_node)\r\n",
        "        for adjacent_node in adjacent_graph[current_node]:\r\n",
        "            if adjacent_node not in visited:\r\n",
        "                stack.append(adjacent_node)\r\n",
        "    return visited\r\n",
        "\r\n",
        "# BFS\r\n",
        "\r\n",
        "def bfs_queue(adj_graph, start_node):\r\n",
        "    queue = [start_node]\r\n",
        "    visited = []\r\n",
        "\r\n",
        "    while queue:\r\n",
        "        current_node = queue.pop(0)\r\n",
        "        visited.append(current_node)\r\n",
        "        for adjacent_node in adj_graph[current_node]:\r\n",
        "            if adjacent_node not in visited:\r\n",
        "                queue.append(adjacent_node)\r\n",
        "\r\n",
        "    return visited"
      ],
      "execution_count": null,
      "outputs": []
    },
    {
      "cell_type": "markdown",
      "metadata": {
        "id": "XafPSarimqaC"
      },
      "source": [
        "# 4 동적계획법\r\n",
        "\r\n",
        "  - 피보나치 수열 비교"
      ]
    },
    {
      "cell_type": "code",
      "metadata": {
        "id": "YfA-jRkwE1CG",
        "colab": {
          "base_uri": "https://localhost:8080/"
        },
        "outputId": "688a75ad-6c76-4ffa-b03d-ee42afcd3226"
      },
      "source": [
        "input = 20\r\n",
        "\r\n",
        "def fibo_recursion(n):\r\n",
        "    if n==1 or n==2:\r\n",
        "      return 1\r\n",
        "    return fibo_recursion(n-1) + fibo_recursion(n-2)\r\n",
        "\r\n",
        "\r\n",
        "print(fibo_recursion(input))  # 6765\r\n",
        "\r\n",
        "# 재귀함수는 연산이 오~래 걸림\r\n",
        "# 이미 결과는 아는 작업을 너무 오래함"
      ],
      "execution_count": null,
      "outputs": [
        {
          "output_type": "stream",
          "text": [
            "6765\n"
          ],
          "name": "stdout"
        }
      ]
    },
    {
      "cell_type": "code",
      "metadata": {
        "colab": {
          "base_uri": "https://localhost:8080/"
        },
        "id": "m5elT0M2yoYG",
        "outputId": "9bf6b86e-13dc-4aee-b554-fe90c5fdd762"
      },
      "source": [
        "## 동적 계획법\r\n",
        "# 하위문제를 풀고 결과를 기록하고 이용함\r\n",
        "# 메모이제이션 = 결과를 기록\r\n",
        "# 겹치는 부분 문제\r\n",
        "# 이 방식은 top > down방식\r\n",
        "\r\n",
        "input = 50\r\n",
        "\r\n",
        "# memo 라는 변수에 Fibo(1)과 Fibo(2) 값을 저장해놨습니다!\r\n",
        "memo = {\r\n",
        "    1: 1,\r\n",
        "    2: 1\r\n",
        "}\r\n",
        "\r\n",
        "\r\n",
        "def fibo_dynamic_programming(n, fibo_memo):\r\n",
        "    if n in fibo_memo:\r\n",
        "        return fibo_memo[n]\r\n",
        "\r\n",
        "    nth_fibo = fibo_dynamic_programming(n - 1, fibo_memo) + fibo_dynamic_programming(n - 2, fibo_memo)\r\n",
        "    fibo_memo[n] = nth_fibo\r\n",
        "    return nth_fibo\r\n",
        "\r\n",
        "\r\n",
        "print(fibo_dynamic_programming(input, memo))"
      ],
      "execution_count": null,
      "outputs": [
        {
          "output_type": "stream",
          "text": [
            "12586269025\n"
          ],
          "name": "stdout"
        }
      ]
    },
    {
      "cell_type": "markdown",
      "metadata": {
        "id": "8OucKx-23h7q"
      },
      "source": [
        "#5 그리디 알고리즘\r\n",
        "![선택정렬이미지](https://media.vlpt.us/post-images/cyranocoding/3adc1a90-b228-11e9-a4ce-730fc6b3757a/1GFhtVNcZXert8McEVrcEIg.png)\r\n"
      ]
    },
    {
      "cell_type": "code",
      "metadata": {
        "id": "WNfcr0V9ze3H",
        "colab": {
          "base_uri": "https://localhost:8080/"
        },
        "outputId": "bf8d00a1-1d5f-4914-d42e-916b006851a7"
      },
      "source": [
        "a= [1,2,3]\r\n",
        "sum(a)"
      ],
      "execution_count": null,
      "outputs": [
        {
          "output_type": "execute_result",
          "data": {
            "text/plain": [
              "6"
            ]
          },
          "metadata": {
            "tags": []
          },
          "execution_count": 1
        }
      ]
    },
    {
      "cell_type": "code",
      "metadata": {
        "colab": {
          "base_uri": "https://localhost:8080/"
        },
        "id": "5dcB3YQZaPUW",
        "outputId": "a94429c0-50e9-44ca-be28-bfc6e9241241"
      },
      "source": [
        "a = int(input())\r\n",
        "list = [int(input()) for i in range(a)]\r\n",
        "\r\n",
        "list.sort()\r\n",
        "\r\n",
        "p = 0\r\n",
        "time = []\r\n",
        "\r\n",
        "for i in range(a):\r\n",
        "  p = p + list[i]\r\n",
        "  time.append(p)\r\n",
        "\r\n",
        "\r\n",
        "print(sum(time))"
      ],
      "execution_count": null,
      "outputs": [
        {
          "output_type": "stream",
          "text": [
            "5\n",
            "3\n",
            "1\n",
            "4\n",
            "3\n",
            "2\n",
            "32\n"
          ],
          "name": "stdout"
        }
      ]
    },
    {
      "cell_type": "code",
      "metadata": {
        "id": "FRutXDqUaqY6"
      },
      "source": [
        ""
      ],
      "execution_count": null,
      "outputs": []
    }
  ]
}