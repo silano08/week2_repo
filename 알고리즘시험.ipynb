{
  "nbformat": 4,
  "nbformat_minor": 0,
  "metadata": {
    "colab": {
      "name": "알고리즘시험.ipynb",
      "provenance": [],
      "collapsed_sections": []
    },
    "kernelspec": {
      "name": "python3",
      "display_name": "Python 3"
    }
  },
  "cells": [
    {
      "cell_type": "markdown",
      "metadata": {
        "id": "Pg05RKkY7_dX"
      },
      "source": [
        "# 첫번째문제\r\n"
      ]
    },
    {
      "cell_type": "code",
      "metadata": {
        "id": "BeI3M0rYvQOW"
      },
      "source": [
        "### 첫시도\r\n",
        "\r\n",
        "N = int(input())\r\n",
        "have = list(map(int,input().split()))\r\n",
        "M = int(input())\r\n",
        "test = list(map(int,input().split()))\r\n",
        "output = []\r\n",
        "\r\n",
        "have.sort()\r\n",
        "test\r\n",
        "\r\n",
        "# 기존방식은 이렇게 한번 훑어주고 똑같은게 있으면 append하는식이었는데 \r\n",
        "# 시간초과뜨기때문에 더 빠른 정렬방법을 찾아야함\r\n",
        "for i in range(M):\r\n",
        "  if test[i] in have:\r\n",
        "    output.append(1)\r\n",
        "  else:\r\n",
        "    output.append(0)\r\n",
        "\r\n",
        "print(output)"
      ],
      "execution_count": null,
      "outputs": []
    },
    {
      "cell_type": "code",
      "metadata": {
        "colab": {
          "base_uri": "https://localhost:8080/"
        },
        "id": "-vnCYp4kwZb9",
        "outputId": "b7b25248-7702-4a51-8a87-b1a0353ea6ad"
      },
      "source": [
        "## 이진탐색을 사용한 두번째시도\r\n",
        "\r\n",
        "N = int(input())\r\n",
        "have = list(map(int,input().split()))\r\n",
        "M = int(input())\r\n",
        "test = list(map(int,input().split()))\r\n",
        "output = []\r\n",
        "\r\n",
        "have.sort()\r\n",
        "\r\n",
        "# 그래서 이진탐색사용하기\r\n",
        "def is_existing_target_number_binary(target, array): #찾으려는 숫자 / 배열\r\n",
        "  current_min = 0\r\n",
        "  current_max = len(array)-1\r\n",
        "  current_guess = (current_min + current_max)//2\r\n",
        "  \r\n",
        "  while current_min <= current_max:\r\n",
        "    if array[current_guess] == target:\r\n",
        "      return output.append(1)\r\n",
        "    elif array[current_guess]<target:\r\n",
        "      current_min = current_guess + 1\r\n",
        "    else:\r\n",
        "      current_max = current_guess - 1\r\n",
        "    current_guess = (current_max + current_min)//2\r\n",
        "  return output.append(0)\r\n",
        "\r\n",
        "for i in range(M):\r\n",
        "  is_existing_target_number_binary(test[i], have)\r\n",
        "  print(output[i])"
      ],
      "execution_count": null,
      "outputs": [
        {
          "output_type": "stream",
          "text": [
            "5\n",
            "6 3 2 10 -10\n",
            "8\n",
            "10 9 -5 2 3 4 5 -10\n",
            "1\n",
            "0\n",
            "0\n",
            "1\n",
            "1\n",
            "0\n",
            "0\n",
            "1\n"
          ],
          "name": "stdout"
        }
      ]
    },
    {
      "cell_type": "code",
      "metadata": {
        "colab": {
          "base_uri": "https://localhost:8080/"
        },
        "id": "6zzDBjIjwoUs",
        "outputId": "793a94b9-c306-4b3e-a3ae-09f28ff9e4a4"
      },
      "source": [
        "### 참고한 코드\r\n",
        "\r\n",
        "N = int(input())\r\n",
        "have = list(map(int,input().split()))\r\n",
        "M = int(input())\r\n",
        "test = list(map(int,input().split()))\r\n",
        "output = []\r\n",
        "\r\n",
        "have.sort()\r\n",
        "\r\n",
        "# 그래서 이진탐색사용하기\r\n",
        "for i in test:\r\n",
        "    low, high = 0, N\r\n",
        "    while low <= high:\r\n",
        "        mid = (low + high) // 2\r\n",
        "        if 0 <= mid < N:\r\n",
        "            if have[mid] < i: low = mid + 1\r\n",
        "            else: high = mid - 1\r\n",
        "        else: break\r\n",
        "    if 0 <= high + 1 < N:\r\n",
        "        if have[high + 1] == i: print(1, end=\" \")\r\n",
        "        else: print(0, end=\" \")\r\n",
        "    else: print(0, end=\" \")"
      ],
      "execution_count": null,
      "outputs": [
        {
          "output_type": "stream",
          "text": [
            "[1, 0, 0, 1, 1, 0, 0, 1]\n"
          ],
          "name": "stdout"
        }
      ]
    },
    {
      "cell_type": "code",
      "metadata": {
        "colab": {
          "base_uri": "https://localhost:8080/"
        },
        "id": "mX3T-CmgzZjR",
        "outputId": "68795d5f-6298-4899-8657-af6147a0c1a3"
      },
      "source": [
        "have.sort()\r\n",
        "test.sort()\r\n",
        "print(have,test)\r\n",
        "\r\n",
        "5\r\n",
        "6 3 2 10 -10\r\n",
        "8\r\n",
        "10 9 -5 2 3 4 5 -10\r\n",
        "[1, 0, 0, 1, 1, 0, 0, 1]"
      ],
      "execution_count": null,
      "outputs": [
        {
          "output_type": "stream",
          "text": [
            "[-10, 2, 3, 6, 10] [-10, -5, 2, 3, 4, 5, 9, 10]\n"
          ],
          "name": "stdout"
        }
      ]
    },
    {
      "cell_type": "markdown",
      "metadata": {
        "id": "PIq_VGpq8Cwy"
      },
      "source": [
        "# 두번째코드"
      ]
    },
    {
      "cell_type": "code",
      "metadata": {
        "colab": {
          "base_uri": "https://localhost:8080/"
        },
        "id": "yScLoFEmxwIE",
        "outputId": "9ff274ad-e17e-41f8-9103-971dac4ac222"
      },
      "source": [
        "card = int(input())\r\n",
        "card = list(range(1,card+1))\r\n",
        "count = 1\r\n",
        "\r\n",
        "while True:\r\n",
        "  if len(card)==1:\r\n",
        "    print(card[0])\r\n",
        "    break\r\n",
        "\r\n",
        "  if count%2==1: # 홀수번째엔 디큐,맨앞에있는거날려야함\r\n",
        "    card = card[1:]\r\n",
        "    count+=1\r\n",
        "  else: # 짝수번째엔 맨앞에있는거 뒤로 붙여줘야함\r\n",
        "    card.append(card[0])\r\n",
        "    card = card[1:]\r\n",
        "    count+=1\r\n",
        "\r\n",
        "# 또 시간초과뜸ㅋㅋㅋㅋㅋㅋㅋㅋㅋㅋㅋㅋㅋㅋㅋㅋㅋㅋㅋ"
      ],
      "execution_count": null,
      "outputs": [
        {
          "output_type": "stream",
          "text": [
            "6\n",
            "4\n",
            "[4]\n"
          ],
          "name": "stdout"
        }
      ]
    },
    {
      "cell_type": "code",
      "metadata": {
        "colab": {
          "base_uri": "https://localhost:8080/"
        },
        "id": "bvGieM1B-Fsw",
        "outputId": "8b1d74c2-89dc-4827-8875-83079b87a0bf"
      },
      "source": [
        "# deque를 따로 import해서 풀어야함\r\n",
        "# 아닌 방식으로 풀었더니 시간초과뜸 deque를 따로 import해서 풀어야함\r\n",
        "\r\n",
        "from collections import deque\r\n",
        "\r\n",
        "card = int(input())\r\n",
        "card = list(range(1,card+1))\r\n",
        "card = deque(card)\r\n",
        "count = 1\r\n",
        "\r\n",
        "\r\n",
        "\r\n",
        "from collections import deque\r\n",
        "\r\n",
        "card = int(input())\r\n",
        "card = list(range(1,card+1))\r\n",
        "card = deque(card)\r\n",
        "count = 1\r\n",
        "\r\n",
        "while len(card)!=1:\r\n",
        "  card.popleft() # 홀수번째일때 날리고\r\n",
        "  card.append(card.popleft()) #짝수번째일때 날린거 뒤로 붙여주고\r\n",
        "\r\n",
        "print(card[0])"
      ],
      "execution_count": null,
      "outputs": [
        {
          "output_type": "stream",
          "text": [
            "6\n",
            "4\n"
          ],
          "name": "stdout"
        }
      ]
    },
    {
      "cell_type": "code",
      "metadata": {
        "colab": {
          "base_uri": "https://localhost:8080/"
        },
        "id": "x5qzpBxm-IY6",
        "outputId": "ae540762-5c75-4e28-c971-7ce84439056c"
      },
      "source": [
        "from collections import deque\r\n",
        "\r\n",
        "card = [1,2,3,4]\r\n",
        "de = deque(card)\r\n",
        "print(de) # deque라는 형식에 담아줘야 popleft함수를 쓸 수 있음"
      ],
      "execution_count": null,
      "outputs": [
        {
          "output_type": "stream",
          "text": [
            "deque([1, 2, 3, 4])\n"
          ],
          "name": "stdout"
        }
      ]
    },
    {
      "cell_type": "markdown",
      "metadata": {
        "id": "Wo7o6Ao9FkjU"
      },
      "source": [
        "# 3번문제"
      ]
    },
    {
      "cell_type": "code",
      "metadata": {
        "colab": {
          "base_uri": "https://localhost:8080/"
        },
        "id": "HRhyAYvDAnTC",
        "outputId": "1cfb46d1-8147-4674-982a-f98154215ab7"
      },
      "source": [
        "# 버블소트\r\n",
        "\r\n",
        "n = int(input())\r\n",
        "M = []\r\n",
        "\r\n",
        "for i in range(n):\r\n",
        "  a = int(input())\r\n",
        "  M.append(a)\r\n",
        "\r\n",
        "def bubble_sort(array):\r\n",
        "    for i in range(len(array)-1):\r\n",
        "      for j in range(len(array)-i-1):\r\n",
        "        if array[j] > array[j+1]:\r\n",
        "          array[j],array[j+1] = array[j+1],array[j]\r\n",
        "    return\r\n",
        "\r\n",
        "bubble_sort(M)\r\n",
        "print(M)  \r\n",
        "\r\n",
        "# 시간초과가 났네요 띠로리~"
      ],
      "execution_count": null,
      "outputs": [
        {
          "output_type": "stream",
          "text": [
            "5\n",
            "5\n",
            "4\n",
            "3\n",
            "2\n",
            "1\n",
            "[1, 2, 3, 4, 5]\n"
          ],
          "name": "stdout"
        }
      ]
    },
    {
      "cell_type": "code",
      "metadata": {
        "colab": {
          "base_uri": "https://localhost:8080/"
        },
        "id": "MMdQABz0HQl7",
        "outputId": "bdf74720-fa99-4d70-d99d-2b6c953a91ea"
      },
      "source": [
        "# 삽입정렬도 시간초과\r\n",
        "\r\n",
        "n = int(input())\r\n",
        "M = []\r\n",
        "\r\n",
        "for i in range(n):\r\n",
        "  a = int(input())\r\n",
        "  M.append(a)\r\n",
        "\r\n",
        "def merge_sort(array):\r\n",
        "    if len(array) <= 1:\r\n",
        "        return array\r\n",
        "    mid = len(array) // 2\r\n",
        "    left_array = array[:mid]\r\n",
        "    right_array = array[mid:]\r\n",
        "    return merge(merge_sort(left_array), merge_sort(right_array))\r\n",
        "\r\n",
        "merge_sort(M)\r\n",
        "print(M)  \r\n"
      ],
      "execution_count": null,
      "outputs": [
        {
          "output_type": "stream",
          "text": [
            "5\n",
            "5\n",
            "4\n",
            "3\n",
            "2\n",
            "1\n",
            "[1, 2, 3, 4, 5]\n"
          ],
          "name": "stdout"
        }
      ]
    },
    {
      "cell_type": "code",
      "metadata": {
        "colab": {
          "base_uri": "https://localhost:8080/"
        },
        "id": "HhM4tBu1Into",
        "outputId": "03039c88-f31c-4265-d60b-7f07c7c6a0d6"
      },
      "source": [
        "n = int(input())\r\n",
        "M = []\r\n",
        "\r\n",
        "for i in range(n):\r\n",
        "  a = int(input())\r\n",
        "  M.append(a)\r\n",
        "\r\n",
        "M = sorted(M)\r\n",
        "\r\n",
        "for i in M:\r\n",
        "  print(i)"
      ],
      "execution_count": null,
      "outputs": [
        {
          "output_type": "stream",
          "text": [
            "5\n",
            "5\n",
            "4\n",
            "3\n",
            "2\n",
            "1\n",
            "1\n",
            "2\n",
            "3\n",
            "4\n",
            "5\n"
          ],
          "name": "stdout"
        }
      ]
    },
    {
      "cell_type": "code",
      "metadata": {
        "id": "VU2iYTNsJmsI"
      },
      "source": [
        ""
      ],
      "execution_count": null,
      "outputs": []
    }
  ]
}