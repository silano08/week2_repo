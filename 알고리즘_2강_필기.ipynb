{
  "nbformat": 4,
  "nbformat_minor": 0,
  "metadata": {
    "colab": {
      "name": "알고리즘_2강_필기.ipynb",
      "provenance": [],
      "collapsed_sections": []
    },
    "kernelspec": {
      "name": "python3",
      "display_name": "Python 3"
    }
  },
  "cells": [
    {
      "cell_type": "markdown",
      "metadata": {
        "id": "KylBXvKaXr8b"
      },
      "source": [
        "#알고리즘이란?"
      ]
    },
    {
      "cell_type": "markdown",
      "metadata": {
        "id": "FFrV9MzK6mIY"
      },
      "source": [
        "# 1강"
      ]
    },
    {
      "cell_type": "code",
      "metadata": {
        "id": "JPzgM9ubXpY_",
        "colab": {
          "base_uri": "https://localhost:8080/"
        },
        "outputId": "a5f94a3d-a8b2-4b25-ccb0-12d13003f339"
      },
      "source": [
        "# 최댓값 찾기\r\n",
        "input = [3, 5, 6, 1, 2, 4]\r\n",
        "\r\n",
        "\r\n",
        "def find_max_num(array):\r\n",
        "    a = max(input)\r\n",
        "    return a\r\n",
        "\r\n",
        "\r\n",
        "result = find_max_num(input)\r\n",
        "print(result)"
      ],
      "execution_count": null,
      "outputs": [
        {
          "output_type": "stream",
          "text": [
            "6\n"
          ],
          "name": "stdout"
        }
      ]
    },
    {
      "cell_type": "code",
      "metadata": {
        "id": "v60T5UZqCPNS"
      },
      "source": [
        "# 아마 원래는 이런코드\r\n",
        "input = [3, 5, 6, 1, 2, 4]\r\n",
        "\r\n",
        "\r\n",
        "def find_max_num(array):\r\n",
        "    max_num = array[0]\r\n",
        "    for num in array:\r\n",
        "        if num > max_num:\r\n",
        "            max_num = num\r\n",
        "    return max_num\r\n",
        "\r\n",
        "result = find_max_num(input)\r\n",
        "print(result)"
      ],
      "execution_count": null,
      "outputs": []
    },
    {
      "cell_type": "code",
      "metadata": {
        "colab": {
          "base_uri": "https://localhost:8080/",
          "height": 136
        },
        "id": "OaK6ecNK0OU9",
        "outputId": "f43218ad-2b0a-49bd-da41-60d5b34173d2"
      },
      "source": [
        "# 최빈값 찾기\r\n",
        "# input = [\"hello my name is sparta\"]\r\n",
        "input = \"aaaftta\"\r\n",
        "a = list(set(input))\r\n",
        "cnt_list=[]\r\n",
        "for i in a:\r\n",
        "  print(input.count(i))\r\n",
        "  print()"
      ],
      "execution_count": null,
      "outputs": [
        {
          "output_type": "error",
          "ename": "SyntaxError",
          "evalue": "ignored",
          "traceback": [
            "\u001b[0;36m  File \u001b[0;32m\"<ipython-input-2-3508e69f5d33>\"\u001b[0;36m, line \u001b[0;32m4\u001b[0m\n\u001b[0;31m    def max_str(a)\u001b[0m\n\u001b[0m                  ^\u001b[0m\n\u001b[0;31mSyntaxError\u001b[0m\u001b[0;31m:\u001b[0m invalid syntax\n"
          ]
        }
      ]
    },
    {
      "cell_type": "code",
      "metadata": {
        "id": "nlfLKVTICfTw"
      },
      "source": [
        "input = [2,2,2,5,5,5,6,6,6,6,6,6,9,9,11,11,11,11,11,11]\r\n",
        " \r\n",
        "max_input = max(input)\r\n",
        "my_list = [0] * max_input\r\n",
        "print(my_list) #11개가 생김\r\n",
        "for i in input:\r\n",
        "    my_list[i-1] += 1 #input의 값을 my_list의 index라고 하고 나올때마다 +1하는 것이다.\r\n",
        "    #i-1을 하는 이유는 파이썬의 index는 0부터 시작하기 때문이다.\r\n",
        "    #즉 input의 1의 값은 my_list의 첫번째 index인 0번 index에서 +1을 하기위해서이다.\r\n",
        "print(my_list)  \r\n",
        "#[0, 3, 0, 0, 3, 6, 0, 0, 2, 0, 6]\r\n",
        "#2-3번, 5-3번, 6-6번, 9-2번, 11-6번 나옴\r\n",
        " \r\n",
        "#-------------경우1, 2의 다른 부분----------------#\r\n",
        "num = 0 #최빈값의 개수\r\n",
        "my_most = 0 #최빈값을 알기 위한 변수 -my_list의 위치 반환\r\n",
        "for k in my_list:\r\n",
        "    my_most += 1 #my_list의 위치값 = input의 값\r\n",
        "    if k == max(my_list):\r\n",
        "        num += 1 #최빈값이 나올때만 증가시킴\r\n",
        "        print('input 리스트에서, 여러 최빈값중 %d번째 최빈값은 %d 이며, 총 %d번 나왔다.'\r\n",
        "              % (num, my_most,max(my_list)))\r\n",
        "        \r\n",
        "print('이 input리스트에서 최빈값의 개수는 %d개 이다' % num)\r\n",
        "#------------------------------------------------#"
      ],
      "execution_count": null,
      "outputs": []
    },
    {
      "cell_type": "markdown",
      "metadata": {
        "id": "DMM7BPLQ973w"
      },
      "source": [
        "### 잠깐 개념잡고가기\r\n",
        "\r\n",
        "시간복잡도: 빅오표기법 for문이 돌면 N , 비교연산자가 돌면 1 < 결국 얼마나 빠르게실행되냐가 관건\r\n",
        "\r\n",
        "공간복잡도: 얘도 빅오표기법 사용함 < 얼마의 자원이 필요한가\r\n",
        "  1. 총공간 = 고정공간 + 가변공간\r\n",
        "  고정공간: 코드저장공간, 단순변수 그외 입출력과 관계없는 공간들\r\n",
        "  가변공간: 문제를 해결할때 쓰는 동적공간\r\n",
        "\r\n",
        "그러나 사실 요즘엔 공간복잡도보다 시간복잡도를 중요시하는 경향이있음\r\n",
        "\r\n",
        "점근 표기법\r\n",
        " 빅오표기법: 최악의 성능인 경우 어느정도의 연산량인지\r\n",
        " 빅오메가표기법: 최선의 성능이 나올때 어느정도의 연산량인지\r\n"
      ]
    },
    {
      "cell_type": "code",
      "metadata": {
        "id": "3I2XmDGC_JBT"
      },
      "source": [
        "# 배열에서 특정요소찾기\r\n",
        "input = [3, 5, 6, 1, 2, 4]\r\n",
        "\r\n",
        "\r\n",
        "def is_number_exist(number, array):\r\n",
        "  for a in array:\r\n",
        "    if number == a:\r\n",
        "      return True\r\n",
        "  return False\r\n",
        "\r\n",
        "\r\n",
        "result = is_number_exist(3, input)\r\n",
        "print(result)"
      ],
      "execution_count": null,
      "outputs": []
    },
    {
      "cell_type": "markdown",
      "metadata": {
        "id": "5VnfoPybG5CD"
      },
      "source": [
        "위의 예시의 경우(시간복잡도를 기준으로) 최선의 경우는 처음 for문을 돌릴때 찾는숫자가 있어서 1번의 연산만에 끝나는것 즉 Ω(1)이 최선이고 최악은 O(N)인셈"
      ]
    },
    {
      "cell_type": "code",
      "metadata": {
        "id": "uZRYZb6wHZ5n"
      },
      "source": [
        "# 소수 나열하기\r\n",
        "input = 20\r\n",
        "\r\n",
        "\r\n",
        "def find_prime_list_under_number(number):\r\n",
        "    prime_list = []\r\n",
        "    for n in range(2, number + 1):\r\n",
        "        for i in range(2, n):\r\n",
        "            if n % i == 0:\r\n",
        "                break\r\n",
        "        else:\r\n",
        "            prime_list.append(n)\r\n",
        "\r\n",
        "    return prime_list\r\n",
        "\r\n",
        "\r\n",
        "result = find_prime_list_under_number(input)\r\n",
        "print(result)"
      ],
      "execution_count": null,
      "outputs": []
    },
    {
      "cell_type": "code",
      "metadata": {
        "id": "GMA_VfefHkoO"
      },
      "source": [
        "# 소수나열 개선버전\r\n",
        "\r\n",
        "input = 20\r\n",
        "\r\n",
        "\r\n",
        "def find_prime_list_under_number(number):\r\n",
        "    prime_list = []\r\n",
        "\r\n",
        "    for n in range(2, number + 1):\r\n",
        "        for i in prime_list:\r\n",
        "            if n % i == 0 and i * i <= n:\r\n",
        "                break\r\n",
        "        else:\r\n",
        "            prime_list.append(n)\r\n",
        "\r\n",
        "    return prime_list\r\n",
        "\r\n",
        "\r\n",
        "result = find_prime_list_under_number(input)\r\n",
        "print(result)"
      ],
      "execution_count": null,
      "outputs": []
    },
    {
      "cell_type": "markdown",
      "metadata": {
        "id": "diuT5PndHk11"
      },
      "source": [
        "# 2주차/2강\r\n",
        "  1. Array & Linked list\r\n",
        "  2. 이진탐색 & 재귀함수\r\n"
      ]
    },
    {
      "cell_type": "markdown",
      "metadata": {
        "id": "G9oIZDGIPiVn"
      },
      "source": [
        "## Sub1. Array\r\n",
        "\r\n",
        "  - 참고로 코딩에서 변수를 옮길 때 한번에 하나씩 옮길 수 있다.\r\n",
        "  - 배열은 각 원소(인덱스)에 즉시 접근 가능하다. = O(1)내에 접근할수있다\r\n",
        "  - 배열을 바꾸는 경우: 최악의 경우일시 O(N)인 시간복잡도\r\n",
        "  - 한번 정해진 배열을 늘리는것이 불가능하기에 새로운 공간을 할당해야하므로 비효율적인 자료구조인셈\r\n",
        "\r\n",
        "## Sub2. Linked List(List)\r\n",
        "```python\r\n",
        "train_compartments = [\"기관실\"] -> [\"시멘트\"] -> [\"자갈\"] -> [\"밀가루\"] -> [\"우편\"]\r\n",
        "```\r\n",
        "이런식으로 이어져있다. 즉 노드 포인터 노드의 구조\r\n",
        "\r\n",
        "  - 리스트는 크기가 정해지지 않는 데이터의 공간, 얼마든 늘어날수있음\r\n",
        "  - 특정원소에 접근하려면 탐색을 해야하기에 O(N)이 걸린다\r\n",
        "  - 리스트는 포인터만 변경해주면 원소 삽입/삭제가 O(1)시간내에 가능\r\n",
        "\r\n",
        "즉, 데이터 조회가 많으면 Array 삽입삭제가 많으면 LinkedList를 사용해야함\r\n",
        "\r\n",
        "PS 파이썬에서 list는 array로 구현이 되어있음.(아이러니하게도) 그러나 새로운 배열생성에 동적배열이라는걸 사용해서 길이가 늘어나도 O(1)의 시간복잡도가 걸리게 설계함\r\n",
        "즉, 파이썬의 배열은 링크드리스트로 쓸수도있고 배열로도 쓸수있게만든 효율적인 자료구조인셈!\r\n",
        "\r\n",
        "검색키워드 #동적배열"
      ]
    },
    {
      "cell_type": "markdown",
      "metadata": {
        "id": "-lofdzxzSU6B"
      },
      "source": [
        "## 2-1\r\n",
        "# 추가개념 : 클래스\r\n",
        "\r\n",
        " - 클래스는 분류,집합 같은 속성과 기능을 가진 객체를 총칭"
      ]
    },
    {
      "cell_type": "code",
      "metadata": {
        "colab": {
          "base_uri": "https://localhost:8080/"
        },
        "id": "NuKR1mAiHlzf",
        "outputId": "abcede04-c14e-4ea8-9987-7f371c7ee5db"
      },
      "source": [
        "# 클래스\r\n",
        "# 파이썬 생성자에 대해 자세히 알아보자\r\n",
        "\r\n",
        "class Person(): #파이썬 클래스는 자기자신을 원래 알아서 넘겨준다\r\n",
        "  def __init__(self,param_name):\r\n",
        "    print(self)\r\n",
        "    # 자기자신안에 변수를 만들어서 저장해두겠다\r\n",
        "    self.name = param_name\r\n",
        "\r\n",
        "  def talk(self): # 클래스 내부함수는 메소드\r\n",
        "    print(\"제 이름은\",self.name)\r\n",
        "\r\n",
        "\r\n",
        "person_1 = Person(\"긍긍\")\r\n",
        "print(person_1.name)\r\n",
        "person_1.talk()"
      ],
      "execution_count": null,
      "outputs": [
        {
          "output_type": "stream",
          "text": [
            "<__main__.Person object at 0x7ff82fb9dc50>\n",
            "긍긍\n",
            "제 이름은 긍긍\n"
          ],
          "name": "stdout"
        }
      ]
    },
    {
      "cell_type": "markdown",
      "metadata": {
        "id": "_pHp1zDoYpMu"
      },
      "source": [
        "## 2-2\r\n",
        "# Linked List\r\n",
        "\r\n",
        "  - 노드에 들은 정보 \r\n",
        "    1. 칸에있는데이터\r\n",
        "    2. 다음칸이 뭔지"
      ]
    },
    {
      "cell_type": "code",
      "metadata": {
        "id": "KaxlHhAqQTfY"
      },
      "source": [
        "class Node:\r\n",
        "  def __init__(self,data):\r\n",
        "    self.data = data\r\n",
        "    self.next = None\r\n",
        "\r\n",
        "# 노드를 연결\r\n",
        "\r\n",
        "node1 = Node(5)\r\n",
        "node2 = Node(11)\r\n",
        "# 포인터를 지목\r\n",
        "node1.next = node2"
      ],
      "execution_count": null,
      "outputs": []
    },
    {
      "cell_type": "code",
      "metadata": {
        "colab": {
          "base_uri": "https://localhost:8080/"
        },
        "id": "9T7UUT3mZcCk",
        "outputId": "d5dba0f3-c274-4179-aed9-ade378b50467"
      },
      "source": [
        "class Linkedlist:\r\n",
        "  def __init__(self,data):\r\n",
        "    # Node라는 다른클래스를 들고와서 적용하기\r\n",
        "    self.head = Node(data)\r\n",
        "\r\n",
        "  def append(self,data):\r\n",
        "    cur = self.head\r\n",
        "    while cur.next is not None:\r\n",
        "      cur = cur.next\r\n",
        "    cur.next = Node(data)\r\n",
        "    print(cur.data)\r\n",
        "\r\n",
        "  def print_all(self):\r\n",
        "    cur = self.head  # 헤드노드부터 선언시작\r\n",
        "    while cur is not None:\r\n",
        "      print(cur.data) # cur이면 생성자 주소가 찍히고 cur.data여야 주소안의 데이터가 찍힘\r\n",
        "      cur = cur.next\r\n",
        "\r\n",
        "  # head node만 가지고있음\r\n",
        "  # 다음노드를 보려면 각 노드의 next를 조회해서 찾아갸아햄\r\n",
        "\r\n",
        "linked_list = Linkedlist(3)\r\n",
        "# linked_list.append(4)\r\n",
        "# linked_list.append(5)\r\n",
        "\r\n",
        "linked_list.print_all()"
      ],
      "execution_count": null,
      "outputs": [
        {
          "output_type": "stream",
          "text": [
            "3\n",
            "4\n",
            "3\n",
            "4\n",
            "5\n"
          ],
          "name": "stdout"
        }
      ]
    },
    {
      "cell_type": "code",
      "metadata": {
        "id": "yWtzOr5cCg5v"
      },
      "source": [
        "############ 원소찾기 추가버전\r\n",
        "\r\n",
        "class Node:\r\n",
        "    def __init__(self, data):\r\n",
        "        self.data = data\r\n",
        "        self.next = None\r\n",
        "\r\n",
        "\r\n",
        "class LinkedList:\r\n",
        "    def __init__(self, value):\r\n",
        "        self.head = Node(value)\r\n",
        "\r\n",
        "    def append(self, value):\r\n",
        "        cur = self.head\r\n",
        "        while cur.next is not None:\r\n",
        "            cur = cur.next\r\n",
        "        cur.next = Node(value)\r\n",
        "\r\n",
        "    def print_all(self):\r\n",
        "        cur = self.head\r\n",
        "        while cur is not None:\r\n",
        "            print(cur.data)\r\n",
        "            cur = cur.next\r\n",
        "\r\n",
        "    def get_node(self, index):\r\n",
        "      node = self.head\r\n",
        "      count = 0\r\n",
        "      while count < index:\r\n",
        "        node = node.next\r\n",
        "        count +=1\r\n",
        "      return node \r\n",
        "      # 여기다가 node.data를 취해서 바로 데이터값을 주려했는데 \r\n",
        "      # 그럴시에 get_node함수를 다른곳에서 쓰면 위치를 못가져옴\r\n",
        "\r\n",
        "    # 이또한 위치를 기준으로 모든 연산자를 생각함\r\n",
        "    # 5 > 12 > 8 사이에 6을 삽입한다고 가정한다면\r\n",
        "    def add_node(self, index, value): # 몇번값에 뭐를 추가할건지\r\n",
        "      new_node = Node(value) #[6]\r\n",
        "      if index ==0 :\r\n",
        "        new_node.next = self.head #이렇게 미리 정해놔야됨.\r\n",
        "        # [6] > [5]\r\n",
        "        self.head = new_node # 이것만 넣었다면 이전에 받은 노드들이 전부 사라져버림\r\n",
        "        # 지정하고나서야 head > [6] > [5] > ..\r\n",
        "        return\r\n",
        "       \r\n",
        "      ### 주의할점은 이런식으로 인덱시-1처리를 할때는 꼭 0이란 예외상황을 고려해야함\r\n",
        "      node = self.get_node(index - 1) #[5]\r\n",
        "      #클래스내에있는 다른함수를 호출\r\n",
        "      next_node = node.next #[12]\r\n",
        "      node.next = new_node #[5] > [6]\r\n",
        "      new_node.next = next_node #[6] > [12]\r\n",
        "    \r\n",
        "    def delete_node(self, index):\r\n",
        "      if index ==0: # 헤드노드를 바꾸고싶다면 이렇게\r\n",
        "        self.head = self.head.next\r\n",
        "      node = self.get_node(index-1)\r\n",
        "      node.next = node.next.next # node의 다음을 그냥 그 다음이라고 알려주기만하면끝\r\n",
        "        return \"index 번째 Node를 제거해주세요!\""
      ],
      "execution_count": null,
      "outputs": []
    },
    {
      "cell_type": "code",
      "metadata": {
        "colab": {
          "base_uri": "https://localhost:8080/"
        },
        "id": "B-zc-EPmH-Ag",
        "outputId": "3f291ce5-df4a-4af9-bac3-2ebc5b77709c"
      },
      "source": [
        "\r\n",
        "linked_list = LinkedList(5)\r\n",
        "linked_list.append(12)\r\n",
        "linked_list.append(2)\r\n",
        "linked_list.append(3)\r\n",
        "# print(linked_list.get_node(1)) # -> 5를 들고 있는 노드를 반환해야 합니다!\r\n",
        "\r\n",
        "linked_list.add_node(1,6)\r\n",
        "linked_list.print_all()"
      ],
      "execution_count": null,
      "outputs": [
        {
          "output_type": "stream",
          "text": [
            "5\n",
            "6\n",
            "12\n",
            "2\n",
            "3\n"
          ],
          "name": "stdout"
        }
      ]
    },
    {
      "cell_type": "markdown",
      "metadata": {
        "id": "L7ssL2QAan1m"
      },
      "source": [
        "### 두 링크드 리스트 합 계산"
      ]
    },
    {
      "cell_type": "code",
      "metadata": {
        "colab": {
          "base_uri": "https://localhost:8080/"
        },
        "id": "RDXvNpzAanZo",
        "outputId": "bf3303b9-9080-42b9-acd6-d2ed7c162e22"
      },
      "source": [
        "class Node:\r\n",
        "    def __init__(self, data):\r\n",
        "        self.data = data\r\n",
        "        self.next = None\r\n",
        "\r\n",
        "\r\n",
        "class LinkedList:\r\n",
        "    def __init__(self, value):\r\n",
        "        self.head = Node(value)\r\n",
        "\r\n",
        "    def append(self, value):\r\n",
        "        cur = self.head\r\n",
        "        while cur.next is not None:\r\n",
        "            cur = cur.next\r\n",
        "        cur.next = Node(value)\r\n",
        "\r\n",
        "\r\n",
        "def get_linked_list_sum(linked_list_1, linked_list_2):\r\n",
        "    sum_1 = _get_linked_list_sum(linked_list_1)\r\n",
        "    sum_2 = _get_linked_list_sum(linked_list_2)\r\n",
        "    return sum_1 + sum_2\r\n",
        "\r\n",
        "def _get_linked_list_sum(linked_list):\r\n",
        "    linked_list_sum = 0\r\n",
        "    head = linked_list.head\r\n",
        "    while head is not None:\r\n",
        "      linked_list_sum = linked_list_sum*10 + head.data\r\n",
        "      # 6 > 67 > 678 자릿수에 맞게 돌때마다 10씩 곱해주는거임\r\n",
        "      head = head.next\r\n",
        "    return linked_list_sum \r\n",
        "\r\n",
        "# 6 > 7 > 8\r\n",
        "linked_list_1 = LinkedList(6)\r\n",
        "linked_list_1.append(7)\r\n",
        "linked_list_1.append(8)\r\n",
        "\r\n",
        "# 3 > 5 > 4\r\n",
        "linked_list_2 = LinkedList(3)\r\n",
        "linked_list_2.append(5)\r\n",
        "linked_list_2.append(4)\r\n",
        "\r\n",
        "# 678 + 354 = 1032 로 만들어야하는셈\r\n",
        "print(get_linked_list_sum(linked_list_1, linked_list_2))"
      ],
      "execution_count": null,
      "outputs": [
        {
          "output_type": "stream",
          "text": [
            "1032\n"
          ],
          "name": "stdout"
        }
      ]
    },
    {
      "cell_type": "markdown",
      "metadata": {
        "id": "gYy_lh5TtPPq"
      },
      "source": [
        "## 2-3\r\n",
        "# 이진탐색\r\n",
        "\r\n",
        "  - 알고리즘중에서 가장 효율적인 탐색 방법. 절반으로 나눠가며 탐색하는 방식\r\n",
        "  - 시간복잡도를 고려하자면 N/2^k = 1임 즉 O(logN)의 시간복잡도가 걸림"
      ]
    },
    {
      "cell_type": "code",
      "metadata": {
        "id": "kTsiCX6YNl7_",
        "colab": {
          "base_uri": "https://localhost:8080/"
        },
        "outputId": "d344ee39-5b9b-48b6-f8de-80449e28c8d8"
      },
      "source": [
        "finding_target = 39\r\n",
        "finding_numbers = [1, 2, 3, 4, 5, 6, 7, 8, 9, 10, 11, 12, 13, 14, 15, 16,39]\r\n",
        "\r\n",
        "\r\n",
        "def is_existing_target_number_binary(target, array): #찾으려는 숫자 / 배열\r\n",
        "  current_min = 0\r\n",
        "  current_max = len(array)-1\r\n",
        "  current_guess = (current_min + current_max)//2\r\n",
        "  \r\n",
        "  while current_min <= current_max:\r\n",
        "    if array[current_guess] == target:\r\n",
        "      return True\r\n",
        "    elif array[current_guess]<target:\r\n",
        "      current_min = current_guess + 1\r\n",
        "    else:\r\n",
        "      current_max = current_guess - 1\r\n",
        "    current_guess = (current_max + current_min)//2\r\n",
        "  return False\r\n",
        "\r\n",
        "result = is_existing_target_number_binary(finding_target, finding_numbers)\r\n",
        "print(result)"
      ],
      "execution_count": null,
      "outputs": [
        {
          "output_type": "stream",
          "text": [
            "True\n"
          ],
          "name": "stdout"
        }
      ]
    },
    {
      "cell_type": "code",
      "metadata": {
        "id": "VRUa60Fr_HMc"
      },
      "source": [
        "# 무작위수찾기\r\n",
        "# 이거 이진탐색사용하지않음\r\n",
        "# 이진탐색은 정렬이 된 데이터만 사용가능\r\n",
        "\r\n",
        "finding_target = 2\r\n",
        "finding_numbers = [0, 3, 5, 6, 1, 2, 4]\r\n",
        "\r\n",
        "def is_exist_target_number_binary(target, numbers):\r\n",
        "    # 이 부분을 채워보세요!\r\n",
        "    return 1\r\n",
        "\r\n",
        "\r\n",
        "result = is_exist_target_number_binary(finding_target, finding_numbers)\r\n",
        "print(result)"
      ],
      "execution_count": null,
      "outputs": []
    },
    {
      "cell_type": "code",
      "metadata": {
        "colab": {
          "base_uri": "https://localhost:8080/"
        },
        "id": "VF_lNIssAUkV",
        "outputId": "ce8238ca-4030-46cd-f931-d9fd2c393f1b"
      },
      "source": [
        "len(array)"
      ],
      "execution_count": null,
      "outputs": [
        {
          "output_type": "execute_result",
          "data": {
            "text/plain": [
              "16"
            ]
          },
          "metadata": {
            "tags": []
          },
          "execution_count": 2
        }
      ]
    },
    {
      "cell_type": "markdown",
      "metadata": {
        "id": "64BHZnVKmVPv"
      },
      "source": [
        "## 2-4\r\n",
        "# 재귀함수\r\n",
        "\r\n",
        "  - "
      ]
    },
    {
      "cell_type": "code",
      "metadata": {
        "id": "retqkuXhmqya"
      },
      "source": [
        "def count_down(number):\r\n",
        "    print(number)          # number를 출력하고\r\n",
        "    if number>0:\r\n",
        "      count_down(number - 1) # count_down 함수를 number - 1 인자를 주고 다시 호출한다!\r\n",
        "    elif number ==0:\r\n",
        "      print(\"뻥!!!!!\")\r\n",
        "\r\n",
        "count_down(60)"
      ],
      "execution_count": null,
      "outputs": []
    },
    {
      "cell_type": "code",
      "metadata": {
        "id": "LvLLYPHiAWUa",
        "colab": {
          "base_uri": "https://localhost:8080/"
        },
        "outputId": "fce515c3-6501-4339-ee02-b4d900e831c2"
      },
      "source": [
        "# 팩토리얼\r\n",
        "\r\n",
        "res = 1\r\n",
        "\r\n",
        "def factorial(n):\r\n",
        "    if n==1:\r\n",
        "      return 1\r\n",
        "    return n*factorial(n-1)\r\n",
        "\r\n",
        "\r\n",
        "print(factorial(5))"
      ],
      "execution_count": null,
      "outputs": [
        {
          "output_type": "stream",
          "text": [
            "120\n"
          ],
          "name": "stdout"
        }
      ]
    },
    {
      "cell_type": "code",
      "metadata": {
        "colab": {
          "base_uri": "https://localhost:8080/"
        },
        "id": "Ks6yfIrHrjgx",
        "outputId": "ce7907e8-0fab-49ab-f2f3-17f15abea59c"
      },
      "source": [
        "# 회문검사\r\n",
        "\r\n",
        "input = \"abcba\"\r\n",
        "\r\n",
        "\r\n",
        "def is_palindrome(string):\r\n",
        "    n = len(string)\r\n",
        "    for i in range(n):\r\n",
        "      if string[i] != string[n-1-i]:\r\n",
        "        return False\r\n",
        "      \r\n",
        "    return True\r\n",
        "\r\n",
        "\r\n",
        "print(is_palindrome(input))"
      ],
      "execution_count": null,
      "outputs": [
        {
          "output_type": "stream",
          "text": [
            "True\n"
          ],
          "name": "stdout"
        }
      ]
    },
    {
      "cell_type": "code",
      "metadata": {
        "colab": {
          "base_uri": "https://localhost:8080/"
        },
        "id": "jV0V2CCj1lTc",
        "outputId": "1e48e972-a1de-4370-bc9a-bab359982555"
      },
      "source": [
        "# 회문검사 재귀함수로 풀기\r\n",
        "\r\n",
        "input = \"abcba\"\r\n",
        "\r\n",
        "\r\n",
        "def is_palindrome(string):\r\n",
        "  n = len(string)\r\n",
        "  if string[0] != string[-1]:\r\n",
        "    return False\r\n",
        "  if len(string)<=1:\r\n",
        "    return True\r\n",
        "  return is_palindrome(string[1:-1])\r\n",
        "\r\n",
        "\r\n",
        "print(is_palindrome(input))"
      ],
      "execution_count": null,
      "outputs": [
        {
          "output_type": "stream",
          "text": [
            "True\n"
          ],
          "name": "stdout"
        }
      ]
    },
    {
      "cell_type": "code",
      "metadata": {
        "id": "X_yCHMWo1-XZ"
      },
      "source": [
        "a = \"123456\"[1:-1]\r\n",
        "a"
      ],
      "execution_count": null,
      "outputs": []
    },
    {
      "cell_type": "code",
      "metadata": {
        "colab": {
          "base_uri": "https://localhost:8080/",
          "height": 35
        },
        "id": "FKyAqOv32vLa",
        "outputId": "d3dc3222-3c0e-4005-9959-fb217b399201"
      },
      "source": [
        "a"
      ],
      "execution_count": null,
      "outputs": [
        {
          "output_type": "execute_result",
          "data": {
            "application/vnd.google.colaboratory.intrinsic+json": {
              "type": "string"
            },
            "text/plain": [
              "'2345'"
            ]
          },
          "metadata": {
            "tags": []
          },
          "execution_count": 40
        }
      ]
    },
    {
      "cell_type": "code",
      "metadata": {
        "id": "Df1MEqCl2v4o"
      },
      "source": [
        ""
      ],
      "execution_count": null,
      "outputs": []
    }
  ]
}